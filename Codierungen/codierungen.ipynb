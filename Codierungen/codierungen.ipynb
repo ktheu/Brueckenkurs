{
 "cells": [
  {
   "cell_type": "markdown",
   "id": "1d90280b-cfa7-4613-8000-90e0a4babdb8",
   "metadata": {},
   "source": [
    "### Fehlererkennende Codierungen\n",
    "\n",
    "#### EAN-13\n",
    "\n",
    "Der EAN bzw. GTIN-Code (European Article Number, Global Trade Item Number) identifiziert eindeutig jeden Artikel im Warenbestand eines Supermarkts und ermöglicht den Bezahlvorgang an der Kasse. \n",
    "\n",
    "<img src='./ean.png' width='500'>\n",
    "\n",
    "Die Prüfziffer eines EAN-13-Codes wird wie folgt berechnet: Jede der ersten 12 Ziffern wird\n",
    "abwechselnd mit dem Faktor 1 und dem Faktor 3 multipliziert. Die Summe dieser Zahlen heißt gewichtete Quersumme."
   ]
  },
  {
   "cell_type": "code",
   "execution_count": null,
   "id": "688d3aa9-09c1-4322-b2d0-3695205eb47e",
   "metadata": {},
   "outputs": [],
   "source": [
    "gq = 9*1 + 7*3 + 8*1 + 3*3 + 1*1 + 2*3 + 7*1 + 3*3 + 3*1 + 3*3 + 8*1 + 1*3   # gewichtete quersumme\n",
    "gq"
   ]
  },
  {
   "cell_type": "markdown",
   "id": "ca8b1bf9-587a-4b9a-aa2f-fc65c88e3ea5",
   "metadata": {},
   "source": [
    "Die Differenz der gewichteten Quersumme zur nächsten Zehnerzahl ist die Prüfziffer. <br>\n",
    "Ist die gewichtete Quersumme bereits eine Zehnerzahl, ist die Prüfziffer 0."
   ]
  },
  {
   "cell_type": "code",
   "execution_count": null,
   "id": "3d80aee7-e2ad-41e6-acd6-ff5d4c566c74",
   "metadata": {},
   "outputs": [],
   "source": [
    "100-93"
   ]
  },
  {
   "cell_type": "markdown",
   "id": "e32075d2-4a3e-4b19-a273-bfc19bf2da73",
   "metadata": {},
   "source": [
    "Durch die Prüfziffer des EAN-Codes werden die folgenden Fehlerfälle erkannt:\n",
    "\n",
    "- eine Ziffer falsch (immer)\n",
    "- benachbarte Ziffern vertauscht (meistens)"
   ]
  },
  {
   "cell_type": "markdown",
   "id": "cf11a5c0-ff98-40ee-83c4-8dca4dee7258",
   "metadata": {},
   "source": [
    "Fall1: eine Ziffer falsch\n",
    "\n",
    "![](fehler1.png)"
   ]
  },
  {
   "cell_type": "markdown",
   "id": "a8aa2441-53c7-4685-aa06-0b95c81b281b",
   "metadata": {},
   "source": [
    "Fall2: benachbarte Ziffern vertauscht\n",
    "\n",
    "![](fehler2.png)"
   ]
  },
  {
   "cell_type": "code",
   "execution_count": null,
   "id": "a1df95b5-8c66-4570-a899-425212bd5458",
   "metadata": {},
   "outputs": [],
   "source": [
    "# 3724, Prüfziffer 2\n",
    "3*1 + 7*3 + 2*1 + 4*3 + 2"
   ]
  },
  {
   "cell_type": "code",
   "execution_count": 69,
   "id": "cde6fd8a-f4a1-4b4c-8fce-ba9338038812",
   "metadata": {},
   "outputs": [
    {
     "data": {
      "text/plain": [
       "True"
      ]
     },
     "execution_count": 69,
     "metadata": {},
     "output_type": "execute_result"
    }
   ],
   "source": [
    "def check13(s):\n",
    "    ''' s: String mit Ziffern und Prüfziffer \n",
    "    returns: True, wenn gewichtete Summe der Ziffern + Prüfziffer Vielfaches von 10 ist\n",
    "    '''\n",
    "    gs = 0         # gewichtete summe\n",
    "    faktor = 1\n",
    "    for c in s[:-1]:\n",
    "        gs = gs + faktor * int(c)\n",
    "        if faktor == 1:\n",
    "            faktor = 3\n",
    "        else:\n",
    "            faktor = 1\n",
    "    return (gs + int(s[-1])) % 10 == 0\n",
    "\n",
    "check13('37242')"
   ]
  },
  {
   "cell_type": "markdown",
   "id": "88af5e8a-0922-4862-9ace-0ddbeb3e06e5",
   "metadata": {},
   "source": [
    "### ISBN-10\n",
    "\n",
    "Beim 10-stelligen ISBN-Code wird die gewichtete Quersumme mit den Faktoren 1,2,3...9 gebildet. Die gewichtete Quersumme modulo 11 ist die Prüfziffer.\n",
    "Ist das Ergebnis 10, so wird 'X' als Prüfziffer verwendet.\n",
    "\n"
   ]
  },
  {
   "cell_type": "markdown",
   "id": "9c856224-1b8e-473e-909d-a2ccbbd4a2c2",
   "metadata": {},
   "source": [
    "    3-596-90124-3"
   ]
  },
  {
   "cell_type": "code",
   "execution_count": null,
   "id": "8733c2ea-8946-4d86-a7fd-d161f5c9c9ed",
   "metadata": {},
   "outputs": [],
   "source": [
    "summe = 3*1 + 5*2 + 9*3 + 6*4 + 9*5 + 0*6 + 1*7 + 2*8 + 4*9\n",
    "summe"
   ]
  },
  {
   "cell_type": "code",
   "execution_count": null,
   "id": "e06af210-b01e-470e-b750-51abbb5bee60",
   "metadata": {},
   "outputs": [],
   "source": [
    "summe % 11"
   ]
  },
  {
   "cell_type": "markdown",
   "id": "537c4dac-f6c1-4e3e-96f0-7c7efdfeed32",
   "metadata": {},
   "source": [
    "### ISBN-13\n",
    "\n",
    "2007 wurde die 13-stellige ISBN-Nummer eingefügt. Für Bücher wird der Ländercode 978 ('Buchland') vorangestellt und die Prüfziffer wie bei EAN berechnet.\n",
    "\n",
    "    978-3-596-90124-1"
   ]
  },
  {
   "cell_type": "code",
   "execution_count": null,
   "id": "59e01bf8-7fe7-489b-8f83-92e676b0302c",
   "metadata": {},
   "outputs": [],
   "source": [
    "summe = 9 + 7*3 + 8 + 3*3 + 5 + 9*3 + 6 + 9*3 + 0 + 1*3 + 2 + 4*3\n",
    "summe"
   ]
  },
  {
   "cell_type": "markdown",
   "id": "86a953be-0087-4375-84dd-97c91e16854d",
   "metadata": {},
   "source": [
    "Die Prüfziffer ist die Differenz zur nächsten Zehnerzahl"
   ]
  },
  {
   "cell_type": "code",
   "execution_count": null,
   "id": "0bed676d-b40f-40aa-9c75-ca2cba28e334",
   "metadata": {},
   "outputs": [],
   "source": [
    "130-129"
   ]
  },
  {
   "cell_type": "markdown",
   "id": "28ab612c-c80e-41b7-adb1-9eba4d77b98f",
   "metadata": {},
   "source": [
    "### Paritätsprüfung\n",
    "\n",
    "Eine sehr einfache Methode zur Fehlererkennung bei binär codierten Daten ist die Paritätsprüfung. Ist gerade Parität vereinbart, wird ein Paritätsbit so gesetzt, dass die Anzahl der Einsen gerade ist.\n",
    "\n",
    "    Binär codierte Information (7 Bit lang)  100110\n",
    "    Code mit Paritätsbit (8 Bit lang)        1001101"
   ]
  },
  {
   "cell_type": "markdown",
   "id": "b66800df-5a2c-4197-8da0-8db7520a5508",
   "metadata": {},
   "source": [
    "### Hamming Code\n",
    "\n",
    "Der Hamming Code nutzt mehrere Paritätsprüfungen, um die genaue Position eines fehlerhaften Bits zu bestimmen. Wir betrachten als Beispiel den (15,11)-Hamming Code. Damit können 11-Bit Datenworte so codiert werden, dass **die Position eines einzelnen falschen Bits** bestimmt werden kann. \n",
    "\n",
    "Beispiel: Die binäre codierte Information (Datenwort) ist 11 Bit lang:\n",
    "\n",
    "    00110001110\n",
    "\n",
    "Wir schreiben die Bits in eine 4x4 Matrix und lassen Bit 0 und alle Bits, die Potenzen von 2 sind, frei.\n",
    "\n",
    "    . . . 0\n",
    "    . 0 1 1\n",
    "    . 0 0 0\n",
    "    1 1 1 0\n",
    "\n",
    "Wir bezeichnen die Spalten und Zeilen mit ihren Indizes. D.h. Spalte 2 ist die Spalte mit Index 2 (also die 3. Spalte).\n",
    "Bit 1 kontrolliert (als Paritätsbit) die Spalten 2 und 4, Bit 2 die Spalten 3 und 4, Bit 4 die Zeilen 2 und 4, Bit 8 die Zeilen 3 und 4.\n",
    "Bit 0 ist das Paritätsbit für die gesamte Matrix. \n",
    "\n",
    "    . 0 1 0\n",
    "    1 0 1 1\n",
    "    1 0 0 0\n",
    "    1 1 1 0\n",
    "    \n",
    "Der (15,11)-HammingCode für unser Datenwort ist 010101110001110 (15 Bit lang). \n",
    "\n",
    "Nehmen wir an, der Empfänger erhält einen HammingCode, bei dem ein Bit falsch übertragen wurde:\n",
    "\n",
    "    . 0 1 0\n",
    "    1 0 1 1\n",
    "    1 0 1 0\n",
    "    1 1 1 0\n",
    "    \n",
    "Die Paritätsbits in Spalte 2 und Zeile 2 zeigen einen Fehler an, also ist das Bit mit Nummer 10 falsch.\n",
    "\n",
    "Ein Computer kann die falsche Stelle berechnen, indem alle Bit-Nummern, die eine 1 enthalten, mittels XOR verknüpft."
   ]
  },
  {
   "cell_type": "code",
   "execution_count": null,
   "id": "efdf8305-9f42-402f-9770-12fa51a721f0",
   "metadata": {},
   "outputs": [],
   "source": [
    "2 ^ 4 ^ 6 ^ 7 ^ 8 ^ 10 ^ 12 ^ 13 ^ 14"
   ]
  },
  {
   "cell_type": "markdown",
   "id": "b3155858-7851-457e-b983-a28cf836424c",
   "metadata": {},
   "source": [
    "Der **Extended Hamming-Code** nutzt noch Bit 0 als Paritätsbit für die das Codewort insgesamt und ist also 16 Bit lang.\n",
    "Er kann 2 Bit Fehler erkennen (aber nicht die fehlerhaften Stellen bestimmen)."
   ]
  },
  {
   "cell_type": "code",
   "execution_count": null,
   "id": "af67bc8e-3304-49da-8e95-2c4c5cc4e1a2",
   "metadata": {},
   "outputs": [],
   "source": []
  }
 ],
 "metadata": {
  "kernelspec": {
   "display_name": "Python 3 (ipykernel)",
   "language": "python",
   "name": "python3"
  },
  "language_info": {
   "codemirror_mode": {
    "name": "ipython",
    "version": 3
   },
   "file_extension": ".py",
   "mimetype": "text/x-python",
   "name": "python",
   "nbconvert_exporter": "python",
   "pygments_lexer": "ipython3",
   "version": "3.11.2"
  }
 },
 "nbformat": 4,
 "nbformat_minor": 5
}
