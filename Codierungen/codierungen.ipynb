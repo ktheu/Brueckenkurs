{
 "cells": [
  {
   "cell_type": "markdown",
   "id": "3c4538b5-0c49-4e40-a5d3-cd8e46ec096d",
   "metadata": {},
   "source": [
    "### EAN-13\n",
    "\n",
    "\n",
    "Der EAN-Code (European Article Number) identifiziert eindeutig jeden Artikel im Warenbestand eines Supermarkts und ermöglicht den Bezahlvorgang an der Kasse.\n",
    "\n",
    "\n",
    "Die Prüfsumme eines EAN-13-Codes wird wie folgt berechnet: Jede der ersten 12 Ziffern wird\n",
    "abwechselnd mit dem Faktor 1 und dem Faktor 3 multipliziert. Die Summe dieser Zahlen heißt gewichtete Quersumme. Die Differenz \n",
    "der gewichteten Quersumme zur nächsten Zehnerzahl ist die Prüfziffer. Ist die gewichtete Quersumme bereits eine Zehnerzahl, ist die Prüfziffer 0.\n",
    "\n",
    "Durch die Prüfziffer des EAN-Codes werden die folgenden Fehlerfälle erkannt:\n",
    "- eine Ziffer falsch (immer)\n",
    "- zwei Ziffern vertauschen (meistens)\n",
    "\n",
    "<img src='./ean.png' width='500'>"
   ]
  },
  {
   "cell_type": "markdown",
   "id": "16e4a449-eb85-4c63-aa9f-9f6869d1c0c2",
   "metadata": {},
   "source": [
    "Berechnung der gewichteten Quersumme"
   ]
  },
  {
   "cell_type": "code",
   "execution_count": 1,
   "id": "dc67183e-aac3-4e1e-b433-649d8fa249b6",
   "metadata": {},
   "outputs": [
    {
     "data": {
      "text/plain": [
       "93"
      ]
     },
     "execution_count": 1,
     "metadata": {},
     "output_type": "execute_result"
    }
   ],
   "source": [
    "9*1 + 7*3 + 8 + 3*3 + 1 + 2*3 + 7 + 3*3 + 3 + 3*3 + 8 + 1*3"
   ]
  },
  {
   "cell_type": "markdown",
   "id": "f8a223b7-78f1-402a-837e-20e343fdcd21",
   "metadata": {},
   "source": [
    "Die Prüfziffer ist die Differenz zur nächsten Zehnerzahl"
   ]
  },
  {
   "cell_type": "code",
   "execution_count": 13,
   "id": "8e51e263-e74a-4fbd-8c7b-35d2a29aab8c",
   "metadata": {},
   "outputs": [
    {
     "data": {
      "text/plain": [
       "7"
      ]
     },
     "execution_count": 13,
     "metadata": {},
     "output_type": "execute_result"
    }
   ],
   "source": [
    "100-93"
   ]
  },
  {
   "cell_type": "markdown",
   "id": "b4186cff-1fff-4bb3-b8ee-3d2fb2577412",
   "metadata": {},
   "source": [
    "##### Aufgaben\n",
    "\n",
    "Berechne die gewichtete Quersumme und die Prüfziffer für folgende EAN-13 Codes:\n",
    "\n",
    "    a. 401375201910\n",
    "    b. 405817278609\n",
    "\n"
   ]
  },
  {
   "cell_type": "markdown",
   "id": "88af5e8a-0922-4862-9ace-0ddbeb3e06e5",
   "metadata": {},
   "source": [
    "### ISBN-10\n",
    "\n",
    "Beim 10-stelligen ISBN-Code wird die gewichtete Summe mit den Faktoren 1,2,3...9 gebildet. Die gewichtete Quersumme modulo 11 ist die Prüfziffer.\n",
    "Ist das Ergebnis 10, so wird 'X' als Prüfziffer verwendet.\n",
    "\n"
   ]
  },
  {
   "cell_type": "markdown",
   "id": "9c856224-1b8e-473e-909d-a2ccbbd4a2c2",
   "metadata": {},
   "source": [
    "    3-596-90124-3"
   ]
  },
  {
   "cell_type": "code",
   "execution_count": 10,
   "id": "8733c2ea-8946-4d86-a7fd-d161f5c9c9ed",
   "metadata": {},
   "outputs": [
    {
     "data": {
      "text/plain": [
       "168"
      ]
     },
     "execution_count": 10,
     "metadata": {},
     "output_type": "execute_result"
    }
   ],
   "source": [
    "summe = 3*1 + 5*2 + 9*3 + 6*4 + 9*5 + 0*6 + 1*7 + 2*8 + 4*9\n",
    "summe"
   ]
  },
  {
   "cell_type": "code",
   "execution_count": 11,
   "id": "e06af210-b01e-470e-b750-51abbb5bee60",
   "metadata": {},
   "outputs": [
    {
     "data": {
      "text/plain": [
       "3"
      ]
     },
     "execution_count": 11,
     "metadata": {},
     "output_type": "execute_result"
    }
   ],
   "source": [
    "summe % 11"
   ]
  },
  {
   "cell_type": "markdown",
   "id": "537c4dac-f6c1-4e3e-96f0-7c7efdfeed32",
   "metadata": {},
   "source": [
    "### ISBN-13\n",
    "\n",
    "2007 wurde die 13-stellige ISBN-Nummer eingefügt. Für Bücher wird der Ländercode 978 ('Buchland') vorangestellt und die Prüfziffer wie bei EAN berechnet.\n",
    "\n",
    "    978-3-596-90124-1"
   ]
  },
  {
   "cell_type": "code",
   "execution_count": 12,
   "id": "59e01bf8-7fe7-489b-8f83-92e676b0302c",
   "metadata": {},
   "outputs": [
    {
     "data": {
      "text/plain": [
       "129"
      ]
     },
     "execution_count": 12,
     "metadata": {},
     "output_type": "execute_result"
    }
   ],
   "source": [
    "summe = 9 + 7*3 + 8 + 3*3 + 5 + 9*3 + 6 + 9*3 + 0 + 1*3 + 2 + 4*3\n",
    "summe"
   ]
  },
  {
   "cell_type": "markdown",
   "id": "86a953be-0087-4375-84dd-97c91e16854d",
   "metadata": {},
   "source": [
    "Die Prüfziffer ist die Differenz zur nächsten Zehnerzahl"
   ]
  },
  {
   "cell_type": "code",
   "execution_count": 14,
   "id": "0bed676d-b40f-40aa-9c75-ca2cba28e334",
   "metadata": {},
   "outputs": [
    {
     "data": {
      "text/plain": [
       "1"
      ]
     },
     "execution_count": 14,
     "metadata": {},
     "output_type": "execute_result"
    }
   ],
   "source": [
    "130-129"
   ]
  },
  {
   "cell_type": "markdown",
   "id": "5f1f7b1d-346b-49f0-9202-f79b30ca58fd",
   "metadata": {},
   "source": [
    "##### Aufgabe"
   ]
  },
  {
   "cell_type": "markdown",
   "id": "51816542-095c-46a2-8257-cfd8561e0c3c",
   "metadata": {},
   "source": [
    "Berechne für die ISBN-10 Codierung die Prüfziffer und ermittle anschließend die dazugehörige ISBN-13 Codierung\n",
    "\n",
    "    3-96111-965\n",
    "\n"
   ]
  },
  {
   "cell_type": "markdown",
   "id": "28ab612c-c80e-41b7-adb1-9eba4d77b98f",
   "metadata": {},
   "source": [
    "### Paritätsprüfung\n",
    "\n",
    "Eine sehr einfache Methode zur Fehlererkennung bei binär codierten Daten ist die Paritätsprüfung. Ist gerade Parität vereinbart, wird ein Paritätsbit so gesetzt, dass die Anzahl der Einsen gerade ist.\n",
    "\n",
    "    Binär codierte Information (7 Bit lang)  100110\n",
    "    Code mit Paritätsbit (8 Bit lang)        1001101"
   ]
  },
  {
   "cell_type": "markdown",
   "id": "d6fbc2f7-1e7a-4252-8622-104c3b119e7a",
   "metadata": {
    "jp-MarkdownHeadingCollapsed": true
   },
   "source": [
    "##### Aufgaben\n",
    "1. Es sind folgende binäre codierte Informationen (ohne Paritätsbit) gegeben. Gib jeweils den Code mit Paritätsbit an (5 + 1 Bit lang). Es ist gerade Parität vereinbart.\n",
    "\n",
    "    a. 10011\n",
    "    b. 11011\n",
    "    c. 11000\n",
    "    d. 10001\n",
    "\n",
    "2. Der Empfänger bekommt einen 6 Bit langen Code (inklusive Paritätsbit): 110011. Kann der Empfänger sicher sein, dass die Nachricht korrekt angekommen ist?"
   ]
  },
  {
   "cell_type": "markdown",
   "id": "b66800df-5a2c-4197-8da0-8db7520a5508",
   "metadata": {},
   "source": [
    "### Hamming Code\n",
    "\n",
    "Der Hamming Code nutzt mehrere Paritätsprüfungen, um die genaue Position eines fehlerhaften Bits zu bestimmen. Wir betrachten als Beispiel den (15,11)-Hamming Code. Damit können 11-Bit Datenworte so codiert werden, dass die Position eines einzelnen falschen Bits bestimmt werden kann. 4 Bits  \n",
    "\n",
    "Beispiel: Die binäre codierte Information (Datenwort) ist 15 Bit lang:\n",
    "\n",
    "    00110001110\n",
    "\n",
    "Wir schreiben die Bits in eine 4x4 Matrix und lassen Bit 0 und alle Bits, die Potenzen von 2 sind, frei.\n",
    "\n",
    "    . . . 0\n",
    "    . 0 1 1\n",
    "    . 0 0 0\n",
    "    1 1 1 0\n",
    "\n",
    "Bit 1 kontrolliert (als Paritätsbit) die Spalten 2 und 4, Bit 2 die Spalten 3 und 4, Bit 4 die Zeilen 2 und 4, Bit 8 die Zeilen 3 und 4.\n",
    "Bit 0 ist das Paritätsbit für die gesamte Matrix.\n",
    "\n",
    "    0 0 1 0\n",
    "    1 0 1 1\n",
    "    1 0 0 0\n",
    "    1 1 1 0\n",
    "    \n",
    "Der (15,11)-HammingCode für unser Datenwort ist 0010101110001110 (16 Bit lang).  \n",
    "\n",
    "Nehmen wir an, der Empfänger erhält einen HammingCode, bei dem ein Bit falsch übertragen wurde:\n",
    "\n",
    "    0 0 1 0\n",
    "    1 0 1 1\n",
    "    1 0 1 0\n",
    "    1 1 1 0\n",
    "    \n",
    "Die Paritätsbits in Spalte 2 und Zeile 2 zeigen einen Fehler an, also ist das Bit mit Nummer 10 falsch.\n",
    "\n",
    "Ein Computer kann die falsche Stelle berechnen, indem alle binären Indizes mit 1 mittels XOR verknüpft werden."
   ]
  },
  {
   "cell_type": "code",
   "execution_count": 23,
   "id": "efdf8305-9f42-402f-9770-12fa51a721f0",
   "metadata": {},
   "outputs": [
    {
     "data": {
      "text/plain": [
       "10"
      ]
     },
     "execution_count": 23,
     "metadata": {},
     "output_type": "execute_result"
    }
   ],
   "source": [
    "2 ^ 4 ^ 6 ^ 7 ^ 8 ^ 10 ^ 12 ^ 13 ^ 14"
   ]
  },
  {
   "cell_type": "markdown",
   "id": "adf1438b-f424-4a5c-ba39-ddc7d84743c2",
   "metadata": {},
   "source": [
    "##### Aufgaben"
   ]
  },
  {
   "cell_type": "markdown",
   "id": "af460445-0b0e-4fdd-a68c-3a8f8f368832",
   "metadata": {},
   "source": [
    "Wie lautet der Hamming Code aus dem Datenwort?\n",
    "\n",
    "    01001010011\n",
    "    01100110011\n",
    "\n",
    "Wie lautet das Datenwort des Hammingcodes?\n",
    "\n",
    "    a. 1111100101100011\n",
    "    b. 0001110111001000\n",
    "    c  0101111000011110  "
   ]
  }
 ],
 "metadata": {
  "kernelspec": {
   "display_name": "Python 3 (ipykernel)",
   "language": "python",
   "name": "python3"
  },
  "language_info": {
   "codemirror_mode": {
    "name": "ipython",
    "version": 3
   },
   "file_extension": ".py",
   "mimetype": "text/x-python",
   "name": "python",
   "nbconvert_exporter": "python",
   "pygments_lexer": "ipython3",
   "version": "3.11.2"
  }
 },
 "nbformat": 4,
 "nbformat_minor": 5
}
