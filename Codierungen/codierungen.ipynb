{
 "cells": [
  {
   "cell_type": "markdown",
   "id": "3c4538b5-0c49-4e40-a5d3-cd8e46ec096d",
   "metadata": {},
   "source": [
    "### Fehlererkennende Codierungen\n",
    "\n",
    "#### EAN-13\n",
    "\n",
    "Der EAN-Code (European Article Number) identifiziert eindeutig jeden Artikel im Warenbestand eines Supermarkts und ermöglicht den Bezahlvorgang an der Kasse.\n",
    "\n",
    "Die Prüfsumme eines EAN-13-Codes wird wie folgt berechnet: Jede der ersten 12 Ziffern wird\n",
    "abwechselnd mit dem Faktor 1 und dem Faktor 3 multipliziert. Die Summe dieser Zahlen heißt gewichtete Quersumme. Die Differenz \n",
    "der gewichteten Quersumme zur nächsten Zehnerzahl ist die Prüfziffer. Ist die gewichtete Quersumme bereits eine Zehnerzahl, ist die Prüfziffer 0.\n",
    "\n",
    "Durch die Prüfziffer des EAN-Codes werden die folgenden Fehlerfälle erkannt:\n",
    "- eine Ziffer falsch (immer)\n",
    "- zwei Ziffern vertauschen (meistens)\n",
    "\n",
    "<img src='./ean.png' width='500'>"
   ]
  },
  {
   "cell_type": "markdown",
   "id": "16e4a449-eb85-4c63-aa9f-9f6869d1c0c2",
   "metadata": {},
   "source": [
    "Berechnung der gewichteten Quersumme"
   ]
  },
  {
   "cell_type": "code",
   "execution_count": 1,
   "id": "dc67183e-aac3-4e1e-b433-649d8fa249b6",
   "metadata": {},
   "outputs": [
    {
     "data": {
      "text/plain": [
       "93"
      ]
     },
     "execution_count": 1,
     "metadata": {},
     "output_type": "execute_result"
    }
   ],
   "source": [
    "9*1 + 7*3 + 8 + 3*3 + 1 + 2*3 + 7 + 3*3 + 3 + 3*3 + 8 + 1*3"
   ]
  },
  {
   "cell_type": "markdown",
   "id": "f8a223b7-78f1-402a-837e-20e343fdcd21",
   "metadata": {},
   "source": [
    "Die Prüfziffer ist die Differenz zur nächsten Zehnerzahl"
   ]
  },
  {
   "cell_type": "code",
   "execution_count": 13,
   "id": "8e51e263-e74a-4fbd-8c7b-35d2a29aab8c",
   "metadata": {},
   "outputs": [
    {
     "data": {
      "text/plain": [
       "7"
      ]
     },
     "execution_count": 13,
     "metadata": {},
     "output_type": "execute_result"
    }
   ],
   "source": [
    "100-93"
   ]
  },
  {
   "cell_type": "markdown",
   "id": "88af5e8a-0922-4862-9ace-0ddbeb3e06e5",
   "metadata": {},
   "source": [
    "### ISBN-10\n",
    "\n",
    "Beim 10-stelligen ISBN-Code wird die gewichtete Quersumme mit den Faktoren 1,2,3...9 gebildet. Die gewichtete Quersumme modulo 11 ist die Prüfziffer.\n",
    "Ist das Ergebnis 10, so wird 'X' als Prüfziffer verwendet.\n",
    "\n"
   ]
  },
  {
   "cell_type": "markdown",
   "id": "9c856224-1b8e-473e-909d-a2ccbbd4a2c2",
   "metadata": {},
   "source": [
    "    3-596-90124-3"
   ]
  },
  {
   "cell_type": "code",
   "execution_count": 10,
   "id": "8733c2ea-8946-4d86-a7fd-d161f5c9c9ed",
   "metadata": {},
   "outputs": [
    {
     "data": {
      "text/plain": [
       "168"
      ]
     },
     "execution_count": 10,
     "metadata": {},
     "output_type": "execute_result"
    }
   ],
   "source": [
    "summe = 3*1 + 5*2 + 9*3 + 6*4 + 9*5 + 0*6 + 1*7 + 2*8 + 4*9\n",
    "summe"
   ]
  },
  {
   "cell_type": "code",
   "execution_count": 11,
   "id": "e06af210-b01e-470e-b750-51abbb5bee60",
   "metadata": {},
   "outputs": [
    {
     "data": {
      "text/plain": [
       "3"
      ]
     },
     "execution_count": 11,
     "metadata": {},
     "output_type": "execute_result"
    }
   ],
   "source": [
    "summe % 11"
   ]
  },
  {
   "cell_type": "markdown",
   "id": "537c4dac-f6c1-4e3e-96f0-7c7efdfeed32",
   "metadata": {},
   "source": [
    "### ISBN-13\n",
    "\n",
    "2007 wurde die 13-stellige ISBN-Nummer eingefügt. Für Bücher wird der Ländercode 978 ('Buchland') vorangestellt und die Prüfziffer wie bei EAN berechnet.\n",
    "\n",
    "    978-3-596-90124-1"
   ]
  },
  {
   "cell_type": "code",
   "execution_count": 12,
   "id": "59e01bf8-7fe7-489b-8f83-92e676b0302c",
   "metadata": {},
   "outputs": [
    {
     "data": {
      "text/plain": [
       "129"
      ]
     },
     "execution_count": 12,
     "metadata": {},
     "output_type": "execute_result"
    }
   ],
   "source": [
    "summe = 9 + 7*3 + 8 + 3*3 + 5 + 9*3 + 6 + 9*3 + 0 + 1*3 + 2 + 4*3\n",
    "summe"
   ]
  },
  {
   "cell_type": "markdown",
   "id": "86a953be-0087-4375-84dd-97c91e16854d",
   "metadata": {},
   "source": [
    "Die Prüfziffer ist die Differenz zur nächsten Zehnerzahl"
   ]
  },
  {
   "cell_type": "code",
   "execution_count": 14,
   "id": "0bed676d-b40f-40aa-9c75-ca2cba28e334",
   "metadata": {},
   "outputs": [
    {
     "data": {
      "text/plain": [
       "1"
      ]
     },
     "execution_count": 14,
     "metadata": {},
     "output_type": "execute_result"
    }
   ],
   "source": [
    "130-129"
   ]
  },
  {
   "cell_type": "markdown",
   "id": "28ab612c-c80e-41b7-adb1-9eba4d77b98f",
   "metadata": {},
   "source": [
    "### Paritätsprüfung\n",
    "\n",
    "Eine sehr einfache Methode zur Fehlererkennung bei binär codierten Daten ist die Paritätsprüfung. Ist gerade Parität vereinbart, wird ein Paritätsbit so gesetzt, dass die Anzahl der Einsen gerade ist.\n",
    "\n",
    "    Binär codierte Information (7 Bit lang)  100110\n",
    "    Code mit Paritätsbit (8 Bit lang)        1001101"
   ]
  },
  {
   "cell_type": "markdown",
   "id": "b66800df-5a2c-4197-8da0-8db7520a5508",
   "metadata": {},
   "source": [
    "### Hamming Code\n",
    "\n",
    "Der Hamming Code nutzt mehrere Paritätsprüfungen, um die genaue Position eines fehlerhaften Bits zu bestimmen. Wir betrachten als Beispiel den (15,11)-Hamming Code. Damit können 11-Bit Datenworte so codiert werden, dass **die Position eines einzelnen falschen Bits** bestimmt werden kann. \n",
    "\n",
    "Beispiel: Die binäre codierte Information (Datenwort) ist 11 Bit lang:\n",
    "\n",
    "    00110001110\n",
    "\n",
    "Wir schreiben die Bits in eine 4x4 Matrix und lassen Bit 0 und alle Bits, die Potenzen von 2 sind, frei.\n",
    "\n",
    "    . . . 0\n",
    "    . 0 1 1\n",
    "    . 0 0 0\n",
    "    1 1 1 0\n",
    "\n",
    "Wir bezeichnen die Spalten und Zeilen mit ihren Indizes. D.h. Spalte 2 ist die Spalte mit Index 2 (also die 3. Spalte).\n",
    "Bit 1 kontrolliert (als Paritätsbit) die Spalten 2 und 4, Bit 2 die Spalten 3 und 4, Bit 4 die Zeilen 2 und 4, Bit 8 die Zeilen 3 und 4.\n",
    "Bit 0 ist das Paritätsbit für die gesamte Matrix. \n",
    "\n",
    "    . 0 1 0\n",
    "    1 0 1 1\n",
    "    1 0 0 0\n",
    "    1 1 1 0\n",
    "    \n",
    "Der (15,11)-HammingCode für unser Datenwort ist 010101110001110 (15 Bit lang). \n",
    "\n",
    "Nehmen wir an, der Empfänger erhält einen HammingCode, bei dem ein Bit falsch übertragen wurde:\n",
    "\n",
    "    . 0 1 0\n",
    "    1 0 1 1\n",
    "    1 0 1 0\n",
    "    1 1 1 0\n",
    "    \n",
    "Die Paritätsbits in Spalte 2 und Zeile 2 zeigen einen Fehler an, also ist das Bit mit Nummer 10 falsch.\n",
    "\n",
    "Ein Computer kann die falsche Stelle berechnen, indem alle Bit-Nummern, die eine 1 enthalten, mittels XOR verknüpft."
   ]
  },
  {
   "cell_type": "code",
   "execution_count": 23,
   "id": "efdf8305-9f42-402f-9770-12fa51a721f0",
   "metadata": {},
   "outputs": [
    {
     "data": {
      "text/plain": [
       "10"
      ]
     },
     "execution_count": 23,
     "metadata": {},
     "output_type": "execute_result"
    }
   ],
   "source": [
    "2 ^ 4 ^ 6 ^ 7 ^ 8 ^ 10 ^ 12 ^ 13 ^ 14"
   ]
  },
  {
   "cell_type": "markdown",
   "id": "b3155858-7851-457e-b983-a28cf836424c",
   "metadata": {},
   "source": [
    "Der **Extended Hamming-Code** nutzt noch Bit 0 als Paritätsbit für die das Codewort insgesamt und ist also 16 Bit lang.\n",
    "Er kann 2 Bit Fehler erkennen (aber nicht die fehlerhaften Stellen bestimmen)."
   ]
  },
  {
   "cell_type": "code",
   "execution_count": null,
   "id": "af67bc8e-3304-49da-8e95-2c4c5cc4e1a2",
   "metadata": {},
   "outputs": [],
   "source": []
  }
 ],
 "metadata": {
  "kernelspec": {
   "display_name": "Python 3 (ipykernel)",
   "language": "python",
   "name": "python3"
  },
  "language_info": {
   "codemirror_mode": {
    "name": "ipython",
    "version": 3
   },
   "file_extension": ".py",
   "mimetype": "text/x-python",
   "name": "python",
   "nbconvert_exporter": "python",
   "pygments_lexer": "ipython3",
   "version": "3.11.2"
  }
 },
 "nbformat": 4,
 "nbformat_minor": 5
}
