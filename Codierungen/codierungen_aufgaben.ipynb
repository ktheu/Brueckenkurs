{
 "cells": [
  {
   "cell_type": "markdown",
   "id": "3c4538b5-0c49-4e40-a5d3-cd8e46ec096d",
   "metadata": {},
   "source": [
    "### Fehlererkennende Codierungen - Aufgaben"
   ]
  },
  {
   "cell_type": "markdown",
   "id": "b4186cff-1fff-4bb3-b8ee-3d2fb2577412",
   "metadata": {},
   "source": [
    "**A1**\n",
    "\n",
    "Berechne die gewichtete Quersumme und die Prüfziffer für folgende EAN-13 Codes:\n",
    "\n",
    "    a. 401375201910\n",
    "    b. 405817278609\n",
    "\n",
    "**A2**\n",
    "\n",
    "Berechne für die ISBN-10 Codierung die Prüfziffer und ermittle anschließend die dazugehörige ISBN-13 Codierung\n",
    "\n",
    "    3-96111-965\n",
    "\n",
    "**A3**\n",
    "\n",
    "1. Es sind folgende binäre codierte Informationen (ohne Paritätsbit) gegeben. Gib jeweils den Code mit Paritätsbit an (5 + 1 Bit lang). Es ist gerade Parität vereinbart.\n",
    "\n",
    "    a. 10011 <br>\n",
    "    b. 11011 <br>\n",
    "    c. 11000 <br>\n",
    "    d. 10001 <br>\n",
    "\n",
    "2. Der Empfänger bekommt einen 6 Bit langen Code (inklusive Paritätsbit): 110011. Kann der Empfänger sicher sein, dass die Nachricht korrekt angekommen ist?\n",
    "\n",
    "\n",
    "**A4**\n",
    "\n",
    "Wie lautet der (15,11)-Hamming Code aus dem Datenwort?\n",
    "\n",
    "    01001010011\n",
    "    01100110011\n",
    "\n",
    "Wie lautet das Datenwort des Hammingcodes?\n",
    "\n",
    "    a. 1111100101100011\n",
    "    b. 0001110111001000\n",
    "    c  0101111000011110  "
   ]
  }
 ],
 "metadata": {
  "kernelspec": {
   "display_name": "Python 3 (ipykernel)",
   "language": "python",
   "name": "python3"
  },
  "language_info": {
   "codemirror_mode": {
    "name": "ipython",
    "version": 3
   },
   "file_extension": ".py",
   "mimetype": "text/x-python",
   "name": "python",
   "nbconvert_exporter": "python",
   "pygments_lexer": "ipython3",
   "version": "3.11.2"
  }
 },
 "nbformat": 4,
 "nbformat_minor": 5
}
