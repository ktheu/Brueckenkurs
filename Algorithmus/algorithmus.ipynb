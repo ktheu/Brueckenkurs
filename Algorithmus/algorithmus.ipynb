{
 "cells": [
  {
   "cell_type": "markdown",
   "id": "ad4620ef-16c8-4f43-a385-997d8dd10272",
   "metadata": {},
   "source": [
    "## Algorithmus und Programm\n",
    "\n",
    "**Informatik** ist die Wissenschaft von der systematischen Verarbeitung von\n",
    "Informationen, insbesondere der automatischen Verarbeitung mit Hilfe von\n",
    "Rechenanlagen (Wikipedia).\n",
    "\n",
    "Wir beschäftigen uns zu Beginn mit Algorithmen und deren Programmierung in\n",
    "Python.\n",
    "Ein **Algorithmus** ist eine endlich lange Vorschrift, bestehend aus\n",
    "Einzelanweisungen.\n",
    "\n",
    "Ein in einer Computersprache formulierter Algorithmus heißt **Programm**.\n",
    "Eine umgangssprachliche Formulierung, die die Struktur des Algorithmus deutlich\n",
    "macht, nennen wir **Pseudocode**."
   ]
  },
  {
   "cell_type": "markdown",
   "id": "eba7fa5a-5761-4c61-88a0-304863ef5862",
   "metadata": {},
   "source": [
    "### Der Collatz-Algorithmus\n",
    "\n",
    "Der Collatz-Algorithmus in Pseudocode: "
   ]
  },
  {
   "cell_type": "code",
   "execution_count": null,
   "id": "30d9e62b-17bc-46ea-8319-c719f1857441",
   "metadata": {
    "collapsed": true,
    "jupyter": {
     "outputs_hidden": true
    }
   },
   "outputs": [],
   "source": [
    "# Collatz-Algorithmus\n",
    "lies x ein\n",
    "setze z auf 0\n",
    "solange x nicht gleich 1 tue:\n",
    "    wenn x gerade, dann halbiere x\n",
    "    sonst verdreifache x und erhöhe um 1\n",
    "    erhöhe z um 1\n",
    "\n",
    "gib z aus"
   ]
  },
  {
   "cell_type": "markdown",
   "id": "97e621be-bd8c-47f4-a4e6-e88e36072d4b",
   "metadata": {},
   "source": [
    "Um zu prüfen, was ein Algorithmus macht, ist es manchmal hilfreich, ein **Ablaufprotokoll** zu erstellen. Dabei werden die Werte der (wichtigsten) beteiligten Variablen schrittweise mitverfolgt. Beim Collatz-Algorithmus reicht es, den Wert der eingegebenen Zahl zu verfolgen und anschließend die Anzahl der Durchgänge zu zählen:\n",
    "```\n",
    "Eingabe: 17\n",
    "52 26 13 40 20 10 5 16 8 4 2 1\n",
    "Ausgabe: 12\n",
    "```"
   ]
  },
  {
   "cell_type": "markdown",
   "id": "823b7b7b-8b06-464f-aeaf-4dcd16cf47e2",
   "metadata": {},
   "source": [
    "Der Algorithmus wurde 1937 von Lothar Collatz formuliert. Es ist ein bis heute\n",
    "ungelöstes mathematisches Problem, ob dieser Algorithmus fur jede Eingabe zu \n",
    "einem Ende kommt."
   ]
  },
  {
   "cell_type": "code",
   "execution_count": null,
   "id": "ee0ffeb4-ef4d-426d-9f6a-9bd53b9ed7b2",
   "metadata": {
    "collapsed": true,
    "jupyter": {
     "outputs_hidden": true,
     "source_hidden": true
    }
   },
   "outputs": [],
   "source": [
    "# Collatz\n",
    "x = int(input('Bitte eine positive ganze Zahl eingeben: '))\n",
    "z = 0\n",
    "while x != 1:\n",
    "    if x % 2 == 0:\n",
    "        x = x//2\n",
    "    else:\n",
    "        x = 3*x + 1\n",
    "    z += 1\n",
    "print(z)"
   ]
  },
  {
   "cell_type": "markdown",
   "id": "6fd712df-4e27-4a21-82c9-4aba38977a9e",
   "metadata": {},
   "source": [
    "### Der Pledge-Algorithmus\n",
    "\n",
    "Der Pledge-Algorithmus wurde von dem 12-jährigen John Pledge erfunden. Er ist in der folgenden Aufgabe des Informatik-Bibers beschrieben.\n",
    "\n",
    "<img src='pledge.png' width='600'>\n"
   ]
  },
  {
   "cell_type": "markdown",
   "id": "4b8b1876-579f-439a-91d1-3c87316710f9",
   "metadata": {},
   "source": [
    "### Euklidscher Algorithmus\n",
    "\n",
    "Der euklidsche Algorithmus findet den ggT (größten gemeinsamen Teiler) zweier positiver ganzer Zahlen.\n",
    "\n",
    "Ein naiver (brute-force) Ansatz zur Bestimmung des ggT:"
   ]
  },
  {
   "cell_type": "code",
   "execution_count": null,
   "id": "f940cd25-d950-4dfd-b17d-358cf36b6a6a",
   "metadata": {},
   "outputs": [],
   "source": [
    "# brute-force Algorithmus zur Bestimmung des ggT\n",
    "x = erste Zahl\n",
    "solange x nicht Teiler der beiden Zahlen:\n",
    "    erniedrige x um 1\n",
    "gib x als ggT aus. "
   ]
  },
  {
   "cell_type": "code",
   "execution_count": 9,
   "id": "f1edbfc0-19ee-40b1-a582-86dad502d1aa",
   "metadata": {
    "jupyter": {
     "source_hidden": true
    }
   },
   "outputs": [
    {
     "name": "stdout",
     "output_type": "stream",
     "text": [
      "2\n"
     ]
    }
   ],
   "source": [
    "# brute-force Algorithmus zur Bestimmung des ggT\n",
    "a = 128\n",
    "b = 34\n",
    "x = a\n",
    "while a % x != 0 or b % x != 0:\n",
    "    x-=1\n",
    "    \n",
    "print(x)"
   ]
  },
  {
   "cell_type": "markdown",
   "id": "71e4de40-9d36-42a2-8914-a0d1a118ea50",
   "metadata": {},
   "source": [
    "Beobachtung von Euklid: Wenn $t$ Teiler von $a$ und $b$ ist und $a > b$, dann ist $t$ auch Teiler von $a-b$. Daraus ergibt sich der **klassische Euklidsche Algorithmus**:"
   ]
  },
  {
   "cell_type": "code",
   "execution_count": null,
   "id": "cf8ca1dc-e29d-4b22-8559-1f43366b3d08",
   "metadata": {},
   "outputs": [],
   "source": [
    "# klassischer Euklidscher Algorithmus \n",
    "Ziehe von der größeren die kleinere Zahl ab, solange bis beide Zahlen gleich sind."
   ]
  },
  {
   "cell_type": "code",
   "execution_count": 22,
   "id": "817bde8a-6e4e-4bfb-9532-dea76b5fbb2e",
   "metadata": {
    "jupyter": {
     "source_hidden": true
    }
   },
   "outputs": [
    {
     "name": "stdout",
     "output_type": "stream",
     "text": [
      "2\n"
     ]
    }
   ],
   "source": [
    "# klassischer Euklidscher Algorithmus\n",
    "a = 128\n",
    "b = 34\n",
    "while a != b:\n",
    "    if (a > b):\n",
    "        a = a - b\n",
    "    else:\n",
    "        b = b - a\n",
    "print(a)"
   ]
  },
  {
   "cell_type": "markdown",
   "id": "abfff74c-8aaf-490f-a2c6-6b75b481d339",
   "metadata": {},
   "source": [
    "Wir schreiben die beiden Zahlen a und b beim Ablauf des eukldischen Algorithmus untereinander und beobachten:\n",
    "Immer wenn die größere Zahl die Seiten wechselt, können wir die neue Zahl aus den beiden oberen berechnen.\n",
    "\n",
    "<img src='modernerEuklid.png'>"
   ]
  },
  {
   "cell_type": "markdown",
   "id": "86322a1e-b657-4d6e-bab3-be989d04200a",
   "metadata": {},
   "source": [
    "Daraus ergibt sich der **moderne euklidsche Algorithmus**:"
   ]
  },
  {
   "cell_type": "code",
   "execution_count": null,
   "id": "b93e31ab-09e6-4ce4-b671-d68fa38dacda",
   "metadata": {},
   "outputs": [],
   "source": [
    "# moderner Euklidscher Algorithmus\n",
    "Schreibe beide Zahlen nebeneinander\n",
    "Tue solange bis die rechte Zahl gleich 0:\n",
    "    Die neue linke Zahl wird die alte rechte Zahl\n",
    "    die neue rechte Zahl wird die alte linke Zahl modulo der alten rechten Zahl"
   ]
  },
  {
   "cell_type": "code",
   "execution_count": null,
   "id": "100555ab-25cf-4208-915f-87fab7b9fd91",
   "metadata": {
    "jupyter": {
     "source_hidden": true
    }
   },
   "outputs": [],
   "source": [
    "# moderner Euklidscher Algorithmus\n",
    "a = 128\n",
    "b = 34\n",
    "while b != 0:\n",
    "    a, b = b, a % b\n",
    "print(a)\n",
    "    "
   ]
  },
  {
   "cell_type": "markdown",
   "id": "d214735b-afc0-4978-a286-13bff5237528",
   "metadata": {},
   "source": [
    "### Das Sieb des Eratosthenes\n",
    "\n",
    "Es gibt keine einfache Formel für die k-te Primzahl. Das Sieb des Eratosthenes ist ein Algorithmus, um alle Primzahlen unterhalb einer gewissen Schranke n zu finden. \n"
   ]
  },
  {
   "cell_type": "code",
   "execution_count": 14,
   "id": "66564806-fcac-48ae-8ab8-32a739547a3a",
   "metadata": {
    "collapsed": true,
    "jupyter": {
     "outputs_hidden": true,
     "source_hidden": true
    }
   },
   "outputs": [
    {
     "name": "stdout",
     "output_type": "stream",
     "text": [
      "2 3 5 7 11 13 17 19 23 29 31 37 41 43 47 53 59 61 67 71 73 79 83 89 97 101 103 107 109 113 127 131 137 139 149 151 157 163 167 173 179 181 191 193 197 199 211 223 227 229 233 239 241 251 257 263 269 271 277 281 283 293 307 311 313 317 331 337 347 349 353 359 367 373 379 383 389 397 401 409 419 421 431 433 439 443 449 457 461 463 467 479 487 491 499 503 509 521 523 541 547 557 563 569 571 577 587 593 599 601 607 613 617 619 631 641 643 647 653 659 661 673 677 683 691 701 709 719 727 733 739 743 751 757 761 769 773 787 797 809 811 821 823 827 829 839 853 857 859 863 877 881 883 887 907 911 919 929 937 941 947 953 967 971 977 983 991 997 "
     ]
    }
   ],
   "source": [
    "# Sieb des Eratosthenes\n",
    "n = 1000\n",
    "prim = [True] * (n+1)\n",
    "for i in range(2,n+1):\n",
    "    if prim[i]:\n",
    "        print(i, end=' ')\n",
    "        for j in range(i+i,n+1,i):\n",
    "            prim[j] = False\n",
    "   "
   ]
  },
  {
   "cell_type": "markdown",
   "id": "e3558af0-2b01-4447-9eb3-fc48c2a8bede",
   "metadata": {},
   "source": [
    "### Lineare Suche\n",
    "\n",
    "Die lineare Suche sucht in einer Liste oder einer Folge von Eingaben ein ausgezeichnetes Element. \n",
    "In der Regel benötigen wir zwei Variablen *best* und *best_val* für die Suche. "
   ]
  },
  {
   "cell_type": "markdown",
   "id": "d05f6719-8788-4d4b-b786-e3ab1b3b1bea",
   "metadata": {},
   "source": [
    "#### Beispiel 1\n",
    "Wenn wir Zugriff auf das erste Element haben, initialisieren wir *best* und *best_val* mit den Werten des ersten Elements.\n",
    "Hier suchen in einer Liste die Zahl mit dem größten Rest bei Division durch 7"
   ]
  },
  {
   "cell_type": "code",
   "execution_count": 15,
   "id": "b9b84135-b5c5-49b2-8615-1d2b7492bd2d",
   "metadata": {
    "collapsed": true,
    "jupyter": {
     "outputs_hidden": true,
     "source_hidden": true
    }
   },
   "outputs": [
    {
     "name": "stdout",
     "output_type": "stream",
     "text": [
      "20\n"
     ]
    }
   ],
   "source": [
    "a = [3, 5, 3, 8, 12, 20, 35, 17, 35]\n",
    "\n",
    "best = a[0]\n",
    "best_val = a[0] % 7            # das Erste ist das Beste - vorläufig!\n",
    "for i in range(1,len(a)):\n",
    "    val = a[i] % 7\n",
    "    if val > best_val:\n",
    "        best_val = val         # was besseres gefunden\n",
    "        best = a[i]\n",
    "print(best)"
   ]
  },
  {
   "cell_type": "markdown",
   "id": "e9777a2f-f737-43c1-bde8-c7c10ce57689",
   "metadata": {},
   "source": [
    "#### Beispiel 2\n",
    "\n",
    "Andere Möglichkeit: Wir initialisieren *best* zu Beginn mit *None* und setzen *best_val*  auf einen Wert, der garantiert vom ersten Element übertroffen wird.\n",
    "Hier suchen in einer Liste die Zahl mit dem kleinsten Abstand zur 42. Bei gleichem Abstand wird die größere Zahl genommen."
   ]
  },
  {
   "cell_type": "code",
   "execution_count": 17,
   "id": "ed02b8a3-fa54-40d5-9cac-1c701bfd8dbc",
   "metadata": {
    "collapsed": true,
    "jupyter": {
     "outputs_hidden": true,
     "source_hidden": true
    }
   },
   "outputs": [
    {
     "name": "stdout",
     "output_type": "stream",
     "text": [
      "46\n"
     ]
    }
   ],
   "source": [
    "a = [87, 38, 104, 71, 46, 33]  \n",
    "best = None\n",
    "best_val = float('inf')        # best hat unendlichen Abstand\n",
    "for x in a:\n",
    "    val = abs(x-42)\n",
    "    if val < best_val or (val == best_val and x > best):\n",
    "        best_val = val         # was besseres gefunden\n",
    "        best = x\n",
    "print(best)"
   ]
  },
  {
   "cell_type": "markdown",
   "id": "1c68bb75-0fbe-4013-9db0-8ec47b09e79e",
   "metadata": {},
   "source": [
    "### Binäre Suche\n",
    "\n",
    "In einer sortierten Liste von Zahlen, können wir mit der binären Suche schnell überprüfen, ob ein Element vorhanden ist."
   ]
  },
  {
   "cell_type": "code",
   "execution_count": 23,
   "id": "bdbb8828-f7d0-41e7-ac2e-8d962dc53d7f",
   "metadata": {},
   "outputs": [
    {
     "name": "stdout",
     "output_type": "stream",
     "text": [
      "4\n"
     ]
    }
   ],
   "source": [
    "a = [2,4,7,8,12,15,17,18,21,22,25]\n",
    "x = 12                   # gesuchte Zahl\n",
    "L = 0\n",
    "R = len(a)-1\n",
    "gefunden = False\n",
    "while L <= R:  \n",
    "    mid =(L + R) // 2    # mid = L + (R-L)//2\n",
    "    if a[mid] == x:\n",
    "        gefunden = True\n",
    "        break\n",
    "    if a[mid] < x:\n",
    "        L = mid + 1\n",
    "    else:\n",
    "        R = mid - 1\n",
    "\n",
    "if gefunden:\n",
    "    print(mid)\n",
    "else:\n",
    "    print(-1)"
   ]
  },
  {
   "cell_type": "code",
   "execution_count": null,
   "id": "69487e88-0431-4b8c-9d9f-f99ef54ff479",
   "metadata": {},
   "outputs": [],
   "source": []
  }
 ],
 "metadata": {
  "kernelspec": {
   "display_name": "Python 3 (ipykernel)",
   "language": "python",
   "name": "python3"
  },
  "language_info": {
   "codemirror_mode": {
    "name": "ipython",
    "version": 3
   },
   "file_extension": ".py",
   "mimetype": "text/x-python",
   "name": "python",
   "nbconvert_exporter": "python",
   "pygments_lexer": "ipython3",
   "version": "3.11.2"
  },
  "vscode": {
   "interpreter": {
    "hash": "66cef8b640515d50f1dd36261b6c0429b289e00e05e66082067e4520c88a4539"
   }
  }
 },
 "nbformat": 4,
 "nbformat_minor": 5
}
