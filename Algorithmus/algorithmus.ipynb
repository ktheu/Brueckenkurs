{
 "cells": [
  {
   "cell_type": "markdown",
   "id": "ad4620ef-16c8-4f43-a385-997d8dd10272",
   "metadata": {},
   "source": [
    "## Algorithmus und Programm\n",
    "\n",
    "**Informatik** ist die Wissenschaft von der systematischen Verarbeitung von\n",
    "Informationen, insbesondere der automatischen Verarbeitung mit Hilfe von\n",
    "Rechenanlagen (Wikipedia).\n",
    "\n",
    "Wir beschäftigen uns zu Beginn mit Algorithmen und deren Programmierung in\n",
    "Python.\n",
    "Ein **Algorithmus** ist eine endlich lange Vorschrift, bestehend aus\n",
    "Einzelanweisungen.\n",
    "\n",
    "Ein in einer Computersprache formulierter Algorithmus heißt **Programm**.\n",
    "Eine umgangssprachliche Formulierung, die die Struktur des Algorithmus deutlich\n",
    "macht, nennen wir **Pseudocode**."
   ]
  },
  {
   "cell_type": "markdown",
   "id": "a6b55fef-bdf1-4f8d-b75d-f9e6dc0520a2",
   "metadata": {},
   "source": [
    "### Der Collatz-Algorithmus"
   ]
  },
  {
   "cell_type": "markdown",
   "id": "a952652e-3f28-43d1-a985-4902ce2b3a31",
   "metadata": {
    "jp-MarkdownHeadingCollapsed": true
   },
   "source": [
    "##### Pseudo-Code "
   ]
  },
  {
   "cell_type": "code",
   "execution_count": null,
   "id": "30d9e62b-17bc-46ea-8319-c719f1857441",
   "metadata": {
    "collapsed": true,
    "jupyter": {
     "outputs_hidden": true
    }
   },
   "outputs": [],
   "source": [
    "# Collatz-Algorithmus\n",
    "lies x ein\n",
    "setze z auf 0\n",
    "solange x nicht gleich 1 tue:\n",
    "    wenn x gerade, dann halbiere x\n",
    "    sonst verdreifache x und erhöhe um 1\n",
    "    erhöhe z um 1\n",
    "\n",
    "gib z aus"
   ]
  },
  {
   "cell_type": "markdown",
   "id": "d1092766-4290-489f-b514-6c3d189ec636",
   "metadata": {},
   "source": [
    "##### Ablaufprotokoll"
   ]
  },
  {
   "cell_type": "markdown",
   "id": "f01a4027-03d5-417c-acbd-8cb4b1afe911",
   "metadata": {},
   "source": [
    "Um zu prüfen, was ein Algorithmus macht, ist es manchmal hilfreich, ein **Ablaufprotokoll** zu erstellen. Dabei werden die Werte der (wichtigsten) beteiligten Variablen schrittweise mitverfolgt. Beim Collatz-Algorithmus reicht es, den Wert der eingegebenen Zahl zu verfolgen und anschließend die Anzahl der Durchgänge zu zählen:"
   ]
  },
  {
   "cell_type": "markdown",
   "id": "5d332bc8-c4e3-4724-b259-1fdb26c96f04",
   "metadata": {
    "jp-MarkdownHeadingCollapsed": true
   },
   "source": [
    "##### Beispiel\n",
    "\n",
    "Eingabe: 17"
   ]
  },
  {
   "cell_type": "code",
   "execution_count": null,
   "id": "97ad2ab8-16f6-4942-881e-db2ee2be532f",
   "metadata": {},
   "outputs": [],
   "source": [
    "Eingabe: 17\n",
    "52 26 13 40 20 10 5 16 8 4 2 1\n",
    "Ausgabe: 12"
   ]
  },
  {
   "cell_type": "markdown",
   "id": "97ef6e90-bf5c-43d2-a78d-1d0acd69058e",
   "metadata": {
    "jp-MarkdownHeadingCollapsed": true
   },
   "source": [
    "##### Wofür braucht man den Collatz-Algorithmus?"
   ]
  },
  {
   "cell_type": "markdown",
   "id": "823b7b7b-8b06-464f-aeaf-4dcd16cf47e2",
   "metadata": {},
   "source": [
    "Der Algorithmus wurde 1937 von Lothar Collatz formuliert. Es ist ein bis heute\n",
    "ungelöstes mathematisches Problem, ob dieser Algorithmus fur jede Eingabe zu \n",
    "einem Ende kommt."
   ]
  },
  {
   "cell_type": "markdown",
   "id": "d4231508-d863-44af-8813-97f0a2308355",
   "metadata": {
    "jp-MarkdownHeadingCollapsed": true
   },
   "source": [
    "##### Python-Code"
   ]
  },
  {
   "cell_type": "code",
   "execution_count": null,
   "id": "ee0ffeb4-ef4d-426d-9f6a-9bd53b9ed7b2",
   "metadata": {
    "collapsed": true,
    "jupyter": {
     "outputs_hidden": true
    }
   },
   "outputs": [],
   "source": [
    "# Collatz\n",
    "x = int(input('Bitte eine positive ganze Zahl eingeben: '))\n",
    "z = 0\n",
    "while x != 1:\n",
    "    if x % 2 == 0:\n",
    "        x = x//2\n",
    "    else:\n",
    "        x = 3*x + 1\n",
    "    z += 1\n",
    "print(z)"
   ]
  },
  {
   "cell_type": "markdown",
   "id": "6fd712df-4e27-4a21-82c9-4aba38977a9e",
   "metadata": {},
   "source": [
    "### Der Pledge-Algorithmus\n",
    "\n",
    "Der Pledge-Algorithmus wurde von dem 12-jährigen John Pledge erfunden. Er ist in der folgenden Aufgabe des Informatik-Bibers beschrieben.\n",
    "\n",
    "<img src='pledge.png' width='600'>\n"
   ]
  },
  {
   "cell_type": "markdown",
   "id": "4b8b1876-579f-439a-91d1-3c87316710f9",
   "metadata": {},
   "source": [
    "### Größter gemeinsamer Teiler\n",
    "\n",
    "Ein naiver (brute-force) Ansatz zur Bestimmung des ggT:"
   ]
  },
  {
   "cell_type": "markdown",
   "id": "7fd19173-be8d-4769-8210-7bf21625cc6f",
   "metadata": {
    "jp-MarkdownHeadingCollapsed": true
   },
   "source": [
    "##### Brute-Force Pseudocode"
   ]
  },
  {
   "cell_type": "code",
   "execution_count": null,
   "id": "f940cd25-d950-4dfd-b17d-358cf36b6a6a",
   "metadata": {
    "collapsed": true,
    "jupyter": {
     "outputs_hidden": true
    }
   },
   "outputs": [],
   "source": [
    "x = erste Zahl\n",
    "solange x nicht Teiler der beiden Zahlen:\n",
    "    erniedrige x um 1\n",
    "gib x als ggT aus. "
   ]
  },
  {
   "cell_type": "markdown",
   "id": "7caccd98-f5f8-4565-ae31-0035166f5f3a",
   "metadata": {
    "jp-MarkdownHeadingCollapsed": true
   },
   "source": [
    "##### Brute-Force Python"
   ]
  },
  {
   "cell_type": "code",
   "execution_count": 9,
   "id": "f1edbfc0-19ee-40b1-a582-86dad502d1aa",
   "metadata": {
    "collapsed": true,
    "jupyter": {
     "outputs_hidden": true
    }
   },
   "outputs": [
    {
     "name": "stdout",
     "output_type": "stream",
     "text": [
      "2\n"
     ]
    }
   ],
   "source": [
    "# brute-force Algorithmus zur Bestimmung des ggT\n",
    "a = 128\n",
    "b = 34\n",
    "x = a\n",
    "while a % x != 0 or b % x != 0:\n",
    "    x-=1\n",
    "    \n",
    "print(x)"
   ]
  },
  {
   "cell_type": "markdown",
   "id": "c757daad-2da5-4264-83fe-c173a4f886f5",
   "metadata": {},
   "source": [
    "#### Klassischer Euklidscher Algorithmus\n",
    "\n",
    "Der euklidsche Algorithmus findet den ggT (größten gemeinsamen Teiler) zweier positiver ganzer Zahlen.\n",
    "\n",
    "Beobachtung von Euklid: Wenn $t$ Teiler von $a$ und $b$ ist und $a > b$, dann ist $t$ auch Teiler von $a-b$.\n",
    " "
   ]
  },
  {
   "cell_type": "markdown",
   "id": "12b384ef-accf-46f3-9880-f4ff5eed9374",
   "metadata": {
    "jp-MarkdownHeadingCollapsed": true
   },
   "source": [
    "##### Pseudocode"
   ]
  },
  {
   "cell_type": "code",
   "execution_count": null,
   "id": "cf8ca1dc-e29d-4b22-8559-1f43366b3d08",
   "metadata": {
    "collapsed": true,
    "jupyter": {
     "outputs_hidden": true
    }
   },
   "outputs": [],
   "source": [
    "# klassischer Euklidscher Algorithmus\n",
    "Ziehe von der größeren die kleinere Zahl ab, solange bis beide Zahlen gleich sind."
   ]
  },
  {
   "cell_type": "markdown",
   "id": "8e0943b6-95a6-444d-bd47-aff520251349",
   "metadata": {
    "jp-MarkdownHeadingCollapsed": true
   },
   "source": [
    "##### Python "
   ]
  },
  {
   "cell_type": "code",
   "execution_count": 4,
   "id": "817bde8a-6e4e-4bfb-9532-dea76b5fbb2e",
   "metadata": {
    "collapsed": true,
    "jupyter": {
     "outputs_hidden": true
    }
   },
   "outputs": [
    {
     "name": "stdout",
     "output_type": "stream",
     "text": [
      "2\n"
     ]
    }
   ],
   "source": [
    "# klassischer Euklidscher Algorithmus\n",
    "a = 128\n",
    "b = 34\n",
    "while a != b:\n",
    "    if (a > b):\n",
    "        a = a - b\n",
    "    else:\n",
    "        b = b - a\n",
    "print(a)"
   ]
  },
  {
   "cell_type": "markdown",
   "id": "60930560-f397-49b1-81a1-30f704788fb3",
   "metadata": {},
   "source": [
    "#### Moderner Euklidscher Algorithmus"
   ]
  },
  {
   "cell_type": "markdown",
   "id": "2151ea76-7b70-4e21-aa99-cccad81747a4",
   "metadata": {},
   "source": [
    "Wir schreiben die beiden Zahlen a und b beim Ablauf des eukldischen Algorithmus untereinander und beobachten:\n",
    "Immer wenn die größere Zahl die Seiten wechselt, können wir die neue Zahl aus den beiden oberen berechnen."
   ]
  },
  {
   "cell_type": "markdown",
   "id": "21ce6df8-0302-4572-8a0f-3477fbea1027",
   "metadata": {
    "jp-MarkdownHeadingCollapsed": true
   },
   "source": [
    "##### Beispiel:\n",
    "128 und 34"
   ]
  },
  {
   "cell_type": "markdown",
   "id": "d7816ac0-9b67-4134-b0ca-180fb625c0ae",
   "metadata": {},
   "source": [
    "<img src='modernerEuklid.png'>"
   ]
  },
  {
   "cell_type": "markdown",
   "id": "86322a1e-b657-4d6e-bab3-be989d04200a",
   "metadata": {
    "jp-MarkdownHeadingCollapsed": true
   },
   "source": [
    "##### Pseudocode"
   ]
  },
  {
   "cell_type": "code",
   "execution_count": null,
   "id": "b93e31ab-09e6-4ce4-b671-d68fa38dacda",
   "metadata": {
    "collapsed": true,
    "jupyter": {
     "outputs_hidden": true
    }
   },
   "outputs": [],
   "source": [
    "# moderner Euklidscher Algorithmus\n",
    "Schreibe beide Zahlen nebeneinander\n",
    "Tue solange bis die rechte Zahl gleich 0:\n",
    "    Die neue linke Zahl wird die alte rechte Zahl\n",
    "    die neue rechte Zahl wird die alte linke Zahl modulo der alten rechten Zahl"
   ]
  },
  {
   "cell_type": "markdown",
   "id": "14ed5c2a-6735-45c0-a7db-f52737da06f9",
   "metadata": {
    "jp-MarkdownHeadingCollapsed": true
   },
   "source": [
    "##### Python"
   ]
  },
  {
   "cell_type": "code",
   "execution_count": null,
   "id": "100555ab-25cf-4208-915f-87fab7b9fd91",
   "metadata": {
    "collapsed": true,
    "jupyter": {
     "outputs_hidden": true
    }
   },
   "outputs": [],
   "source": [
    "# moderner Euklidscher Algorithmus\n",
    "a = 128\n",
    "b = 34\n",
    "while b != 0:\n",
    "    a, b = b, a % b\n",
    "print(a)\n",
    "    "
   ]
  },
  {
   "cell_type": "markdown",
   "id": "d214735b-afc0-4978-a286-13bff5237528",
   "metadata": {},
   "source": [
    "### Das Sieb des Eratosthenes\n",
    "\n",
    "Es gibt keine einfache Formel für die k-te Primzahl. Das Sieb des Eratosthenes ist ein Algorithmus, um alle Primzahlen unterhalb einer gewissen Schranke n zu finden. \n"
   ]
  },
  {
   "cell_type": "markdown",
   "id": "2d8af581-de92-41f0-b5f9-9557abb5bdec",
   "metadata": {},
   "source": [
    "##### Primzahltest (brute force)"
   ]
  },
  {
   "cell_type": "code",
   "execution_count": 24,
   "id": "e3f9a926-e1c2-45e9-9791-78efc9cbe084",
   "metadata": {},
   "outputs": [
    {
     "name": "stdout",
     "output_type": "stream",
     "text": [
      "349 ist Primzahl.\n"
     ]
    }
   ],
   "source": [
    "x = 349\n",
    "prim = True\n",
    "t = x - 1\n",
    "while t != 1:\n",
    "    if x % t == 0:\n",
    "        prim = False\n",
    "        break\n",
    "    t = t - 1\n",
    "if prim:\n",
    "    print(x,'ist Primzahl.')\n",
    "else:\n",
    "    print(x,'ist keine Primzahl.')\n",
    " "
   ]
  },
  {
   "cell_type": "markdown",
   "id": "42eb8dc9-c79e-454b-84b4-d02f72688be3",
   "metadata": {},
   "source": [
    "##### Das Sieb des Eratosthenes"
   ]
  },
  {
   "cell_type": "code",
   "execution_count": 23,
   "id": "66564806-fcac-48ae-8ab8-32a739547a3a",
   "metadata": {},
   "outputs": [
    {
     "name": "stdout",
     "output_type": "stream",
     "text": [
      "2 3 5 7 11 13 17 19 23 29 31 37 41 43 47 53 59 61 67 71 73 79 83 89 97 101 103 107 109 113 127 131 137 139 149 151 157 163 167 173 179 181 191 193 197 199 211 223 227 229 233 239 241 251 257 263 269 271 277 281 283 293 307 311 313 317 331 337 347 349 353 359 367 373 379 383 389 397 401 409 419 421 431 433 439 443 449 457 461 463 467 479 487 491 499 503 509 521 523 541 547 557 563 569 571 577 587 593 599 601 607 613 617 619 631 641 643 647 653 659 661 673 677 683 691 701 709 719 727 733 739 743 751 757 761 769 773 787 797 809 811 821 823 827 829 839 853 857 859 863 877 881 883 887 907 911 919 929 937 941 947 953 967 971 977 983 991 997 "
     ]
    }
   ],
   "source": [
    "# Sieb des Eratosthenes\n",
    "n = 1000\n",
    "prim = [True] * (n+1)\n",
    "for i in range(2,n+1):\n",
    "    if prim[i]:\n",
    "        print(i, end=' ')\n",
    "        for j in range(i+i,n+1,i):\n",
    "            prim[j] = False\n",
    "   "
   ]
  }
 ],
 "metadata": {
  "kernelspec": {
   "display_name": "Python 3 (ipykernel)",
   "language": "python",
   "name": "python3"
  },
  "language_info": {
   "codemirror_mode": {
    "name": "ipython",
    "version": 3
   },
   "file_extension": ".py",
   "mimetype": "text/x-python",
   "name": "python",
   "nbconvert_exporter": "python",
   "pygments_lexer": "ipython3",
   "version": "3.11.2"
  },
  "vscode": {
   "interpreter": {
    "hash": "66cef8b640515d50f1dd36261b6c0429b289e00e05e66082067e4520c88a4539"
   }
  }
 },
 "nbformat": 4,
 "nbformat_minor": 5
}
