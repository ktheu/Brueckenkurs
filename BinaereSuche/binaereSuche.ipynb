{
 "cells": [
  {
   "cell_type": "markdown",
   "id": "fe9acc75-f5bc-4ffc-b0bb-ce2ad3501693",
   "metadata": {},
   "source": [
    "### Binäre Suche\n",
    "\n",
    "In einer sortierten Liste von Zahlen, können wir mit der binären Suche schnell überprüfen, ob ein Element vorhanden ist."
   ]
  },
  {
   "cell_type": "code",
   "execution_count": null,
   "id": "4a64b7f5-699a-4315-a6aa-f544389eef05",
   "metadata": {},
   "outputs": [],
   "source": [
    "def binaereSuche(a, x):\n",
    "    '''   \n",
    "    a: sortierte Liste mit Zahlen\n",
    "    x: gesuchte Zahl\n",
    "    returns: Index von x in a, falls x in a\n",
    "             -1              , falls x nicht in a\n",
    "\n",
    "    >>> a = [2,4,7,8,12,15,17,18,21,22,25]\n",
    "    >>> binaereSuche(a,12)\n",
    "    4\n",
    "    '''\n",
    "    L = 0\n",
    "    R = len(a)-1\n",
    "    while L <= R:  \n",
    "        mid = (L+R)//2        # besser: L + (R-L)//2\n",
    "        if a[mid] == x:\n",
    "            return mid\n",
    "        if a[mid] < x:\n",
    "            L = mid + 1\n",
    "        else:\n",
    "            R = mid - 1\n",
    "    return -1"
   ]
  },
  {
   "cell_type": "code",
   "execution_count": null,
   "id": "30cd0d54-faa8-4f0e-8b04-3b3c791540a0",
   "metadata": {},
   "outputs": [],
   "source": [
    "a = [2,4,7,8,12,15,17,18,21,22,25]\n",
    "binaereSuche(a,12)"
   ]
  }
 ],
 "metadata": {
  "kernelspec": {
   "display_name": "Python 3 (ipykernel)",
   "language": "python",
   "name": "python3"
  },
  "language_info": {
   "codemirror_mode": {
    "name": "ipython",
    "version": 3
   },
   "file_extension": ".py",
   "mimetype": "text/x-python",
   "name": "python",
   "nbconvert_exporter": "python",
   "pygments_lexer": "ipython3",
   "version": "3.11.2"
  }
 },
 "nbformat": 4,
 "nbformat_minor": 5
}
