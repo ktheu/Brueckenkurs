{
 "cells": [
  {
   "cell_type": "markdown",
   "id": "fe9acc75-f5bc-4ffc-b0bb-ce2ad3501693",
   "metadata": {},
   "source": [
    "### Binäre Suche\n",
    "\n",
    "In einer sortierten Liste von Zahlen, können wir mit der binären Suche schnell überprüfen, ob ein Element vorhanden ist.\n",
    "\n",
    "![](binaereSuche1.png)"
   ]
  },
  {
   "cell_type": "code",
   "execution_count": 1,
   "id": "4a64b7f5-699a-4315-a6aa-f544389eef05",
   "metadata": {},
   "outputs": [],
   "source": [
    "def binaereSuche(a, x):\n",
    "    '''   \n",
    "    a: sortierte Liste mit Zahlen\n",
    "    x: gesuchte Zahl\n",
    "    returns: Index von x in a, falls x in a\n",
    "             -1              , falls x nicht in a\n",
    "\n",
    "    >>> a = [2,4,7,8,12,15,17,18,21,22,25]\n",
    "    >>> binaereSuche(a,12)\n",
    "    4\n",
    "    '''\n",
    "    L = 0\n",
    "    R = len(a)-1\n",
    "    while L <= R:  \n",
    "        mid = (L+R)//2        # besser: L + (R-L)//2\n",
    "        if a[mid] == x:\n",
    "            return mid\n",
    "        if a[mid] < x:\n",
    "            L = mid + 1\n",
    "        else:\n",
    "            R = mid - 1\n",
    "    return -1"
   ]
  },
  {
   "cell_type": "code",
   "execution_count": 2,
   "id": "30cd0d54-faa8-4f0e-8b04-3b3c791540a0",
   "metadata": {},
   "outputs": [
    {
     "data": {
      "text/plain": [
       "4"
      ]
     },
     "execution_count": 2,
     "metadata": {},
     "output_type": "execute_result"
    }
   ],
   "source": [
    "a = [2,4,7,8,12,15,17,18,21,22,25]\n",
    "binaereSuche(a,12)"
   ]
  },
  {
   "cell_type": "markdown",
   "id": "52b8742e-f585-44cf-ae7d-5c6a2739cbfc",
   "metadata": {},
   "source": [
    "Bei der Berechnung von mid mit der Formel $(L+R)//2$ kann es in manchen Programmiersprachen zu einem overflow kommen.\n",
    "Daher wird die Berechnung mit $L + (R-L)//2$ bevorzugt.\n",
    "\n",
    "![](binaereSuche2.png)"
   ]
  },
  {
   "cell_type": "markdown",
   "id": "1b1aeee1-6876-421b-a67f-16e788240e08",
   "metadata": {},
   "source": [
    "Wir notieren den Inhalt der Variablen am Ende eines Schleifendurchgangs bzw. beim Verlassen der Schleife.\n",
    "\n",
    "##### Beispielsuche\n",
    "x = 29"
   ]
  },
  {
   "cell_type": "markdown",
   "id": "604f7dc5-adb2-4e87-a6d9-6a27863d8abe",
   "metadata": {},
   "source": [
    "<img src='such1.png' width='400'>"
   ]
  },
  {
   "cell_type": "markdown",
   "id": "e86ca42c-9b68-47cc-b935-44e87a3d6446",
   "metadata": {},
   "source": [
    "<img src='such2.png' width='400'>"
   ]
  },
  {
   "cell_type": "markdown",
   "id": "abb9d5b5-69d3-4091-9b49-b965158e2315",
   "metadata": {},
   "source": [
    "#### Weitere Anwendungen der binären Suche"
   ]
  },
  {
   "cell_type": "markdown",
   "id": "e289cf8b-a55e-4c8a-b278-1424806ceffd",
   "metadata": {},
   "source": [
    "Die binäre Suche kann sehr schnell in einer Liste den Übergang von True nach False finden, wenn es einen solchen Übergang nur einmal gibt."
   ]
  },
  {
   "cell_type": "code",
   "execution_count": 3,
   "id": "4f0efc16-8933-4bb6-a922-f9f06a1cdfdb",
   "metadata": {},
   "outputs": [],
   "source": [
    "def upperBound(a):\n",
    "    '''\n",
    "    Die Liste a enthält k1-mal den Wert True, gefolgt von k2-mal False.\n",
    "    returns: k1-1 = Index des letzten Elements mit True\n",
    "             -1, falls die Liste kein True enthält\n",
    "    \n",
    "    >>> [True, True, True, True, True, False, False, False, False]\n",
    "    >>> upperBound(a)\n",
    "    4\n",
    "    \n",
    "    '''\n",
    "    L = 0\n",
    "    R = len(a)-1\n",
    "    ans = -1\n",
    "    while L <= R:  \n",
    "        mid = L + (R-L)//2\n",
    "        if a[mid]:\n",
    "            ans = mid\n",
    "            L = mid + 1       \n",
    "        else:\n",
    "            R = mid - 1\n",
    "    return ans"
   ]
  },
  {
   "cell_type": "markdown",
   "id": "a62561d3-983e-41df-b234-8011a52a3ef3",
   "metadata": {},
   "source": [
    "##### UpperBound - Beispiel 1\n",
    "\n",
    "    a = [True, True, True, True, True, True, True, True, True, True, False, False, False, False]"
   ]
  },
  {
   "cell_type": "code",
   "execution_count": 7,
   "id": "6b23f378-04c7-47b1-b195-535efc8343d6",
   "metadata": {},
   "outputs": [
    {
     "data": {
      "text/plain": [
       "8"
      ]
     },
     "execution_count": 7,
     "metadata": {},
     "output_type": "execute_result"
    }
   ],
   "source": [
    "a = [True]*9+[False]*4\n",
    "upperBound(a)"
   ]
  },
  {
   "cell_type": "markdown",
   "id": "af6e5f54-0215-4676-9e54-77279661793b",
   "metadata": {},
   "source": [
    "<img src=upper1.png width='400'>"
   ]
  },
  {
   "cell_type": "markdown",
   "id": "abe64062-92d4-4b38-85ed-55a54452de8f",
   "metadata": {},
   "source": [
    "##### UpperBound - Beispiel 2\n",
    "\n",
    "    a = [True, True, True, True, True]"
   ]
  },
  {
   "cell_type": "code",
   "execution_count": 50,
   "id": "e7ebcb11-2acf-4af3-ac99-a56c34714123",
   "metadata": {},
   "outputs": [
    {
     "data": {
      "text/plain": [
       "4"
      ]
     },
     "execution_count": 50,
     "metadata": {},
     "output_type": "execute_result"
    }
   ],
   "source": [
    "a = [True]*5 \n",
    "upperBound(a)"
   ]
  },
  {
   "cell_type": "markdown",
   "id": "6fc8f6fb-2b41-4aa9-8c95-56eeffc690f5",
   "metadata": {},
   "source": [
    "<img src=upper2.png width='350'>"
   ]
  },
  {
   "cell_type": "markdown",
   "id": "91307886-99ef-4e69-bbda-563b31dbf2a8",
   "metadata": {},
   "source": [
    "##### UpperBound - Beispiel 3\n",
    "\n",
    "    a = [False, False, False, False, False]"
   ]
  },
  {
   "cell_type": "code",
   "execution_count": 51,
   "id": "2627cea2-5ed5-4c50-8a4e-b88ccb6889b4",
   "metadata": {},
   "outputs": [
    {
     "data": {
      "text/plain": [
       "-1"
      ]
     },
     "execution_count": 51,
     "metadata": {},
     "output_type": "execute_result"
    }
   ],
   "source": [
    "a = [False]*5 \n",
    "upperBound(a)"
   ]
  },
  {
   "cell_type": "markdown",
   "id": "0bd06259-baf6-4eba-afac-acb1178ce316",
   "metadata": {},
   "source": [
    "<img src=upper3.png width='350'>"
   ]
  },
  {
   "cell_type": "markdown",
   "id": "7a829ea9-27b8-49d9-8c19-6935445d4ad6",
   "metadata": {},
   "source": [
    "##### Anwendung des UpperBound: RotatedList"
   ]
  },
  {
   "cell_type": "markdown",
   "id": "53c3c566-11fc-41b7-b774-c8711e13fa16",
   "metadata": {},
   "source": [
    "    a = [15, 17, 22, 23, 33, 56, 72, 87, 4, 5, 6, 9, 13]"
   ]
  },
  {
   "cell_type": "markdown",
   "id": "50cb3f76-592e-459e-a980-ff7d15f10c3e",
   "metadata": {},
   "source": [
    "<img src=rotated1.png width='450'>"
   ]
  },
  {
   "cell_type": "code",
   "execution_count": 10,
   "id": "31478d0d-1620-4a67-a371-017d64437ac1",
   "metadata": {},
   "outputs": [
    {
     "data": {
      "text/plain": [
       "6"
      ]
     },
     "execution_count": 10,
     "metadata": {},
     "output_type": "execute_result"
    }
   ],
   "source": [
    "def rotatedList(a):\n",
    "    '''\n",
    "    Eine sortierte Liste mit verschiedenen Zahlen wurde eventuell an einem unbekannten Punkt rotiert, d.h. die Anfangsliste bis\n",
    "    zu diesem Punkt wurde ans Ende der Liste verschoben.  \n",
    "    returns: Index mit dem Beginn der sortierten Liste\n",
    "\n",
    "    Idee: wir ordnen einem Element am Index i den Wert True zu, wenn gilt: a[0] <= a[i]\n",
    "\n",
    "    >>> rotatedList([15,17,18,21,22,25,2,4,7,8,12])\n",
    "    6\n",
    "    >>> rotatedList([3,4,1,2])\n",
    "    2\n",
    "    >>> rotatedList([1,2,3,4])\n",
    "    0\n",
    "    '''\n",
    "    L = 0\n",
    "    R = len(a)-1\n",
    "    ans = -1\n",
    "    while L <= R:  \n",
    "        mid = L + (R-L)//2\n",
    "        if a[0] <= a[mid] :\n",
    "            ans = mid\n",
    "            L = mid + 1       \n",
    "        else:\n",
    "            R = mid - 1\n",
    "            \n",
    "    if ans == len(a)-1:    # es wurde nicht rotiert\n",
    "        return 0\n",
    "    return ans+1           # ans zeigt auf letztes Element x mit a[0] <= x\n",
    "\n",
    " \n",
    "rotatedList([15,17,18,21,22,25,2,4,7,8,12])\n",
    " "
   ]
  },
  {
   "cell_type": "markdown",
   "id": "7cb55ede-071f-4434-8257-b0a5e5ade342",
   "metadata": {},
   "source": [
    "##### Anwendung des UpperBound: FindMaximum"
   ]
  },
  {
   "cell_type": "markdown",
   "id": "d0e01982-63a0-4dc8-b275-915e8ab863ed",
   "metadata": {},
   "source": [
    "    a = [15, 17, 22, 23, 33, 56, 72, 33, 21, 8, 3]"
   ]
  },
  {
   "cell_type": "markdown",
   "id": "2a5d9430-9bf8-4154-abf3-813b9980db94",
   "metadata": {},
   "source": [
    "![](binaereSuche3.png)"
   ]
  },
  {
   "cell_type": "code",
   "execution_count": 34,
   "id": "f0c13725-5aee-461e-8f71-9c26c26bbbe3",
   "metadata": {},
   "outputs": [],
   "source": [
    "def findMaximum(a):\n",
    "    '''\n",
    "    In einer Liste mit mindestens 3 Elementen, die steigt und dann wieder fällt\n",
    "    sollen wir den Index mit dem Maximum finden.  \n",
    " \n",
    "    Idee: wir ordnen einem Element am Index i den Wert True zu, wenn gilt: a[i-1] < a[i]  \n",
    "\n",
    "    >>> a = [4,8,3]\n",
    "    >>> findMaximum(a)\n",
    "    1\n",
    "\n",
    "    >>> a = [2,3,4,6,9,12,16,20,11,8,6,4,1]\n",
    "    >>> findMaximum(a)\n",
    "    7\n",
    "\n",
    "    '''\n",
    "    L = 0\n",
    "    R = len(a)-1\n",
    "    ans = -1\n",
    "    while L <= R:  \n",
    "        mid = L + (R-L)//2\n",
    "        if a[mid] > a[mid-1]:\n",
    "            ans = mid\n",
    "            L = mid + 1        # rechts ein besseres True suchen\n",
    "        else:\n",
    "            R = mid - 1\n",
    "    return ans"
   ]
  },
  {
   "cell_type": "code",
   "execution_count": null,
   "id": "b6f2f0e1-47a8-4396-9a57-3a985d954eed",
   "metadata": {},
   "outputs": [],
   "source": []
  }
 ],
 "metadata": {
  "kernelspec": {
   "display_name": "Python 3 (ipykernel)",
   "language": "python",
   "name": "python3"
  },
  "language_info": {
   "codemirror_mode": {
    "name": "ipython",
    "version": 3
   },
   "file_extension": ".py",
   "mimetype": "text/x-python",
   "name": "python",
   "nbconvert_exporter": "python",
   "pygments_lexer": "ipython3",
   "version": "3.11.2"
  }
 },
 "nbformat": 4,
 "nbformat_minor": 5
}
