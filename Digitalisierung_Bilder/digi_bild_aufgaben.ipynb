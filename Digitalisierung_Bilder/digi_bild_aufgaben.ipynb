{
 "cells": [
  {
   "cell_type": "markdown",
   "id": "69d756ea-25c4-4a72-baf2-4c498ecd9e82",
   "metadata": {},
   "source": [
    "### Digitalisierung von Bildern - Aufgaben"
   ]
  },
  {
   "cell_type": "markdown",
   "id": "c9dbcb7e-f57c-4a7a-a513-1bea15774a56",
   "metadata": {},
   "source": [
    "**A1**\n",
    "\n",
    "\n",
    "Ergänze: Die _____________ eines Bildes wird bestimmt durch Bildauflösung und Farbtiefe.\n",
    "Die _____________ bestimmt, wie grob oder fein das Raster ist, in das das Bild übertragen wird. Je feiner das Raster, desto besser ist die Auflösung und damit die Qualität der Aufnahme. Je _____________ Pixel pro Inch das Bild hat, desto _____________ ist dessen Auflösung.\n",
    "Die _____________ ist der Speicherplatz, der benötigt wird, um die Farbinformation für ein Pixel zu speichern. Sie bestimmt also, wie viele verschiedene Farben je Rasterpunkt (=Pixel) möglich sind.\n",
    "\n",
    "**A2**\n",
    "\n",
    "<img src=\"elephanten.png\">\n",
    "\n",
    "a. Gib die Bildauflösung der beiden Elephantenbilder in dpi an. <br>\n",
    "b. Gib für beide Bilder auch die Gesamtzahl der Pixel in MP an. <br>\n",
    "c. Gib die Farbtiefe des Elefanten-Bildes an. <br>\n",
    "c. Berechne die Datenmenge des Elefanten-Bildes. (Betrachte nur die reinen Bilddaten).\n",
    "\n",
    "**A3**\n",
    "\n",
    "Berechne die Datenmenge eines Bildes, das 3,8 cm breit und 4,6 cm hoch ist und eine Bildauflösung von 60 dpi hat  <br>\n",
    "a. als Schwarzweiß-Bild  <br>\n",
    "b. als Graustufen-Bild mit 16 Farben  <br>\n",
    "c. als Farbbild  \n",
    "\n",
    "**A4**\n",
    "\n",
    "Welchen Inhalt hat die pbm-Datei, die das folgende Bild erzeugt?\n",
    "\n",
    "<img src='a4.png' width='200'>\n",
    "\n",
    "**A5**\n",
    "\n",
    "Gib den Inhalt einer pgm-Datei an, die ein ähnliches Bild wie unten erzeugt.\n",
    "\n",
    "<img src='a5.png' width='300'>\n",
    "\n",
    "**A6**\n",
    "\n",
    "Gib den Inhalt einer ppm-Datei an, die ein ähnliches Bild wie unten erzeugt.\n",
    "\n",
    "<img src='a6.png' height='300'>"
   ]
  },
  {
   "cell_type": "markdown",
   "id": "43e13420-b870-4a8e-aeed-16a38e77a427",
   "metadata": {},
   "source": [
    "**A7**\n",
    "\n",
    "Die Bilddaten eines Schwarzweiß-Bildes sind\n",
    "\n",
    "    0000001000001111110000111111110000111111111111\n",
    "\n",
    "a. Codiere die Bilddaten mit der Lauflängencodierung <br>\n",
    "b. Berechne die Datenmenge der ursprünglichen Bilddaten und der komprimierten. <br>\n",
    "c. Berechne die Ersparnis durch die Kompression\n",
    "\n",
    "**A8**\n",
    "\n",
    "Komprimiere den Text \n",
    "   HAAAALLOOO!!!\n",
    "   mit der Lauflängencodierung. Ist die Lauflängenkodierung in diesem Fall sinnvoll?\n",
    "   Ist die Lauflängencodierung zur Kompression von Texten geeignet?\n",
    "\n",
    "**A9**\n",
    "\n",
    "Die Bilddaten eines Farbbildes lassen sich ebenfalls mit der Lauflängencodierung codieren. Betrachte dazu folgende Bilddaten:\n",
    " \n",
    "    0 0 0 0 0 0 0 0 0 255 255 255 127 127 0 0 0 0 0 0 144 144 144 144 255 255 0 0 0 0 0 0 0 0 0 0\n",
    "\n",
    "   a. Wie könnte eine Lauflängencodierung aussehen? <br>\n",
    "   b. Was ist bei der Lauflängencodierung von Farbbildern anders als bei Schwarzweiß-Bildern? <br>\n",
    "   c. Berechne die ursprüngliche Datenmenge, die Datenmenge bei Kompression und die Ersparnis durch Kompression.\n",
    "   "
   ]
  }
 ],
 "metadata": {
  "kernelspec": {
   "display_name": "Python 3 (ipykernel)",
   "language": "python",
   "name": "python3"
  },
  "language_info": {
   "codemirror_mode": {
    "name": "ipython",
    "version": 3
   },
   "file_extension": ".py",
   "mimetype": "text/x-python",
   "name": "python",
   "nbconvert_exporter": "python",
   "pygments_lexer": "ipython3",
   "version": "3.11.2"
  }
 },
 "nbformat": 4,
 "nbformat_minor": 5
}
