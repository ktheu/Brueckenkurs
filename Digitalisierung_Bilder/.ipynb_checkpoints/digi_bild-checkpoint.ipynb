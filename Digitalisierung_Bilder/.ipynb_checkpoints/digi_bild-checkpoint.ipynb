{
 "cells": [
  {
   "cell_type": "markdown",
   "id": "3128fe52-3c0a-467b-baad-bf300de564c1",
   "metadata": {},
   "source": [
    "### Digitalisierung von Bildern\n",
    "\n",
    "[Video](https://youtu.be/w0ahV1QHVVs) - [AufgabenVideo](https://youtu.be/6Y2Tu-GNOMk)\n",
    "\n",
    "Die **Farbtiefe** ist der Speicherplatz, der benötigt wird, um die Farbinformation für ein Pixel zu speichern. Eine Farbtiefe von 3 Bit bedeutet, dass 3 Bit Speicherplatz je Pixel zur Verfügung steht. Damit können $2^3 = 8$ verschiedene Farben dargestellt werden.\n",
    "\n",
    "Die **Bildauflösung** wird in dpi (dots per inch (=2.54cm)) angegeben, und macht damit eine Aussage über die Qualität des Bildes. Bei Kameras hat sich die Angabe in MP (MegaPixel) etabliert und bezeichnet die Gesamtzahl der Pixel des Kamerasensors. Die Gesamtzahl der Pixel des Kamerasensors liefert nur dann einen Hinweis auf die Bildqualität, wenn die Größe des Sensors genannt wird. Bei gleicher Pixelanzahl liefern größere Sensoren in der Regel bessere Bilder, da sie mehr Licht pro Pixel aufnehmen können.\n",
    "\n",
    "Wenn jedes Pixel eines Bildes binär codiert wird, ist die **Datenmenge** eines Bildes das Produkt aus Anzahl Pixel und Farbtiefe.\n",
    "\n",
    "Bei der **Datenkompression** (auch: Datenkomprimierung) wird die Menge an Daten reduziert, also verringert. Wenn die Verringerung der Datenmenge mit einem Qualitätsverlust einher geht, spricht man von verlustbehafteter Datenkompression, ansonsten von verlustfreier Kompression. Dabei ist es unwesentlich, ob der Qualitätsverlust wahrnehmbar ist oder nicht. "
   ]
  },
  {
   "cell_type": "markdown",
   "id": "85ceb7f5-b4ac-4e76-9b87-ed06e429ac51",
   "metadata": {},
   "source": [
    "#### RGB\n",
    "\n",
    "Beim RGB-System setzt sich jede Farbe zusammen aus Anteilen von Rot, Grün und Blau. Die Anteile werden häufig mit Werten von 0-255 angegeben. Damit ergibt sich eine Farbtiefe von 24 Bit und die Möglichkeit, 16_777_216 Farben zu codieren.\n",
    "\n",
    "[Adobe Color](https://color.adobe.com/de/)"
   ]
  },
  {
   "cell_type": "code",
   "execution_count": 9,
   "id": "8f870d54-87f9-4a6d-8a15-e7b70a585d1c",
   "metadata": {},
   "outputs": [
    {
     "data": {
      "image/png": "[encoded data removed]",
      "text/plain": [
       "<Figure size 500x300 with 1 Axes>"
      ]
     },
     "metadata": {},
     "output_type": "display_data"
    }
   ],
   "source": [
    "import matplotlib.pyplot as plt\n",
    "\n",
    "# RGB values  \n",
    "r = 255  # Red (0-255)\n",
    "g = 255  # Green (0-255)\n",
    "b = 0   # Blue (0-255)\n",
    "\n",
    "# Create a simple plot\n",
    "plt.figure(figsize=(5, 3))\n",
    "plt.axhspan(0, 1, color=[r/255,g/255,b/255])  # Fill the entire plot with the color\n",
    "\n",
    "# Remove axes and margins\n",
    "plt.xticks([])\n",
    "plt.yticks([])\n",
    "plt.margins(0)\n",
    "\n",
    "# Add RGB and hex values as text\n",
    "hex_color = f'#{r:02X}{g:02X}{b:02X}'\n",
    "plt.title(f'RGB: ({r}, {g}, {b})\\nHex: {hex_color}')\n",
    "\n",
    "plt.show()"
   ]
  },
  {
   "cell_type": "markdown",
   "id": "60d23ac9-dc43-4aa3-851a-b240061e25d7",
   "metadata": {},
   "source": [
    "#### Darstellungsformate\n",
    "\n",
    "##### Portable Bitmap (.pbm)\n",
    "\n",
    "<img src='bpm.png' width='350'>"
   ]
  },
  {
   "cell_type": "code",
   "execution_count": 4,
   "id": "d8dde3e9-a213-4031-9bd3-3cbd04d3e338",
   "metadata": {},
   "outputs": [
    {
     "name": "stdout",
     "output_type": "stream",
     "text": [
      "Overwriting beispiel1.pbm\n"
     ]
    }
   ],
   "source": [
    "%%writefile beispiel1.pbm\n",
    "P1 4 5 01110100011101000110"
   ]
  },
  {
   "cell_type": "code",
   "execution_count": 5,
   "id": "168897e1-3b1d-4cea-a13f-ff6364d88143",
   "metadata": {},
   "outputs": [
    {
     "data": {
      "image/png": "[encoded data removed]",
      "text/plain": [
       "<Figure size 300x200 with 1 Axes>"
      ]
     },
     "metadata": {},
     "output_type": "display_data"
    }
   ],
   "source": [
    "from matplotlib import pyplot as plt, image\n",
    "fig = plt.figure(figsize=(3,2))\n",
    "img = image.imread(\"beispiel1.pbm\")\n",
    "plt.imshow(img);"
   ]
  },
  {
   "cell_type": "markdown",
   "id": "869a9a66-a039-4dc7-bab0-d75e453c36ac",
   "metadata": {},
   "source": [
    "##### Portable Greymap (.pgm)\n",
    "\n",
    "<img src='pgm.png' width='350'>"
   ]
  },
  {
   "cell_type": "code",
   "execution_count": 6,
   "id": "952420eb-d8bf-4e86-b173-bc5d99e2c0b8",
   "metadata": {},
   "outputs": [
    {
     "data": {
      "image/png": "[encoded data removed]",
      "text/plain": [
       "<Figure size 300x200 with 1 Axes>"
      ]
     },
     "metadata": {},
     "output_type": "display_data"
    }
   ],
   "source": [
    "from matplotlib import pyplot as plt, image\n",
    "fig = plt.figure(figsize=(3,2))\n",
    "img = image.imread(\"beispiel2.pgm\")\n",
    "plt.imshow(img, cmap='gray');"
   ]
  },
  {
   "cell_type": "markdown",
   "id": "43d85165-b04f-4603-9b7a-bbc7b3eb0b3b",
   "metadata": {},
   "source": [
    "##### Portable Pixelmap (.ppm)\n",
    "\n",
    "<img src='ppm.png' width='500'>"
   ]
  },
  {
   "cell_type": "code",
   "execution_count": 11,
   "id": "9ea4df5c-5808-4e49-8052-aa1b33a729aa",
   "metadata": {},
   "outputs": [
    {
     "name": "stdout",
     "output_type": "stream",
     "text": [
      "Overwriting beispiel3.ppm\n"
     ]
    }
   ],
   "source": [
    "%%writefile beispiel3.ppm\n",
    "P3 3 4 255  255 0 0  0 255 0  0 0 255  0 255 255  255 0 255  255 255 0  255 255 255  255 255 255  255 255 255  0 0 0  0 0 0  0 0 0 "
   ]
  },
  {
   "cell_type": "code",
   "execution_count": 17,
   "id": "858b3e7f-08fc-48ab-bdf0-6e831d8ee044",
   "metadata": {},
   "outputs": [
    {
     "data": {
      "image/png": "[encoded data removed]",
      "text/plain": [
       "<Figure size 300x200 with 1 Axes>"
      ]
     },
     "metadata": {},
     "output_type": "display_data"
    }
   ],
   "source": [
    "from matplotlib import pyplot as plt, image\n",
    "fig = plt.figure(figsize=(3,2))\n",
    "img = image.imread(\"beispiel3.ppm\")\n",
    "plt.imshow(img);\n",
    " "
   ]
  },
  {
   "cell_type": "markdown",
   "id": "c4ec01a0-6825-4010-9f56-fa9f4485d90c",
   "metadata": {},
   "source": [
    "#### Lauflängenkodierung\n",
    "Statt für jedes Pixel die Farbe zu notieren, wird die Farbe zusammen mit der Anzahl der Pixel, die diese Farbe haben, notiert. Falls es nur zwei Farben gibt, kann die Nennung der Farbe weggelassen werden. Dann muss aber vereinbart werden, welche die Start-Farbe ist.\n",
    "\n",
    " \n",
    "Beispiel: Ein schwarz-weiß Bild ist 8 Pixel breit und 7 Pixel hoch. Die Start-Farbe ist schwarz. Codierung:\n",
    "\n",
    "    9 6 2 1 1 2 1 1 2 6 1 4 1 2 6 9\n",
    "\n",
    "<img src='lauflaenge.png' width='300'>"
   ]
  },
  {
   "cell_type": "markdown",
   "id": "9f91ba61-f1a0-4a62-a81d-f15ff070e182",
   "metadata": {},
   "source": [
    "#### Datenkompression \n",
    "\n",
    "Das PNG-Format ist eine verlustfreie Datenkompression (Lauflängenkompression) <br>\n",
    "Das JPEG-Format ist eine verlustbehaftete Datenkompression."
   ]
  },
  {
   "cell_type": "code",
   "execution_count": 15,
   "id": "4b92de4c-c668-4743-b00f-e28c3466b215",
   "metadata": {},
   "outputs": [
    {
     "name": "stdout",
     "output_type": "stream",
     "text": [
      "Bild1: 3528460 bytes\n",
      "Bild2:  981131 bytes\n",
      "Bild3:  525372 bytes\n"
     ]
    }
   ],
   "source": [
    "from PIL import Image\n",
    "import os\n",
    "image = Image.open(\"luna.jpg\")\n",
    "image.save(\"luna30.jpg\", quality=30)\n",
    "image.save(\"luna10.jpg\", quality=10)\n",
    "\n",
    "print(f'Bild1: {os.path.getsize(\"luna.jpg\")} bytes')\n",
    "print(f'Bild2:  {os.path.getsize(\"luna30.jpg\")} bytes')\n",
    "print(f'Bild3:  {os.path.getsize(\"luna10.jpg\")} bytes')"
   ]
  },
  {
   "cell_type": "markdown",
   "id": "e0532ecb-ba9d-4b69-9819-ed7c5f857d86",
   "metadata": {},
   "source": [
    "<img src='luna.jpg'>\n",
    "\n",
    "<img src='luna30.jpg'>\n",
    "\n",
    "<img src='luna10.jpg'>"
   ]
  }
 ],
 "metadata": {
  "kernelspec": {
   "display_name": "Python 3 (ipykernel)",
   "language": "python",
   "name": "python3"
  },
  "language_info": {
   "codemirror_mode": {
    "name": "ipython",
    "version": 3
   },
   "file_extension": ".py",
   "mimetype": "text/x-python",
   "name": "python",
   "nbconvert_exporter": "python",
   "pygments_lexer": "ipython3",
   "version": "3.12.8"
  }
 },
 "nbformat": 4,
 "nbformat_minor": 5
}
