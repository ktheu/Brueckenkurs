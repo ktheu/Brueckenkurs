{
 "cells": [
  {
   "cell_type": "markdown",
   "id": "30e74568",
   "metadata": {
    "slideshow": {
     "slide_type": "slide"
    }
   },
   "source": [
    "## ASCII, Unicode, UTF-8\n",
    "\n",
    "### ASCII\n",
    "\n",
    "Ein Computer speichert binäre Daten. Um mit Zeichen umgehen zu können, wird über\n",
    "eine Zeichensatztabelle (Codepage) jedem Zeichen eine binäre Codierung zugeordnet.\n",
    "Der **ASCII-Code** (American Standard Code for Information Interchange) sieht in seiner ursprünglichen Version 7 Bits zur Codierung von Zeichen vor. Damit lassen sich $2^7 = 128$ Zeichen darstellen.  "
   ]
  },
  {
   "cell_type": "markdown",
   "id": "e91287bb",
   "metadata": {
    "slideshow": {
     "slide_type": "slide"
    }
   },
   "source": [
    "<img src='bild3.png' width='600'>"
   ]
  },
  {
   "cell_type": "code",
   "execution_count": null,
   "id": "ddf1a4a7",
   "metadata": {
    "slideshow": {
     "slide_type": "fragment"
    }
   },
   "outputs": [],
   "source": [
    "ord('t')"
   ]
  },
  {
   "cell_type": "code",
   "execution_count": null,
   "id": "264b9d0d-c16d-4094-b612-44f69d1debb9",
   "metadata": {},
   "outputs": [],
   "source": [
    "hex(ord('t'))"
   ]
  },
  {
   "cell_type": "markdown",
   "id": "1273603c",
   "metadata": {
    "slideshow": {
     "slide_type": "slide"
    }
   },
   "source": [
    "**ISO-8859-1** ist eine Erweiterung des ASCII-Codes auf 8 bit und reicht für die meisten westeuropäischen Sprachen aus. Es fehlt aber das Eurozeichen und einige französische Zeichen. Gebräuchliche Namen für ähnliche Varianten sind *Windows-1252*, *Latin-1*, *Westeuropäisch* oder *ANSI*. "
   ]
  },
  {
   "cell_type": "markdown",
   "id": "065a8967-54b1-48d4-8583-4d9dfd7bdd91",
   "metadata": {
    "slideshow": {
     "slide_type": "slide"
    }
   },
   "source": [
    "<img src='bild1.png' width='550'>"
   ]
  },
  {
   "cell_type": "code",
   "execution_count": null,
   "id": "3233d5cc",
   "metadata": {
    "slideshow": {
     "slide_type": "fragment"
    }
   },
   "outputs": [],
   "source": [
    " hex(ord('ü'))"
   ]
  },
  {
   "cell_type": "markdown",
   "id": "3e3e1432-8dcf-441e-8746-0a4e977d1852",
   "metadata": {},
   "source": [
    "Codierung der Buchstaben a-z, A-Z:\n",
    "\n",
    "    A, B, C, ...  = 01000001, 01000010, 01000011, ...\n",
    "    a, b, c, ...  = 01100001, 01100010, 01100011, ...\n"
   ]
  },
  {
   "cell_type": "markdown",
   "id": "82c6e33f",
   "metadata": {
    "slideshow": {
     "slide_type": "slide"
    }
   },
   "source": [
    "### Unicode und UTF-8\n",
    "\n",
    "**Unicode** ist ein internationaler Standard, der jedem Schriftzeichen aller bekannter Sprachen einen eindeutige Zahl zuordnet (Code Point). [Unicode Charts](https://www.unicode.org/charts/). \n",
    "\n",
    "\n",
    "```\n",
    "A     65 \n",
    "a     97 \n",
    "ß    223 \n",
    "€   8364\n",
    "```"
   ]
  },
  {
   "cell_type": "code",
   "execution_count": null,
   "id": "c452300a",
   "metadata": {
    "slideshow": {
     "slide_type": "fragment"
    }
   },
   "outputs": [],
   "source": [
    "ord('€')"
   ]
  },
  {
   "cell_type": "code",
   "execution_count": null,
   "id": "c29e0bb2-8421-47fb-b8e3-c0122ef46416",
   "metadata": {},
   "outputs": [],
   "source": [
    "chr(8364)"
   ]
  },
  {
   "cell_type": "markdown",
   "id": "069f6c3b",
   "metadata": {
    "slideshow": {
     "slide_type": "slide"
    }
   },
   "source": [
    "**UTF-8** (1992) ist die am weitesten verbreitete Kodierung für Unicode-Zeichen. [Numberphile](https://www.youtube.com/watch?v=MijmeoH9LT4). <br>\n",
    "Unicode-Zeichen größer als 127 werden in der UTF-8 Kodierung zu Byte-Ketten der Länge 2 bis 4 kodiert."
   ]
  },
  {
   "cell_type": "markdown",
   "id": "fd6e3b22-875e-4996-89da-979b180be59f",
   "metadata": {
    "slideshow": {
     "slide_type": "slide"
    }
   },
   "source": [
    "<img src='utf8.png'>"
   ]
  },
  {
   "cell_type": "markdown",
   "id": "6fb77094-e479-4fff-96e1-0d684ccbe3b4",
   "metadata": {
    "slideshow": {
     "slide_type": "fragment"
    }
   },
   "source": [
    "\n",
    "Beispiel: Die UTF-8 Codierung von € \n",
    "\n",
    "![](unicode.png)\n"
   ]
  },
  {
   "cell_type": "code",
   "execution_count": null,
   "id": "89f29555-4c9b-4768-b722-5048a8089101",
   "metadata": {
    "slideshow": {
     "slide_type": "slide"
    }
   },
   "outputs": [],
   "source": [
    "c = '€'             # Zeichen\n",
    "c.encode('utf-8')   # utf-8 Codierung "
   ]
  },
  {
   "cell_type": "code",
   "execution_count": null,
   "id": "9d1b66a4-e59a-4b1f-b2ea-e4d39501c7f7",
   "metadata": {
    "slideshow": {
     "slide_type": "fragment"
    }
   },
   "outputs": [],
   "source": [
    "x = b'\\xe2\\x82\\xac'     # utf-8 Codierung\n",
    "x.decode(\"utf-8\")        # zeichen "
   ]
  },
  {
   "cell_type": "markdown",
   "id": "bc850d44",
   "metadata": {
    "slideshow": {
     "slide_type": "slide"
    }
   },
   "source": [
    "##### Einen Speicherbereich analysieren\n",
    "\n",
    "Ein Texteditor soll folgenden Speicherbereich darstellen:\n",
    "\n",
    "<img src='bild4.png' width='1000'>"
   ]
  },
  {
   "cell_type": "markdown",
   "id": "4ea01651-b973-4cca-8e68-ecaf1914b10a",
   "metadata": {
    "slideshow": {
     "slide_type": "slide"
    }
   },
   "source": [
    "Derselbe Speicherbereich hexadezimal:\n",
    "\n",
    "<img src='bild5.png'>\n",
    "\n",
    "Die Bytefolge EF BB BF heißt **Byte Order Mark (BOM)** und gibt den Editor einen Hinweis darauf, dass\n",
    "eine UTF-8 Kodierung vorliegt.  \n",
    "0A ist die ASCII (und UTF-8) Codierung für den Zeilenvorschub.\n",
    "\n",
    "![](unicode2.png)"
   ]
  },
  {
   "cell_type": "code",
   "execution_count": 5,
   "id": "3250b727-aaaf-4b5f-aec5-d11ad3a3d273",
   "metadata": {},
   "outputs": [
    {
     "data": {
      "text/plain": [
       "'♔'"
      ]
     },
     "execution_count": 5,
     "metadata": {},
     "output_type": "execute_result"
    }
   ],
   "source": [
    "chr(0x2654)"
   ]
  },
  {
   "cell_type": "code",
   "execution_count": 6,
   "id": "1b181eb1-f804-4beb-b206-4193f19c3a26",
   "metadata": {},
   "outputs": [
    {
     "name": "stdout",
     "output_type": "stream",
     "text": [
      "♔\n"
     ]
    }
   ],
   "source": [
    "x = b\"\\xe2\\x99\\x94\"    # byte-Folge\n",
    "c = x.decode(\"utf8\")\n",
    "print(c)"
   ]
  },
  {
   "cell_type": "code",
   "execution_count": null,
   "id": "f7832ab3-f958-4c2b-bbec-878e1649792f",
   "metadata": {},
   "outputs": [],
   "source": []
  }
 ],
 "metadata": {
  "celltoolbar": "Slideshow",
  "kernelspec": {
   "display_name": "Python 3 (ipykernel)",
   "language": "python",
   "name": "python3"
  },
  "language_info": {
   "codemirror_mode": {
    "name": "ipython",
    "version": 3
   },
   "file_extension": ".py",
   "mimetype": "text/x-python",
   "name": "python",
   "nbconvert_exporter": "python",
   "pygments_lexer": "ipython3",
   "version": "3.11.2"
  }
 },
 "nbformat": 4,
 "nbformat_minor": 5
}
