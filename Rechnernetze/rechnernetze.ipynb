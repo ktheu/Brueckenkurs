{
 "cells": [
  {
   "attachments": {},
   "cell_type": "markdown",
   "id": "5e048ec0-5137-45ca-8a81-0202efa6a262",
   "metadata": {},
   "source": [
    "### Rechnernetze\n",
    "\n",
    "[Video](https://youtu.be/Vfd0pgJ5zKQ)\n",
    "\n",
    "\n",
    "Ein **LAN** (Local Area Network) ist auf kleine räumliche Umgebungen beschränkt (z.B. Schule oder Firma). Auch ein Heimnetzwerk ist ein LAN.\n",
    "\n",
    "<img src='lan1.png' width='801'>\n",
    "\n",
    "Bei einem Heimnetzwerk verbindet der **Router** alle Geräte, die zum LAN gehören, mit dem Internet. Der Router ist über ein **Modem** mit dem Internetdienstanbieter (ISP Internet Service Provider) verbunden. Reichen die Anschlüsse des Routers nicht aus, benötigt man einen Verteiler, z.B. einen **Switch**. Switche, mit denen sich Geräte per Funk verbinden lassen, nennt man Wireless Access Point, kurz **AP**.\n",
    "Moderne Router haben meist das Modem, einige LAN-Anschlüsse und einen AP eingebaut.\n",
    "\n",
    "Router stellen die Verbindung zwischen verschiedenen Geräten im LAN und die Verbindung zum Internet her. In Routern ist meist eine Software eingebaut, die zwischen Internet und dem lokalen Netzwerk eine Kontrollstelle aufbaut (**Firewall**).\n",
    "\n",
    "Das **Internet** ist ein Netz von Netzen.\n",
    "\n",
    "<img src='lan2.png' width='600'>\n",
    "\n",
    "#### IP-Adressen\n",
    "\n",
    "Damit ein Rechner im Internet gefunden wird, benötigt er eine Adresse. Die IPv4-Adresse ist eine 4 Byte lange Zahl. Die Zahlen werden jeweils durch einen Punkt getrennt, z.B:\n",
    "\n",
    "    192.168.123.137\n",
    "\n",
    "Es gibt $(2^8)^4 = 2^{32}$ verschiedene IPv4 Adressen geben (ca. 4 Milliarden).\n",
    "\n",
    "Eine IPv6 Adresse verwendet 16 Byte und sieht in Hex-Darstellung z.B. so aus:\n",
    "\n",
    "    4003:0dc8:15a6:08d4:2319:3b2a:0040:3221\n",
    "\n",
    "Wir betrachten im Folgenden nur IPv4.\n",
    "Zur einer IP-Adresse gehört eine Subnetz-Maske, die die Adresse in einen Netz und einen Host-Anteil aufteilt. \n",
    "\n",
    "    IP-Adresse:       192.168.123.137  =\t11000000.10101000.01111011.10001001\n",
    "    Subnetz-Maske:    255.255.255.000  =\t11111111.11111111.11111111.00000000\n",
    "    Netzwerk-Kennung: 192.168.123.000  =    11000000.10101000.01111011.00000000\n",
    "    Computer-Kennung:             137\n",
    "\n",
    "Das Ende der Einsen in der Subnetz-Maske kann auch mitten im Byte liegen. Geräte mit derselben Netzwerkkennung liegen im selben Netz. \n",
    "Die Subnetz-Maske kann ersetzt werden durch die Angabe eines Suffix, der die Anzahl der Einsen in der Subnetz-Maske angibt. Die obige\n",
    "IP-Adresse könnte man damit auch schreiben als 192.168.123.137/24."
   ]
  },
  {
   "cell_type": "markdown",
   "id": "e610438e-b1b4-4f54-8d0d-8619643408d7",
   "metadata": {},
   "source": [
    "###### Beispiel\n",
    "```\n",
    "Gegeben die IP-Adresse = 172.254.13.8 und Subnetzmaske = 255.255.248.0\n",
    "Die Subnetmaske 255.255.248.0 binär: 11111111.11111111.11111000.00000000\n",
    "Das ist eine /21-Maske, d.h. die ersten 21 Bits der IP-Adresse gehören zum Netzwerk,\n",
    "die letzten 11 Bits bezeichnen den Host (Geräteteil).\n",
    "\n",
    "\n",
    "                                    21.Bit\n",
    "                                   v\n",
    "IP-Adresse:  10101100.11111110.00001101.00001000\n",
    "Netzanteil:  10101100.11111110.00001000.00000000 = 172.254.8.0\n",
    "Geräteteil:  00000000.00000000.00000101.00001000 = 0.0.5.8 = 5*256+8 = 1288\n",
    "\n",
    "Die IP-Adresse 172.254.13.8 ist also die 1288-te Adresse im Netz 172.254.8.0.\n",
    "Insgesamt stehen 32-21=11 bits für Geräteadressen zur Verfügung, d.h. sind 2^11 Möglichkeiten. Davon ist die\n",
    "erste (alle 11 letzte Bits 0) die Netzadresse 172.254.8.0 und die letzte (alle 11 letzte Bits 1)\n",
    "die Brodcastadresse 172.254.15.255, d.h. es stehen 2^11-2 = 2046 Adressen für Geräte zur Verfügung.\n",
    "```\n",
    "\n",
    "Eine Übersicht über die verschieden Netzgrößen findet sich [hier](https://de.wikipedia.org/wiki/Classless_Inter-Domain_Routing#%C3%9Cbersicht_f%C3%BCr_IPv4)."
   ]
  },
  {
   "cell_type": "markdown",
   "id": "c7a68ee0-d03e-4b85-89e5-8e3a6ef5b411",
   "metadata": {},
   "source": [
    "### Protokolle \n",
    "\n",
    "\n",
    "Protokolle sind ein Satz von Regeln und Standards, die die Kommunikation zwischen verschiedenen Computern, Geräten oder Anwendungen in einem Netzwerk ermöglichen. Protokolle definieren, wie Daten übertragen werden, welche Formate sie haben sollten und wie Fehler und Konflikte behandelt werden."
   ]
  },
  {
   "cell_type": "markdown",
   "id": "225e12b1-3acb-4ac5-9734-a9994dadc8e9",
   "metadata": {},
   "source": [
    "### Schichten\n",
    "\n",
    "Die Kommunikation per Luftpost, aufgeteilt in mehrere Schichten:\n",
    "\n",
    "<img src='schichten1.png' width='500'>\n",
    "\n",
    "Das TCP/IP-Modell beschreibt die digitale Kommunikation als einen Stapel von vier Schichten mit je eigenen Protokollen innerhalb und zwischen den Schichten.\n",
    "\n",
    "<img src='schichten2.png' width='401'>\n",
    "\n",
    "Das TCP/IP-Modell basiert auf dem OSI-Modell, das 7 Schichten unterscheidet.<\n"
   ]
  },
  {
   "cell_type": "markdown",
   "id": "2c8de5d4-5111-4f12-985d-96ec4abec9dd",
   "metadata": {},
   "source": [
    "#### UDP und TCP\n",
    "\n",
    "TCP ist ein verbindungsorientiertes Protokoll, das sicherstellt, dass Daten zuverlässig von einem Punkt zu einem anderen übertragen werden. Es zerlegt Daten in Pakete, überträgt sie und stellt sicher, dass sie in der richtigen Reihenfolge und ohne Fehler am Ziel ankommen. UDP ist verbindungslos, es sendet Datenpakete ohne vorherigen Verbindungsaufbau und übernimmt keine Garantie für Zustellung und Reihenfolge. Es ist schneller als TCP.\n",
    "\n",
    "Typische Anwendungen:\n",
    "- TCP: Webbrowsing (HTTP), E-Mail (SMTP), Dateiübertragung (FTP)\n",
    "- UDP: Streaming, Online-Gaming, VoIP"
   ]
  },
  {
   "cell_type": "markdown",
   "id": "4a5ca025-8462-48e4-b2dc-0b36dd9cb1eb",
   "metadata": {
    "editable": true,
    "slideshow": {
     "slide_type": ""
    },
    "tags": []
   },
   "source": [
    "### MAC-Adressen\n",
    "\n",
    "MAC-Adressen (physikalische Adressen) sind vom Hersteller einer Hardware vergebene 48-Bit-Nummern. \n",
    "\n",
    "    Beispiel: 14-5A-FC-24-5F-95\n",
    "    \n",
    "Die ersten 24 Bits sind der Herstellercode, \n",
    "die letzten 24 Bits sind eine vom Hersteller vergebene Seriennummer. Den Hersteller kann man z.B. bei [macaddress.io](https://macaddress.io/) herausfinden.  MAC-Adressen sind \"theoretisch eindeutig\" aber nicht \"garantiert eindeutig\", da es wegen Fälschungen oder Fehlproduktionen auch zu Dopplungen kommen kann. Bei der endgültigen Zustellung der Signale einer digitalen Kommunikation auf der untersten Schicht werden die MAC-Adressen benötigt. \n",
    "\n",
    "Die MAC-Adressen sind der untersten Schicht (Netzzugangsschicht) zugeordnet. Ein Switch benötigt für seine Arbeit die MAC-Adressen. \n",
    "Während die IP-Adresse eines Gerätes im Laufe der Zeit wechseln kann, bleibt die MAC-Adresse immer gleich.\n"
   ]
  },
  {
   "cell_type": "markdown",
   "id": "569ea75e-0fa6-4c2b-989e-52fcd822d5ad",
   "metadata": {},
   "source": [
    "### NAT (Networt Adress Translation)"
   ]
  },
  {
   "cell_type": "markdown",
   "id": "baa2ea36-f593-4eb5-8605-e00a04d32174",
   "metadata": {},
   "source": [
    "Mit dem Befehl ```ipconfig``` erhalte ich Informationen über mein Netzwerk."
   ]
  },
  {
   "cell_type": "markdown",
   "id": "05a66a3e-a86c-41df-9335-71997f7f0734",
   "metadata": {},
   "source": [
    "   IPv4-Adresse  . . . . . . . . . . : 192.168.178.81\n",
    "   Subnetzmaske  . . . . . . . . . . : 255.255.255.0\n",
    "   Standardgateway . . . . . . . . . : 192.168.178.1"
   ]
  },
  {
   "cell_type": "markdown",
   "id": "9091c3bc-af0d-408a-8d6a-56093c3905ce",
   "metadata": {},
   "source": [
    "<img src='nat.png' width='900'>"
   ]
  },
  {
   "cell_type": "markdown",
   "id": "dfa58b06-c787-4d65-87fb-fee9275e43ad",
   "metadata": {},
   "source": [
    "Im IPv4-Adressraum gibt es bestimmte Adressbereiche, die für private Netzwerke reserviert sind. Diese Adressen werden in der Regel innerhalb eines lokalen Netzwerks (LAN) verwendet und sind im Internet nicht direkt erreichbar.\n",
    "\n",
    "    10.0.0.0 – 10.255.255.255\n",
    "    172.16.0.0 – 172.31.255.255\n",
    "    192.168.0.0 – 192.168.255.255  "
   ]
  },
  {
   "cell_type": "markdown",
   "id": "767adcba-6d27-4c2b-af0a-b41286210e02",
   "metadata": {},
   "source": [
    "Über https://whatismyipaddress.com/ kann ich mir meine öffentliche IP-Adresse ansehen. Sie unterscheidet sich von der lokalen IP-Adresse, die ich mit \n",
    "dem Befehl ```ipconfig``` erhalte. Über die öffentliche IP-Adresse gehen alle Geräte meines Heimnetzes ins Internet. Der Router merkt sich über Port-Nummern welche Pakete von welcher privaten IP-Adresse kommen und verteilt die Antworten wieder richtig.\n",
    "\n",
    "NAT wurde eingeführt, um die Adressknappheit von IPv4 zu umgehen. "
   ]
  },
  {
   "cell_type": "markdown",
   "id": "e6bc5946-625a-4a68-a2bc-ab8c17f2c05f",
   "metadata": {},
   "source": [
    "### ipconfig\n",
    "\n",
    "Ein Auszug aus der Information, die wir mit ```ipconfig -all``` erhalten.\n",
    "```\n",
    "\n",
    "   Beschreibung. . . . . . . . . . . : Realtek RTL8852AE WiFi 6 802.11ax PCIe Adapter\n",
    "   Physische Adresse . . . . . . . . : 14-5A-FC-24-5F-95\n",
    "   DHCP aktiviert. . . . . . . . . . : Ja\n",
    "\n",
    "   IPv4-Adresse  . . . . . . . . . . : 192.168.178.81 \n",
    "   Subnetzmaske  . . . . . . . . . . : 255.255.255.0\n",
    "   Standardgateway . . . . . . . . . : 192.168.178.1 \n",
    "                                       \n",
    "   DHCP-Server . . . . . . . . . . . : 192.168.178.1\n",
    "   DNS-Server  . . . . . . . . . . . : 192.168.178.1                                      \n",
    "```"
   ]
  },
  {
   "cell_type": "markdown",
   "id": "fb1971c5-4bd8-4a0e-a949-9d636c57a239",
   "metadata": {},
   "source": [
    "#### Client-Server  \n",
    "\n",
    "Ein **Server** ist in der Informatik ein Dienstleister, der in einem Computersystem Daten oder Ressourcen zur Verfügung stellt. \n",
    "Damit können zwei Dinge gemeint sein:\n",
    "\n",
    "- Ein Computerprogramm, das einen Dienst bereitstellt. <br>\n",
    "- Der Computer auf dem ein oder mehrere Server-Programme laufen. Die ursprüngliche Bezeichnung für diesen physischen Rechner ist **Host**.\n",
    "\n",
    "Ein **Client** ist eine Anwendung, die in einem Netzwerk den Dienst eines Servers in Anspruch nimmt. Manchmal ist damit auch der Computer gemeint, auf dem die Client-Anwendung läuft.\n",
    "\n",
    "Ein **Echo-Server** ist ein einfacher Netzwerkserver, der eingehende Nachrichten von einem Client empfängt und diese unverändert zurücksendet. <br>\n",
    "Ein **Webserver** stellt HTML-Seiten zur Verfügung, der Client dazu ist ein **Browser**. <br>\n",
    "Ein **DHCP-Server** sorgt dafür, dass die Rechner in einem Netz geeignete IP-Adressen erhalten. <br>\n",
    "Ein **DNS-Server** sorgt dafür, dass wir statt IP-Adressen Domainnamen verwenden können. <br>\n",
    "Ein **E-Mail-Server** organisiert den e-Mail Verkehr.\n",
    " "
   ]
  },
  {
   "cell_type": "markdown",
   "id": "f9e8144a-84dc-4186-bc63-70f53d4e351f",
   "metadata": {},
   "source": [
    "#### Filius\n",
    "Mit dem Programm Filius lassen sich Rechnernetze simulieren. Mache dich mit dem Programm vertraut: \n",
    "[Filius-Playlist](https://www.youtube.com/playlist?list=PLEnB4YXD6NZPl74ndy9Kn9RyFNiagZNos)"
   ]
  }
 ],
 "metadata": {
  "kernelspec": {
   "display_name": "Python 3 (ipykernel)",
   "language": "python",
   "name": "python3"
  },
  "language_info": {
   "codemirror_mode": {
    "name": "ipython",
    "version": 3
   },
   "file_extension": ".py",
   "mimetype": "text/x-python",
   "name": "python",
   "nbconvert_exporter": "python",
   "pygments_lexer": "ipython3",
   "version": "3.12.8"
  }
 },
 "nbformat": 4,
 "nbformat_minor": 5
}
