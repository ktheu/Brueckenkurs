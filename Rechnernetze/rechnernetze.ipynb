{
 "cells": [
  {
   "cell_type": "markdown",
   "id": "5e048ec0-5137-45ca-8a81-0202efa6a262",
   "metadata": {},
   "source": [
    "### Netzwerke\n",
    "\n",
    "Ein **LAN** (Local Area Network) ist auf kleine räumliche Umgebungen beschränkt (z.B. Schule oder Firma). Auch ein Heimnetzwerk ist ein LAN. Das **Internet** ist ein Netz von Netzen.\n",
    "\n",
    "Bei einem Heimnetzwerk verbindet der **Router** alle Geräte, die zum LAN gehören, mit dem Internet. Der Router ist über ein **Modem** mit dem Internetdienstanbieter verbunden. Reichen die Anschlüsse des Routers nicht aus, benötigt man einen Verteiler, z.B. einen **Switch**. Switche, mit denen sich Geräte per Funk verbinden lassen, nennt man Wireless Access Point, kurz **AP**.\n",
    "Moderne Router haben meist das Modem, einige LAN-Anschlüsse und einen AP eingebaut.\n",
    "\n",
    "Router stellen die Verbindung zwischen verschiedenen Geräten im LAN und die Verbindung zum Internet her. In Routern ist meist eine Software eingebaut, die zwischen Internet und dem lokalen Netzwerk eine Kontrollstelle aufbaut (**Firewall**).\n",
    "\n",
    "\n",
    "#### IP-Adressen\n",
    "\n",
    "Damit ein Rechner im Internet gefunden wird, benötigt er eine Adresse. Die IPv4-Adresse ist eine 4 Byte lange Zahl. Die Zahlen werden jeweils durch einen Punkt getrennt, z.B:\n",
    "\n",
    "    192.168.123.137\n",
    "\n",
    "Es gibt $(2^8)^4 = 2^{32}$ verschiedene IPv4 Adressen geben (ca. 4 Milliarden).\n",
    "\n",
    "Eine IPv6 Adresse verwendet 16 Byte und sieht in Hex-Darstellung z.B. so aus:\n",
    "\n",
    "    4003:0dc8:15a6:08d4:2319:3b2a:0040:3221\n",
    "\n",
    "Wir betrachten im Folgenden nur IPv4\n",
    "Zur einer IP-Adresse gehört eine Subnetz-Maske, die die Adresse in einen Netz und einen Host-Anteil aufteilt. \n",
    "\n",
    "    IP-Adresse:       192.168.123.137  =\t11000000.10101000.01111011.10001001\n",
    "    Subnetz-Maske:    255.255.255.000  =\t11111111.11111111.11111111.00000000\n",
    "    Netzwerk-Kennung: 192.168.123.000  =    11000000.10101000.01111011.00000000\n",
    "    Computer-Kennung:             137\n",
    "\n",
    "Das Ende der Einsen in der Subnetz-Maske kann auch mitten im Byte liegen. Geräte mit derselben Netzwerkkennung liegen im selben Netz. \n",
    "\n"
   ]
  },
  {
   "cell_type": "markdown",
   "id": "e610438e-b1b4-4f54-8d0d-8619643408d7",
   "metadata": {},
   "source": [
    "#### Beispiel\n",
    "```\n",
    "Gegeben die IP-Adresse = 172.254.13.8 und Subnetzmaske = 255.255.248.0\n",
    "Die Subnetmaske 255.255.248.0 binär: 11111111.11111111.11111000.00000000\n",
    "Das ist eine /21-Maske, d.h. die ersten 21 Bits der IP-Adresse gehören zum Netzwerk,\n",
    "die letzten 11 Bits bezeichnen den Host (Geräteteil).\n",
    "\n",
    "Die bitweise UND-Verbindung von IP-Adresse und Subnetmaske ergibt den Netzanteil\n",
    "IP-Adresse:  10101100.11111110.00001101.00001000\n",
    "Subnetmaske: 11111111.11111111.11111000.00000000\n",
    "Netzanteil:  10101100.11111110.00001000.00000000 = 172.254.8.0\n",
    "\n",
    "Die bitweise UND-Verbindung der IP-Adresse mit der invertierten Subnetmaske ergibt den Hostanteil\n",
    "Geräteteil:  00000000.00000000.00000101.00001000 = 0.0.5.8 = 1288.\n",
    "\n",
    "Die IP-Adresse 172.254.13.8 ist also die 1288-te Adresse im Netz 172.254.8.0.\n",
    "Insgesamt stehen 32-21=11 bits für Adressen zur Verfügung, d.h. sind 2^11 Möglichkeiten. Davon ist die\n",
    "erste (alle 11 letzte Bits 0) die Netzadresse 172.254.8.0 und die letzte (alle 11 letzte Bits 1)\n",
    "die Brodcastadresse 172.254.15.255, d.h. es stehen 2^11-2 = 2046 Adressen für Geräte zur Verfügung.\n",
    "```"
   ]
  },
  {
   "cell_type": "markdown",
   "id": "c7a68ee0-d03e-4b85-89e5-8e3a6ef5b411",
   "metadata": {},
   "source": [
    "### Protokolle \n",
    "\n",
    "\n",
    "Protokolle sind ein Satz von Regeln und Standards, die die Kommunikation zwischen verschiedenen Computern, Geräten oder Anwendungen in einem Netzwerk ermöglichen. Protokolle definieren, wie Daten übertragen werden, welche Formate und Strukturen sie haben sollten und wie Fehler und Konflikte behandelt werden."
   ]
  },
  {
   "cell_type": "markdown",
   "id": "225e12b1-3acb-4ac5-9734-a9994dadc8e9",
   "metadata": {},
   "source": [
    "### Schichten\n",
    "\n",
    "Die Kommunikation per Luftpost, aufgeteilt in mehrere Schichten:\n",
    "\n",
    "<img src='schichten1.png' width='500'>\n",
    "\n",
    "Das TCP/IP-Modell beschreibt die digitale Kommunikation als einen Stapel von vier Schichten mit je eigenen Protokollen innerhalb und zwischen den Schichten.\n",
    "\n",
    "<img src='schichten2.png' width='401'>"
   ]
  },
  {
   "cell_type": "markdown",
   "id": "fb1971c5-4bd8-4a0e-a949-9d636c57a239",
   "metadata": {},
   "source": [
    "#### Client-Server  \n",
    "\n",
    "Ein **Server** ist in der Informatik ein Dienstleister, der in einem Computersystem Daten oder Ressourcen zur Verfügung stellt. \n",
    "Damit können zwei Dinge gemeint sein:\n",
    "\n",
    "- Ein Computerprogramm, das einen Dienst bereitstellt. <br>\n",
    "- Der Computer auf dem ein oder mehrere Server-Programme laufen. Die ursprüngliche Bezeichnung für diesen physischen Rechner ist **Host**.\n",
    "\n",
    "Ein **Client** ist eine Anwendung, die in einem Netzwerk den Dienst eines Servers in Anspruch nimmt. Manchmal ist damit auch der Computer gemeint, auf dem die Client-Anwendung läuft.\n",
    "\n",
    "Ein **Echo-Server** ist ein einfacher Netzwerkserver, der eingehende Nachrichten von einem Client empfängt und diese unverändert zurücksendet. <br>\n",
    "Ein **Webserver** stellt HTML-Seiten zur Verfügung, der Client dazu ist ein **Browser**. <br>\n",
    "Ein **DHCP-Server** sorgt dafür, dass die Rechner in einem Netz geeignete IP-Adressen erhalten. <br>\n",
    "Ein **DNS-Server** sorgt dafür, dass wir statt IP-Adressen Domainnamen verwenden können. <br>\n",
    "Ein **E-Mail-Server** organisiert den e-Mail Verkehr.\n",
    " "
   ]
  },
  {
   "cell_type": "markdown",
   "id": "f9e8144a-84dc-4186-bc63-70f53d4e351f",
   "metadata": {},
   "source": [
    "#### Filius\n",
    "Mit dem Programm Filius lassen sich Rechnernetze simulieren. Bearbeite folgende Aufgaben:\n",
    "\n",
    "[Aufgaben](./Filiusaufgaben.pdf)  -   [Videos](https://www.youtube.com/playlist?list=PLEnB4YXD6NZPl74ndy9Kn9RyFNiagZNos)"
   ]
  }
 ],
 "metadata": {
  "kernelspec": {
   "display_name": "Python 3 (ipykernel)",
   "language": "python",
   "name": "python3"
  },
  "language_info": {
   "codemirror_mode": {
    "name": "ipython",
    "version": 3
   },
   "file_extension": ".py",
   "mimetype": "text/x-python",
   "name": "python",
   "nbconvert_exporter": "python",
   "pygments_lexer": "ipython3",
   "version": "3.11.2"
  }
 },
 "nbformat": 4,
 "nbformat_minor": 5
}
