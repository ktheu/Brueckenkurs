{
 "cells": [
  {
   "cell_type": "markdown",
   "id": "b75e6b2b-6e36-487c-a8f0-1f3eb52c0c40",
   "metadata": {},
   "source": [
    "## Rechnernetze - Ergänzungen"
   ]
  },
  {
   "cell_type": "markdown",
   "id": "da1ad210-0076-45ff-aecd-d1a93520bf2a",
   "metadata": {},
   "source": [
    "### Routentabelle\n",
    "Jeder Computer hat eine Routentabelle. Mit dem Befehl ```route print``` erhalten wir z.B:\n",
    "\n",
    "```\n",
    "IPv4-Routentabelle\n",
    "===========================================================================\n",
    "Aktive Routen:\n",
    "     Netzwerkziel    Netzwerkmaske          Gateway    Schnittstelle Metrik\n",
    "          0.0.0.0          0.0.0.0    192.168.178.1   192.168.178.81     35\n",
    "        127.0.0.0        255.0.0.0   Auf Verbindung         127.0.0.1    331\n",
    "        127.0.0.1  255.255.255.255   Auf Verbindung         127.0.0.1    331\n",
    "  127.255.255.255  255.255.255.255   Auf Verbindung         127.0.0.1    331\n",
    "    192.168.178.0    255.255.255.0   Auf Verbindung    192.168.178.81    291\n",
    "   192.168.178.81  255.255.255.255   Auf Verbindung    192.168.178.81    291\n",
    "  192.168.178.255  255.255.255.255   Auf Verbindung    192.168.178.81    291\n",
    "        224.0.0.0        240.0.0.0   Auf Verbindung         127.0.0.1    331\n",
    "        224.0.0.0        240.0.0.0   Auf Verbindung    192.168.178.81    291\n",
    "  255.255.255.255  255.255.255.255   Auf Verbindung         127.0.0.1    331\n",
    "  255.255.255.255  255.255.255.255   Auf Verbindung    192.168.178.81    291\n",
    "===========================================================================\n",
    "```\n",
    "\n",
    "Die erste Zeile (0.0.0.0 ... ) ist die sogenannte *Standardroute*. Die sagt unserem Computer, dass alle Ziele, die sich nicht\n",
    "in unserem eigenen Netz befinden, über das Standardgateway 192.168.178.1 gesucht werden sollen."
   ]
  },
  {
   "cell_type": "code",
   "execution_count": null,
   "id": "42c9f613-17c4-4d7b-8d20-6b51fc59e11c",
   "metadata": {
    "editable": true,
    "slideshow": {
     "slide_type": ""
    },
    "tags": []
   },
   "outputs": [],
   "source": [
    "Die MAC-Adresse des eigenen Computers findet man mit dem Befehl ```ipconfig -all``` heraus.\n",
    "\n",
    " Die momentane Zuordnung von IP-Adressen zu MAC-Adressen sieht man mit dem Befehl ```arp -a```. "
   ]
  }
 ],
 "metadata": {
  "kernelspec": {
   "display_name": "Python 3 (ipykernel)",
   "language": "python",
   "name": "python3"
  },
  "language_info": {
   "codemirror_mode": {
    "name": "ipython",
    "version": 3
   },
   "file_extension": ".py",
   "mimetype": "text/x-python",
   "name": "python",
   "nbconvert_exporter": "python",
   "pygments_lexer": "ipython3",
   "version": "3.12.8"
  }
 },
 "nbformat": 4,
 "nbformat_minor": 5
}
