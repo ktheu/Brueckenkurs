{
 "cells": [
  {
   "cell_type": "markdown",
   "metadata": {},
   "source": [
    "## Einfache Sortieralgorithmen\n",
    "\n",
    "[Video](https://youtu.be/p7RYNgRpfgo)\n",
    "\n",
    "### SelectionSort\n",
    "\n",
    "Idee: Das jeweils kleinste Element tauscht mit dem aktuellen Element die Plätze.\n",
    "\n",
    "<img src='selectionSort.png' width='400'>"
   ]
  },
  {
   "cell_type": "code",
   "execution_count": null,
   "metadata": {},
   "outputs": [],
   "source": [
    "def selection_sort(a):\n",
    "    for i in range(len(a)-1):\n",
    "        best = i                    # Index des kleinsten Elements\n",
    "        best_val = a[i]             \n",
    "        for j in range(i+1,len(a)):\n",
    "            if a[j] < best_val:\n",
    "                best = j\n",
    "                best_val = a[j]\n",
    "        a[best],a[i] = a[i],a[best]"
   ]
  },
  {
   "cell_type": "code",
   "execution_count": null,
   "metadata": {},
   "outputs": [],
   "source": [
    "a = [15, 23, 4, 42, 8, 16]\n",
    "selection_sort(a)\n",
    "print(a)"
   ]
  },
  {
   "cell_type": "markdown",
   "metadata": {},
   "source": [
    "### BubbleSort\n",
    "\n",
    "Idee: Falls der Nachfolger kleiner ist, werden die Plätze getauscht. Oder vertikal: große Blasen steigen auf.\n",
    "\n",
    "<img src='bubbleSort.png' width='501'>"
   ]
  },
  {
   "cell_type": "code",
   "execution_count": null,
   "metadata": {},
   "outputs": [],
   "source": [
    "def bubble_sort(a):\n",
    "    getauscht = True\n",
    "    while getauscht:\n",
    "        getauscht = False\n",
    "        for i in range(len(a)-1):\n",
    "            if a[i] > a[i+1]:\n",
    "                a[i],a[i+1]=a[i+1],a[i]\n",
    "                getauscht = True"
   ]
  },
  {
   "cell_type": "code",
   "execution_count": null,
   "metadata": {},
   "outputs": [],
   "source": [
    "a = [15, 23, 4, 42, 8, 16]\n",
    "bubble_sort(a)\n",
    "print(a)"
   ]
  },
  {
   "cell_type": "markdown",
   "metadata": {
    "tags": []
   },
   "source": [
    "### InsertionSort\n",
    "\n",
    "Idee: das aktuelle Element wird vorne richtig eingefügt.\n",
    "\n",
    "<img src='insertionSort.png' width='401'>"
   ]
  },
  {
   "cell_type": "code",
   "execution_count": 12,
   "metadata": {
    "tags": []
   },
   "outputs": [
    {
     "name": "stdout",
     "output_type": "stream",
     "text": [
      "[4, 8, 15, 16, 23, 42]\n"
     ]
    }
   ],
   "source": [
    "def insertion_sort(a):\n",
    "    for i in range(1,len(a)):\n",
    "        x = a[i]\n",
    "        j = i\n",
    "        while j > 0 and a[j-1] > x:\n",
    "            a[j] = a[j-1]\n",
    "            j = j - 1\n",
    "        a[j] = x\n",
    "        \n",
    "a = [15, 23, 4, 42, 8, 16]\n",
    "insertion_sort(a)\n",
    "print(a)"
   ]
  },
  {
   "cell_type": "code",
   "execution_count": null,
   "metadata": {},
   "outputs": [],
   "source": []
  }
 ],
 "metadata": {
  "kernelspec": {
   "display_name": "Python 3 (ipykernel)",
   "language": "python",
   "name": "python3"
  },
  "language_info": {
   "codemirror_mode": {
    "name": "ipython",
    "version": 3
   },
   "file_extension": ".py",
   "mimetype": "text/x-python",
   "name": "python",
   "nbconvert_exporter": "python",
   "pygments_lexer": "ipython3",
   "version": "3.11.2"
  },
  "vscode": {
   "interpreter": {
    "hash": "5497d93d61f97409de7b7f2fc1ef9587b6eab58d21fac1992c1f6d4a77dcee3b"
   }
  }
 },
 "nbformat": 4,
 "nbformat_minor": 4
}
