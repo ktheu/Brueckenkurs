{
 "cells": [
  {
   "cell_type": "markdown",
   "id": "9090844b",
   "metadata": {
    "slideshow": {
     "slide_type": "slide"
    }
   },
   "source": [
    "### Bits und Bytes, Zahlsysteme\n",
    "\n",
    "#### Information und Daten\n",
    "\n",
    "**Information** muss immer in geeigneter Weise dargestellt werden, um sie als **Daten** maschinell weiterverarbeiten zu können. \n",
    "Aus Daten gewinnt man erst dann Information, wenn sie gedeutet werden können."
   ]
  },
  {
   "cell_type": "markdown",
   "id": "6b2f372a-ac0e-44bf-93e0-277bc5e326c8",
   "metadata": {
    "slideshow": {
     "slide_type": "slide"
    }
   },
   "source": [
    "<img src='bild1.png' width='350'>"
   ]
  },
  {
   "cell_type": "markdown",
   "id": "2fd44f8f",
   "metadata": {
    "slideshow": {
     "slide_type": "slide"
    }
   },
   "source": [
    "### Bit und Byte\n",
    "\n",
    "Zur Darstellung von Information nutzt man häufig Systeme, die nur zwei Zustände einnehmen können: \n",
    " an/aus; geladen/ungeladen; Strom fließt/Strom fließt nicht; magnetisiert/unmagnetisiert.\n",
    " "
   ]
  },
  {
   "cell_type": "markdown",
   "id": "7f4aece2",
   "metadata": {
    "slideshow": {
     "slide_type": "fragment"
    }
   },
   "source": [
    " \n",
    "Die beiden Zustände eines Zweizustandssystems werden in der Regel mit Hilfe der beiden Ziffern 0 und 1 beschrieben."
   ]
  },
  {
   "cell_type": "markdown",
   "id": "60a00155",
   "metadata": {
    "slideshow": {
     "slide_type": "slide"
    }
   },
   "source": [
    "Unter einem **Bit** versteht man eine Einheit zur Informationsdarstellung, die nur zwei Werte annehmen kann: 0 und 1. \n",
    "Unter einem **Byte** versteht man eine Einheit aus 8 Bits."
   ]
  },
  {
   "cell_type": "markdown",
   "id": "8aee0e50",
   "metadata": {
    "slideshow": {
     "slide_type": "fragment"
    }
   },
   "source": [
    "Werden die Daten nur mit Bits dargestellt spricht man von **Binärdarstellung der Daten**. "
   ]
  },
  {
   "cell_type": "markdown",
   "id": "b2ec66e0",
   "metadata": {
    "slideshow": {
     "slide_type": "slide"
    }
   },
   "source": [
    " \n",
    "    1 Byte                8 Bit     \n",
    "    1 Kilobyte (KB)    1000 Byte    \n",
    "    1 Megabyte (MB)    1000 KB      \n",
    "    1 Gigabyte (GB)    1000 MB   \n",
    " "
   ]
  },
  {
   "cell_type": "markdown",
   "id": "52e3ee5c",
   "metadata": {
    "slideshow": {
     "slide_type": "fragment"
    }
   },
   "source": [
    "Die folgenden Einheiten bauen auf Zweierpotenzen statt auf Zehnerpotenzen auf:\n",
    "\n",
    "    1 Byte                8 Bit\n",
    "    1 Kibibyte (KiB)   1024 Byte\n",
    "    1 Mebibyte (MiB)   1024 KB\n",
    "    1 Gibibyte (GiB)   1024 MB"
   ]
  },
  {
   "cell_type": "markdown",
   "id": "5c02b632-dc16-462f-9d83-3d5c0b88e29d",
   "metadata": {
    "slideshow": {
     "slide_type": "slide"
    }
   },
   "source": [
    "Die beiden Einheiten werden manchmal mit derselben Abkürzung benutzt, was zu Verwirrung führen kann. Ein 16GB USB-Stick wird im Windows Explorer so angezeigt:\n",
    "\n",
    "<img src='bild3.png'>"
   ]
  },
  {
   "cell_type": "code",
   "execution_count": 1,
   "id": "7779399b-bcdb-4976-833f-3bd82a0ac1f0",
   "metadata": {
    "slideshow": {
     "slide_type": "fragment"
    }
   },
   "outputs": [
    {
     "data": {
      "text/plain": [
       "15998753177.6"
      ]
     },
     "execution_count": 1,
     "metadata": {},
     "output_type": "execute_result"
    }
   ],
   "source": [
    "# 14.9 Gibibyte = 16 Gigabyte\n",
    "14.9*1024*1024*1024"
   ]
  },
  {
   "cell_type": "markdown",
   "id": "9a4ffee4-da5c-459e-a0b6-10af10ed732a",
   "metadata": {},
   "source": [
    "#### Abkürzungen\n",
    "\n",
    "Wenn Abkürzungen benutzt werden, dann wird Bit mit kleinem 'b' und Byte mit großem 'B' abgekürzt. Bei Datenraten finden sich manchmal folgende Einheiten:\n",
    "\n",
    "    Mbps = Mbit/s = MegaBit per second \n",
    " \n"
   ]
  },
  {
   "cell_type": "markdown",
   "id": "ae973f92-7d39-44d4-95a5-faa2ae5b1389",
   "metadata": {
    "slideshow": {
     "slide_type": "slide"
    }
   },
   "source": [
    "#### Zahlsysteme\n",
    "\n",
    "    Dezimalzahlen:     10 Ziffern: 0,1,2,...9                4719\n",
    "    Dualzahlen:         2 Ziffern: 0,1                       10010 \n",
    "    Oktalzahlen:        8 Ziffern: 0,1,2,...7                273 \n",
    "    Hexadezimalzahlen: 16 Ziffern: 0,1,2,...9,A,B,C,D,E,F    E52F "
   ]
  },
  {
   "cell_type": "markdown",
   "id": "e9bdc97e",
   "metadata": {
    "slideshow": {
     "slide_type": "fragment"
    }
   },
   "source": [
    "$(4719)_{10} =   9 \\cdot 10^0 + 1 \\cdot 10^1 + 7 \\cdot 10^2 + 4 \\cdot 10^3$ <br>\n",
    "$(273)_{8} = 3 \\cdot 8^0 + 7 \\cdot 8^1 + 2 \\cdot 8^2 = (187)_{10}$ <br>\n",
    "$(10010)_{2} =   0 \\cdot 2^0 + 1 \\cdot 2^1 + 0 \\cdot 2^2 + 0 \\cdot 2^3 + 1 \\cdot 2^4 = (18)_{10}$ <br>\n",
    "$(E52F)_{16} =  15 \\cdot 16^0 + 2 \\cdot 16^1 + 5 \\cdot 16^2 + 14 \\cdot 16^3 = (58671)_{10}$"
   ]
  },
  {
   "cell_type": "markdown",
   "id": "3fbe2eb0-7da7-4b9b-8689-a22a641a3d03",
   "metadata": {
    "slideshow": {
     "slide_type": "slide"
    }
   },
   "source": [
    "Binär kodierte Daten lassen sich übersichtlicher mit hexadezimalen Ziffern schreiben. Wir fassen dazu Vierergruppen zusammen."
   ]
  },
  {
   "cell_type": "code",
   "execution_count": 3,
   "id": "246c1323-808c-44a7-9de7-47a5f682056a",
   "metadata": {
    "slideshow": {
     "slide_type": "fragment"
    }
   },
   "outputs": [
    {
     "name": "stdout",
     "output_type": "stream",
     "text": [
      "12345678123456789\n"
     ]
    },
    {
     "data": {
      "text/plain": [
       "'0x2bdc542f0f5915'"
      ]
     },
     "execution_count": 3,
     "metadata": {},
     "output_type": "execute_result"
    }
   ],
   "source": [
    "k = int('101011110111000101010000101111000011110101100100010101',2)\n",
    "print(k)\n",
    "hex(k)"
   ]
  },
  {
   "cell_type": "markdown",
   "id": "d095244d-f3d1-4d0a-b43a-de04207c5c06",
   "metadata": {},
   "source": [
    " \n",
    "        101011110111000101010000101111000011110101100100010101\n",
    "        Von rechts in Vierergruppen aufteilen, links ggf. mit 0 auffüllen.\n",
    "        0010 1011 1101 1100 0101 0100 0010 1111 0000 1111 0101 1001 0001 0101\n",
    "           2    b    d    c    5    4    2    f    0    f    5    9    1    5\n"
   ]
  },
  {
   "cell_type": "markdown",
   "id": "0fc76053",
   "metadata": {
    "slideshow": {
     "slide_type": "slide"
    }
   },
   "source": [
    "### Umrechnung Dezimalzahl in Dualzahl \n",
    "\n",
    "Beobachtungen bei Dualzahlen:\n",
    "\n",
    "Bei der ganzzahligen Division durch 2 verschwindet die rechte Ziffer. <br>\n",
    "Bei der Multiplikation mit 2 kommt rechts noch eine 0 dran."
   ]
  },
  {
   "cell_type": "markdown",
   "id": "b5491d62-609d-4eb0-aeef-daa6bd408135",
   "metadata": {
    "slideshow": {
     "slide_type": "fragment"
    }
   },
   "source": [
    "Bei gegebener Dezimalzahl x können wir die rechte Ziffer der Dualzahl leicht erkennen. Wir dividieren x ganzzahlig durch 2 und bestimmen auf die gleiche Art die restlichen Ziffern. "
   ]
  },
  {
   "cell_type": "markdown",
   "id": "44af70b8",
   "metadata": {
    "slideshow": {
     "slide_type": "slide"
    }
   },
   "source": [
    "Unter die Zahl notieren wir das Ergebnis bei ganzzahliger Division durch 2. Daneben den Rest. \n",
    "Das wiederholen wir solange bis wir bei 0 angekommen sind. \n",
    "Die Reste von unten nach oben gelesen ergeben die duale Darstellung."
   ]
  },
  {
   "cell_type": "markdown",
   "id": "3af16673-b1e1-406e-ac25-0aa31f1392b0",
   "metadata": {},
   "source": [
    "#### Beispiel: \n",
    "Wandle 52 in eine Dualzahl um:\n",
    "\n",
    "     52\n",
    "     26   0\n",
    "     13   0\n",
    "      6   1\n",
    "      3   0\n",
    "      1   1\n",
    "      0   1\n",
    "\n",
    "Ergebnis: 110100"
   ]
  },
  {
   "cell_type": "markdown",
   "id": "e4128a6f-a2df-488e-b23a-bc4c18625c2b",
   "metadata": {},
   "source": [
    "Übung:  (Die Ausgangszahlen sind im Dezimalsystem)\n",
    "1. Berechne die Darstellung von 90 im Dualsystem.\n",
    "2. Berechne die Darstellung von 190 im Oktalsystem um.\n",
    "3. Berechne die Darstellung von 3627 im Hexadezimalsystem um."
   ]
  },
  {
   "cell_type": "code",
   "execution_count": 43,
   "id": "39d82b4e-331d-407d-b196-865ddb0f6718",
   "metadata": {},
   "outputs": [
    {
     "name": "stdout",
     "output_type": "stream",
     "text": [
      "0b1011010\n",
      "0o276\n",
      "0xe2b\n"
     ]
    }
   ],
   "source": [
    "# Kontrolle mit den eingebauten Funktionen\n",
    "print(bin(90))\n",
    "print(oct(190))\n",
    "print(hex(3627))"
   ]
  },
  {
   "cell_type": "code",
   "execution_count": 54,
   "id": "6e5148a9-e506-4203-9696-80430f6223c3",
   "metadata": {},
   "outputs": [
    {
     "name": "stdout",
     "output_type": "stream",
     "text": [
      "90\n",
      "190\n",
      "3627\n"
     ]
    }
   ],
   "source": [
    "# Umwandeln einer binären, oktalen oder hexadezimalen Zahl in eine Dezimalzahl mit der int-Funktion\n",
    "print(int('1011010',2))\n",
    "print(int('276',8))\n",
    "print(int('e2b',16))"
   ]
  },
  {
   "cell_type": "markdown",
   "id": "fd2e83ca-a788-4509-b8cb-61963e8d58bc",
   "metadata": {},
   "source": [
    "#### Verknüpfung von binären Daten\n",
    "\n",
    "##### Addition \n",
    "\n",
    "Die Addition erfolgt analog zum Dezimalsystem. Die Stellenwerte werden addiert, gegebenenfalls mit Übertrag.\n",
    "\n",
    "        0 1 0 1 0\n",
    "    +   1 1 0 1 1\n",
    "    -------------\n",
    "      1 0 0 1 0 1 "
   ]
  },
  {
   "cell_type": "code",
   "execution_count": 5,
   "id": "dc4d3aa3-3a8d-4480-b1cd-9f760efc68f2",
   "metadata": {},
   "outputs": [
    {
     "data": {
      "text/plain": [
       "(37, '0b100101', 27)"
      ]
     },
     "execution_count": 5,
     "metadata": {},
     "output_type": "execute_result"
    }
   ],
   "source": [
    "a = 0b1010\n",
    "b = 0b11011\n",
    "a+b, bin(a+b), b"
   ]
  },
  {
   "cell_type": "markdown",
   "id": "e6f78b7c-b9b4-4209-891f-7030ed98b79f",
   "metadata": {},
   "source": [
    "#### Bitweise Operatoren"
   ]
  },
  {
   "cell_type": "markdown",
   "id": "c4bff275",
   "metadata": {
    "slideshow": {
     "slide_type": "slide"
    }
   },
   "source": [
    "Mit 3 Bit können die Zahlen von 0 - 7 dargestellt werden\n",
    "```\n",
    "    0 0 0 : 0\n",
    "    0 0 1 : 1\n",
    "    0 1 0 : 2\n",
    "    0 1 1 : 3\n",
    "    1 0 0 : 4\n",
    "    1 0 1 : 5\n",
    "    1 1 0 : 6\n",
    "    1 1 1 : 7\n",
    "```"
   ]
  },
  {
   "cell_type": "markdown",
   "id": "0c13306d-2f8a-4c77-95ba-96f5040bf2b6",
   "metadata": {},
   "source": [
    "##### Bitweises Und\n",
    "\n",
    "Nur wenn beide Bits 1 sind, ist das Ergebnis 1.\n",
    "\n",
    "```\n",
    "    0 1 0 1 0\n",
    " &  1 0 0 1 1\n",
    "    -------------\n",
    "    0 0 0 1 0\n",
    "```"
   ]
  },
  {
   "cell_type": "code",
   "execution_count": 31,
   "id": "1e9ac64f-96df-471e-91cf-28db1f7ac360",
   "metadata": {},
   "outputs": [
    {
     "data": {
      "text/plain": [
       "2"
      ]
     },
     "execution_count": 31,
     "metadata": {},
     "output_type": "execute_result"
    }
   ],
   "source": [
    "10 & 19"
   ]
  },
  {
   "cell_type": "markdown",
   "id": "d8c04354-6931-4ae6-ab83-7ebd9184279e",
   "metadata": {},
   "source": [
    "##### Bitweises Oder\n",
    "\n",
    "Nur wenn beide Bits 1 sind, ist das Ergebnis 1.\n",
    "```\n",
    "      0 1 0 1 0\n",
    "    | 1 0 0 1 1\n",
    "    -------------\n",
    "      1 1 0 1 1\n",
    "```"
   ]
  },
  {
   "cell_type": "code",
   "execution_count": 1,
   "id": "b5a5665f-45b1-4c2b-9f46-649ad8705265",
   "metadata": {},
   "outputs": [
    {
     "data": {
      "text/plain": [
       "27"
      ]
     },
     "execution_count": 1,
     "metadata": {},
     "output_type": "execute_result"
    }
   ],
   "source": [
    "10 | 19"
   ]
  },
  {
   "cell_type": "markdown",
   "id": "742cf045-1fea-42bf-9e1f-ee997db1ef0d",
   "metadata": {},
   "source": [
    "##### Bitweises XOR\n",
    "\n",
    "Nur wenn die Bits verschieden sind, ist das Ergebnis 1.\n",
    "```     \n",
    "        0 1 0 1 0\n",
    "      ^ 1 0 0 1 1\n",
    "    -------------\n",
    "        1 1 0 0 1\n",
    "```"
   ]
  },
  {
   "cell_type": "code",
   "execution_count": 33,
   "id": "45544c22-5712-4930-8980-550751be30ac",
   "metadata": {},
   "outputs": [
    {
     "data": {
      "text/plain": [
       "25"
      ]
     },
     "execution_count": 33,
     "metadata": {},
     "output_type": "execute_result"
    }
   ],
   "source": [
    "10 ^ 19"
   ]
  },
  {
   "cell_type": "markdown",
   "id": "3eaeca8d-8505-477d-95b2-f2a795510d6d",
   "metadata": {},
   "source": [
    "##### Bitweises Verschieben nach links\n",
    "\n",
    "Das bitweise Verschieben um 1 nach links verdoppelt die Zahl.\n",
    "```\n",
    "        1 0 1  << 1  ->  1 0 1 0\n",
    "        1 0 1  << 2  ->  1 0 1 0 0 \n",
    "```"
   ]
  },
  {
   "cell_type": "code",
   "execution_count": 35,
   "id": "a3a228c9-1063-452b-bcbd-5846077c4345",
   "metadata": {},
   "outputs": [
    {
     "data": {
      "text/plain": [
       "(10, 20)"
      ]
     },
     "execution_count": 35,
     "metadata": {},
     "output_type": "execute_result"
    }
   ],
   "source": [
    "5 << 1, 5 << 2"
   ]
  },
  {
   "cell_type": "markdown",
   "id": "3a1fb786-7469-4852-8438-34e086473f46",
   "metadata": {},
   "source": [
    "##### Bitweises Verschieben nach rechts\n",
    "\n",
    "Das bitweise Verschieben um 1 nach rechts entspricht einer ganzzahligen Division durch 2.\n",
    "```     \n",
    "    1 0 1 0 1  >> 1  ->  1 0 1 0\n",
    "    1 0 1 0 1  >> 2  ->  1 0 1\n",
    "```"
   ]
  },
  {
   "cell_type": "code",
   "execution_count": 38,
   "id": "6522b213-1fda-4db8-bec2-dee58e721148",
   "metadata": {},
   "outputs": [
    {
     "data": {
      "text/plain": [
       "(10, 5)"
      ]
     },
     "execution_count": 38,
     "metadata": {},
     "output_type": "execute_result"
    }
   ],
   "source": [
    "21 >> 1, 21 >> 2"
   ]
  },
  {
   "cell_type": "markdown",
   "id": "dd20f9f8-f449-49c7-bd0d-3e4ef730f9e5",
   "metadata": {},
   "source": [
    "Bitweise Operationen sind in der Regel schneller als arithmetische Operationen. Manchmal finden sich für arithmetische Operationen bitweise Entsprechungen."
   ]
  },
  {
   "cell_type": "code",
   "execution_count": 70,
   "id": "94f66d16-289f-4823-a71a-6d9bae7e1041",
   "metadata": {},
   "outputs": [
    {
     "name": "stdout",
     "output_type": "stream",
     "text": [
      "0\n",
      "2\n",
      "4\n",
      "6\n",
      "8\n"
     ]
    }
   ],
   "source": [
    "for i in range(10):\n",
    "    if i % 2 == 0:\n",
    "        print(i)"
   ]
  },
  {
   "cell_type": "code",
   "execution_count": 73,
   "id": "ce38536f-2090-46cc-a178-202fdc1dd49a",
   "metadata": {},
   "outputs": [
    {
     "name": "stdout",
     "output_type": "stream",
     "text": [
      "0\n",
      "2\n",
      "4\n",
      "6\n",
      "8\n"
     ]
    }
   ],
   "source": [
    "for i in range(10):\n",
    "    if i & 1 == 0:\n",
    "        print(i)"
   ]
  },
  {
   "cell_type": "markdown",
   "id": "9badb10e-3380-40cf-9b96-03c934ab6637",
   "metadata": {},
   "source": [
    "#### Anzahl Bits für eine Codierung\n",
    "\n",
    "Wieviele Bits benötigen wir mindestens, um 100000 verschiedene Zustände zu codieren? Dazu könnten wir 99999 ins Binärsystem umwandeln und die Bits zählen."
   ]
  },
  {
   "cell_type": "code",
   "execution_count": 15,
   "id": "129bbd63-a2c9-4c29-9e1f-260be0b19e2c",
   "metadata": {},
   "outputs": [
    {
     "name": "stdout",
     "output_type": "stream",
     "text": [
      "0b11000011010100000\n",
      "17\n"
     ]
    }
   ],
   "source": [
    "k = 100000\n",
    "print(bin(k))\n",
    "print(len(bin(k))-2)"
   ]
  },
  {
   "cell_type": "markdown",
   "id": "bfe86702-1b4d-42d8-8640-5bb029ddaf35",
   "metadata": {},
   "source": [
    "Wir können aber auch eine Gleichung lösen:\n",
    "\n",
    "$2^x \\ge 99999$"
   ]
  },
  {
   "cell_type": "code",
   "execution_count": 26,
   "id": "3293c846-f24b-4306-95df-265a1c98db88",
   "metadata": {},
   "outputs": [
    {
     "data": {
      "text/plain": [
       "16.609626047414267"
      ]
     },
     "execution_count": 26,
     "metadata": {},
     "output_type": "execute_result"
    }
   ],
   "source": [
    "import math\n",
    "math.log(99999,2)            # Zweierlogarithmus           "
   ]
  },
  {
   "cell_type": "code",
   "execution_count": 25,
   "id": "fb7d134f-5bc3-4907-9e6f-35fae3b995eb",
   "metadata": {},
   "outputs": [
    {
     "data": {
      "text/plain": [
       "27"
      ]
     },
     "execution_count": 25,
     "metadata": {},
     "output_type": "execute_result"
    }
   ],
   "source": [
    "# Allgemeine Formel für die minimale Bitlänge\n",
    "k = 100_000_000              # Anzahl zu codierender Zustände\n",
    "math.ceil(math.log(k-1,2))"
   ]
  },
  {
   "cell_type": "markdown",
   "id": "35fcd94c-4ca5-429e-a80e-9e2f27b2f7c2",
   "metadata": {},
   "source": [
    "Wenn wir auf dem Taschenrechner keinen Zweierlogarithmus zur Verfügung haben, können wir z.B. den natürlichen Logarithmus benutzen.\n",
    "\n",
    "<img src='bild4.png' width='300'>"
   ]
  }
 ],
 "metadata": {
  "kernelspec": {
   "display_name": "Python 3 (ipykernel)",
   "language": "python",
   "name": "python3"
  },
  "language_info": {
   "codemirror_mode": {
    "name": "ipython",
    "version": 3
   },
   "file_extension": ".py",
   "mimetype": "text/x-python",
   "name": "python",
   "nbconvert_exporter": "python",
   "pygments_lexer": "ipython3",
   "version": "3.11.2"
  }
 },
 "nbformat": 4,
 "nbformat_minor": 5
}
