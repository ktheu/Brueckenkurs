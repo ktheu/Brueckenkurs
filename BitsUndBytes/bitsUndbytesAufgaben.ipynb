{
 "cells": [
  {
   "cell_type": "markdown",
   "id": "8efeef16-0d6f-4fdf-af82-341d3a0392df",
   "metadata": {},
   "source": [
    "### Bits und Bytes, Zahlsysteme - Aufgaben\n",
    "\n",
    "**A1**\n",
    "\n",
    "Wandle die Bitfolge in eine Folge von Vierergruppen mit hexadezimalen Ziffern um:\n",
    "\n",
    "    1011 1111 0010 1100 0111 0101 0011 1101 0100 0101 1111 1110\n",
    "\n",
    "**A2**\n",
    "\n",
    "a. Wandle die hexadezimale Zahl EF18DA in eine Dualzahl um. <br>\n",
    "b. Schreibe die Bitfolge aus a. als Folge von Oktalziffern\n",
    "\n",
    "**A3**\n",
    "\n",
    "Wandle nach dem Verfahren aus dem Unterricht die Dezimalzahl 236 in das Binärsystemen um.\n",
    "\n",
    "**A4**\n",
    "\n",
    "Wandle nach dem Verfahren aus dem Unterricht die Dezimalzahl 6982 in das Oktalystem um.\n",
    "\n",
    "**A5**\n",
    "\n",
    "Wandle nach dem Verfahren aus dem Unterricht die Dezimalzahl 2749 in das Hexadezimalsystem um.\n",
    "\n",
    "**A6**\n",
    "\n",
    "Addiere die beiden Dualzahlen 1101001 und 11100101 (Überträge sollen sichtbar notiert sein).\n",
    "\n",
    "**A7**\n",
    "\n",
    "Ermittle das Ergebnis als Dezimalzahl\n",
    "\n",
    "a. (17 & 19) >> 1  <br>\n",
    "b. (11 | 10) ^ (6 << 2)\n",
    "\n",
    "**A8**\n",
    "\n",
    "Wieviele MegaByte werden bei einer Datenrate von 50 MBit/s in 5 Minuten übermittelt?"
   ]
  }
 ],
 "metadata": {
  "kernelspec": {
   "display_name": "Python 3 (ipykernel)",
   "language": "python",
   "name": "python3"
  },
  "language_info": {
   "codemirror_mode": {
    "name": "ipython",
    "version": 3
   },
   "file_extension": ".py",
   "mimetype": "text/x-python",
   "name": "python",
   "nbconvert_exporter": "python",
   "pygments_lexer": "ipython3",
   "version": "3.11.2"
  }
 },
 "nbformat": 4,
 "nbformat_minor": 5
}
