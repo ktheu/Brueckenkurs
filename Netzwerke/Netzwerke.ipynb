{
 "cells": [
  {
   "cell_type": "markdown",
   "id": "5e048ec0-5137-45ca-8a81-0202efa6a262",
   "metadata": {},
   "source": [
    "### Netzwerke\n",
    "\n",
    "Ein **LAN** (Local Area Network) ist auf kleine räumliche Umgebungen beschränkt (z.B. Schule oder Firma). Auch ein Heimnetzwerk ist ein LAN. Das **Internet** ist ein Netz von Netzen.\n",
    "\n",
    "Bei einem Heimnetzwerk verbindet der **Router** alle Geräte, die zum LAN gehören, mit dem Internet. Der Router ist über ein **Modem** mit dem Internetdienstanbieter verbunden. Reichen die Anschlüsse des Routers nicht aus, benötigt man einen Verteiler, z.B. einen **Switch**. Switche, mit denen sich Geräte per Funk verbinden lassen, nennt man Wireless Access Point, kurz **AP**.\n",
    "Moderne Router haben meist das Modem, einige LAN-Anschlüsse und einen AP eingebaut.\n",
    "\n",
    "Router stellen die Verbindung zwischen verschiedenen Geräten im LAN und die Verbindung zum Internet her. In Routern ist meist eine Software eingebaut, die zwischen Internet und dem lokalen Netzwerk eine Kontrollstelle aufbaut (**Firewall**).\n",
    "\n",
    "\n",
    "#### IP-Adressen\n",
    "\n",
    "Damit ein Rechner im Internet gefunden wird, benötigt er eine Adresse. Die IPv4-Adresse ist eine 4 Byte lange Zahl. Die Zahlen werden jeweils durch einen Punkt getrennt, z.B:\n",
    "\n",
    "    192.168.123.137\n",
    "\n",
    "Es gibt $(2^8)^4 = 2^{32}$ verschiedene IPv4 Adressen geben (ca. 4 Milliarden).\n",
    "\n",
    "Eine IPv6 Adresse verwendet 16 Byte und sieht in Hex-Darstellung z.B. so aus:\n",
    "\n",
    "    4003:0dc8:15a6:08d4:2319:3b2a:0040:3221\n",
    "\n",
    "Wir betrachten im Folgenden nur IPv4\n",
    "Zur einer IP-Adresse gehört eine Subnetz-Maske, die die Adresse in einen Netz und einen Host-Anteil aufteilt. \n",
    "\n",
    "    IP-Adresse:       192.168.123.137  =\t11000000.10101000.01111011.10001001\n",
    "    Subnetz-Maske:    255.255.255.000  =\t11111111.11111111.11111111.00000000\n",
    "    Netzwerk-Kennung: 192.168.123.000  =    11000000.10101000.01111011.00000000\n",
    "    Computer-Kennung:             137\n",
    "\n",
    "Das Ende der Einsen in der Subnetz-Maske kann auch mitten im Byte liegen. Geräte mit derselben Netzwerkkennung liegen im selben Netz. \n",
    "\n"
   ]
  },
  {
   "cell_type": "markdown",
   "id": "fb1971c5-4bd8-4a0e-a949-9d636c57a239",
   "metadata": {},
   "source": [
    "#### Client-Server  \n",
    "\n",
    "Ein **Server** ist in der Informatik ein Dienstleister, der in einem Computersystem Daten oder Ressourcen zur Verfügung stellt. \n",
    "Damit können zwei Dinge gemeint sein:\n",
    "\n",
    "- Ein Computerprogramm, das einen Dienst bereitstellt. <br>\n",
    "- Der Computer auf dem ein oder mehrere Server-Programme laufen. Die ursprüngliche Bezeichnung für diesen physischen Rechner ist **Host**.\n",
    "\n",
    "Ein **Client** ist eine Anwendung, die in einem Netzwerk den Dienst eines Servers in Anspruch nimmt. Manchmal ist damit auch der Computer gemeint, auf dem die Client-Anwendung läuft.\n",
    "\n",
    "Ein **Echo-Server** ist ein einfacher Netzwerkserver, der eingehende Nachrichten von einem Client empfängt und diese unverändert zurücksendet. <br>\n",
    "Ein **Webserver** stellt HTML-Seiten zur Verfügung, der Client dazu ist ein **Browser**. <br>\n",
    "Ein **DHCP-Server** sorgt dafür, dass die Rechner in einem Netz geeignete IP-Adressen erhalten. <br>\n",
    "Ein **DNS-Server** sorgt dafür, dass wir statt IP-Adressen Domainnamen verwenden können. <br>\n",
    "Ein **E-Mail-Server** organisiert den e-Mail Verkehr.\n",
    " "
   ]
  },
  {
   "cell_type": "code",
   "execution_count": null,
   "id": "d5ce0685-adc1-4fc1-89cc-0c078ee0bb44",
   "metadata": {},
   "outputs": [],
   "source": []
  }
 ],
 "metadata": {
  "kernelspec": {
   "display_name": "Python 3 (ipykernel)",
   "language": "python",
   "name": "python3"
  },
  "language_info": {
   "codemirror_mode": {
    "name": "ipython",
    "version": 3
   },
   "file_extension": ".py",
   "mimetype": "text/x-python",
   "name": "python",
   "nbconvert_exporter": "python",
   "pygments_lexer": "ipython3",
   "version": "3.11.2"
  }
 },
 "nbformat": 4,
 "nbformat_minor": 5
}
