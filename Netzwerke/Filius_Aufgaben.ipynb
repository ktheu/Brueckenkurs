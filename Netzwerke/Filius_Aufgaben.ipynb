{
 "cells": [
  {
   "cell_type": "markdown",
   "id": "01381ca2-7f15-4192-a910-0d740ac6594b",
   "metadata": {},
   "source": [
    "### Netzwerke - Aufgaben\n",
    "\n",
    "Alle Aufgaben sollen mit Filius gelöst werden.  \n",
    "\n",
    "- Nutze jeweils die IP-Adresse als Rechnername.\n",
    "- Verwende für Clients das Notebook, für Server den PC\n"
   ]
  },
  {
   "cell_type": "markdown",
   "id": "9ddf91c2-c665-4b59-8bff-6df35a83d871",
   "metadata": {},
   "source": [
    "**A1**\n",
    "\n",
    "- Verbinde zwei Rechner und teste mit einem ping die Verbindung von einem Rechner zum anderen.\n",
    "- Setze den ping mit Anzeige des Datenaustauschs ab.\n",
    "\n",
    "**A2**\n",
    "\n",
    "- Erweitere das Netzwerk aus A1 um einen weiteren Rechner.\n",
    "\n",
    "**A3**\n",
    "\n",
    "- Verbinde einen Rechner mit einem Echo-Server und teste die Kommunikation\n",
    "\n",
    "**A4**\n",
    "\n",
    "- Verbinde einen Rechner mit einem Web-Server und teste die Kommunikation.\n",
    "- Schaue dir die Startseite des Webservers mit einem Texteditor an.\n",
    "- Ändere den Text auf der Startseite des Webservers nach eigenem Ermessen.\n",
    "- Erstelle auf dem Webserver eine neue Webseite und füge auf der Startseite einen Link zu dieser neuen Seite ein.\n",
    "\n",
    "**A5** \n",
    "\n",
    "- Verbinde den Rechner aus A4 zusätzlich mit einem DNS-Server, der es erlaubt, den Webserver mit der URL www.filius.de zu erreichen.\n",
    "\n",
    "**A6**\n",
    "\n",
    "- Erstelle ein Netzwerk mit 3 Rechnern und einem DHCP-Server, der die Rechner mit IP-Adressen versorgt.\n",
    "\n",
    "**A7**\n",
    "\n",
    "- Erstelle zwei verschiedene Netzwerke mit je 2 Rechnern und verbinde die beiden Netze mit einem Router (Vermittlungsrechner).\n",
    "- Teste die Verbindung von einem Netzwerk ins andere mit einem ping.\n",
    "\n",
    "**A8**\n",
    "- Verbinde zwei Rechner mit einem e-Mail Server. Richte zwei e-Mail Konten ein und simuliere das Hin- und Herschicken eines e-Mails.\n",
    "- Sorge mit einem DNS-Server dafür, dass der mail-Server unter mail.filius.de erreichbar ist.\n",
    "\n",
    "**A9**\n",
    "\n",
    "- Versuche deinen Filius-Rechner mit einem Filius-Rechner deines Nachbarn mittels Modem zu verbinden (geht nur, wenn die Firewall-Einstellungen des Schul-Netzwerkes dies zulassen).\n",
    "\n",
    "**A10**\n",
    "\n",
    "- Verbinde zwei Rechner, erstelle auf einem Rechner eine Datei und hole dir diese mittels FTP auf den anderen Rechner."
   ]
  },
  {
   "cell_type": "markdown",
   "id": "740e645b-fa45-4cad-80a3-0385bab6b146",
   "metadata": {},
   "source": [
    "**Hinweis**\n",
    "\n",
    "Die Lösungen zu den Aufgaben finden sich [hier](https://www.youtube.com/playlist?list=PLEnB4YXD6NZPl74ndy9Kn9RyFNiagZNos) ."
   ]
  }
 ],
 "metadata": {
  "kernelspec": {
   "display_name": "Python 3 (ipykernel)",
   "language": "python",
   "name": "python3"
  },
  "language_info": {
   "codemirror_mode": {
    "name": "ipython",
    "version": 3
   },
   "file_extension": ".py",
   "mimetype": "text/x-python",
   "name": "python",
   "nbconvert_exporter": "python",
   "pygments_lexer": "ipython3",
   "version": "3.11.2"
  }
 },
 "nbformat": 4,
 "nbformat_minor": 5
}
