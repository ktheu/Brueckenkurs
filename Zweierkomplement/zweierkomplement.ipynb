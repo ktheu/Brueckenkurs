{
 "cells": [
  {
   "cell_type": "markdown",
   "id": "20863995",
   "metadata": {
    "slideshow": {
     "slide_type": "slide"
    }
   },
   "source": [
    "## Zweierkomplement\n",
    "\n",
    "[Video](https://youtu.be/g4e0RRkffJU)\n",
    "\n",
    "Im üblichen Dezimalsystem haben wir für Addition und Subtraktion verschiedene Algorithmen.\n",
    "\n",
    "![](subtraktion.png)\n",
    "\n",
    "Das Zweierkomplement ist eine Codierung ganzer Zahlen, bei der für Addition und Subtraktion derselbe Algorithmus benutzt wird.\n",
    "\n",
    "### 4-Bit Zweierkomplement\n",
    "\n"
   ]
  },
  {
   "cell_type": "markdown",
   "id": "7b71d2b2",
   "metadata": {
    "slideshow": {
     "slide_type": "slide"
    }
   },
   "source": [
    "\n",
    " Mit 4 Bit können die Zahlen von -8 bis 7 dargestellt werden. Überträge außerhalb der Stellenzahl werden abgeschnitten.\n",
    "\n",
    " ![](zweierkomplement.png)"
   ]
  },
  {
   "cell_type": "markdown",
   "id": "e9f0f576",
   "metadata": {
    "slideshow": {
     "slide_type": "slide"
    }
   },
   "source": [
    "##### Beispielrechnungen\n",
    "\n",
    "![](beispielrechnung.png)\n"
   ]
  },
  {
   "cell_type": "markdown",
   "id": "7220d432",
   "metadata": {
    "slideshow": {
     "slide_type": "slide"
    }
   },
   "source": [
    "#####  Wertebereich im Zweierkomplement\n",
    "\n",
    "              Wertebereich   größte Zahl   kleinste Zahl\n",
    "    4-Bit       -8...7              0111          1000\n",
    "    8-Bit     -128...127        01111111      10000000"
   ]
  },
  {
   "cell_type": "markdown",
   "id": "8c5c3f7e",
   "metadata": {},
   "source": [
    "Frage: Welche Darstellung hat die -1 im 4-Bit /8-Bit Zweierkomplemement?"
   ]
  },
  {
   "cell_type": "markdown",
   "id": "85655836",
   "metadata": {
    "slideshow": {
     "slide_type": "slide"
    }
   },
   "source": [
    "##### Algorithmus zur Berechung des Zweierkomplements\n",
    "\n",
    "    codiere x  \n",
    "    negiere bitweise  \n",
    "    addiere 1\n"
   ]
  },
  {
   "cell_type": "markdown",
   "id": "d8ebb678",
   "metadata": {
    "slideshow": {
     "slide_type": "fragment"
    }
   },
   "source": [
    "Beispiel: Codierung von -5\n",
    "\n",
    "    5                   0101\n",
    "                        ----\n",
    "    bitweise Negation   1010\n",
    "    addiere 1           0001\n",
    "                        ----\n",
    "    -5                  1011"
   ]
  },
  {
   "cell_type": "markdown",
   "id": "cc258fb9",
   "metadata": {},
   "source": [
    "Übung: \n",
    "1. Berechne die Darstellung von -57 im 8-Bit Zweierkomplement-System.\n",
    "2. Welche Zahl hat im 8-Bit Zweierkomplement-System die Darstellung 10100100 ?\n"
   ]
  },
  {
   "cell_type": "markdown",
   "id": "ed910322-793b-47e8-99da-e941c0632657",
   "metadata": {},
   "source": [
    "##### Fehler beim Verlassen des Wertebereichs\n",
    "\n",
    "Wenn wir bei der Rechnung den zulässigen Wertebereich verlassen, erhalten wir falsche Ergebnisse.\n",
    "\n",
    "![](falsch.png)"
   ]
  },
  {
   "cell_type": "markdown",
   "id": "a70cac99-4214-4ab0-ba43-31a7d498a5a2",
   "metadata": {
    "slideshow": {
     "slide_type": "slide"
    }
   },
   "source": [
    "##### Effekte beim Überlauf\n",
    "In der Programmiersprache Java werden ganze Zahlen vom Typ *int* intern im 32-Bit Zweierkomplement gespeichert.\n",
    "Wie lässt sich die Ausgabe erklären?  "
   ]
  },
  {
   "cell_type": "code",
   "execution_count": null,
   "id": "075298f9",
   "metadata": {
    "slideshow": {
     "slide_type": "fragment"
    }
   },
   "outputs": [],
   "source": [
    "int k = 1;\n",
    "while (k > 0) {\n",
    "  k = k+1;\n",
    "}\n",
    "System.out.println(k);\n",
    "\n",
    "Ausgabe: -2147483648"
   ]
  },
  {
   "cell_type": "code",
   "execution_count": 1,
   "id": "47943f81-72d9-4b1b-9e4a-8714d8d34f39",
   "metadata": {},
   "outputs": [
    {
     "data": {
      "text/plain": [
       "-2147483648"
      ]
     },
     "execution_count": 1,
     "metadata": {},
     "output_type": "execute_result"
    }
   ],
   "source": [
    "-2**31"
   ]
  },
  {
   "cell_type": "markdown",
   "id": "79986a9c-ecf0-453e-9867-db10fddaad3c",
   "metadata": {},
   "source": [
    "#### Darstellung im Zahlenkreis\n",
    "\n",
    "Die Darstellung des Zweierkomplements im Zahlenkreis zeigt, warum der Algorithmus zur Codierung negativer Zahlen funktioniert.\n",
    "\n",
    "<img src='zahlenkreis2.png' width='500'>\n",
    "\n",
    "Wir sehen, dass folgende Operationen äquivalent sind:\n",
    "\n",
    "1. subtrahiere 1 (gehe 1 Schritt linksrum), dann bitweise Negation\n",
    "2. bitweise Negation, dann addiere 1 (gehe 1 Schritt rechtsrum)"
   ]
  },
  {
   "cell_type": "code",
   "execution_count": null,
   "id": "534905ff-9ff6-460c-acca-876e4bfc4dcd",
   "metadata": {},
   "outputs": [],
   "source": []
  }
 ],
 "metadata": {
  "kernelspec": {
   "display_name": "Python 3 (ipykernel)",
   "language": "python",
   "name": "python3"
  },
  "language_info": {
   "codemirror_mode": {
    "name": "ipython",
    "version": 3
   },
   "file_extension": ".py",
   "mimetype": "text/x-python",
   "name": "python",
   "nbconvert_exporter": "python",
   "pygments_lexer": "ipython3",
   "version": "3.11.2"
  }
 },
 "nbformat": 4,
 "nbformat_minor": 5
}
