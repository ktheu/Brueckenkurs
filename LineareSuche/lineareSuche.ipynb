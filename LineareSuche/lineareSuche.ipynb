{
 "cells": [
  {
   "cell_type": "markdown",
   "id": "4f958a1d-a164-4736-97ed-c663724f60c2",
   "metadata": {},
   "source": [
    "### Listen\n",
    "\n",
    "In einer Liste können wir mehrere Werte speichern. Mit einem Index können wir auf die Werte zugreifen und sie verändern. Mit *append* können wir weitere Elemente ans Ende der Liste hinzufügen."
   ]
  },
  {
   "cell_type": "code",
   "execution_count": 1,
   "id": "e15ea4da-4fd3-4ec5-bc01-2cc64e64c0f1",
   "metadata": {},
   "outputs": [],
   "source": [
    "#     0   1  2   3  4   5   Index\n",
    "a = [15, 23, 4, 16, 8, 42]\n",
    "#    -6  -5 -4  -3 -2  -1   negativer Index"
   ]
  },
  {
   "cell_type": "code",
   "execution_count": 5,
   "id": "ba56e210-52fa-4c4f-b196-729a1d7e24c2",
   "metadata": {},
   "outputs": [
    {
     "name": "stdout",
     "output_type": "stream",
     "text": [
      "17\n",
      "[15, 23, 4, 16, 17, 42]\n",
      "42\n"
     ]
    }
   ],
   "source": [
    "print(a[4])\n",
    "a[4] = 17\n",
    "print(a)"
   ]
  },
  {
   "cell_type": "code",
   "execution_count": 6,
   "id": "afa51709-0cdf-481f-a2ca-87eb08c4ac34",
   "metadata": {},
   "outputs": [
    {
     "name": "stdout",
     "output_type": "stream",
     "text": [
      "[15, 23, 4, 16, 17, 42, 3]\n"
     ]
    }
   ],
   "source": [
    "a.append(3)\n",
    "print(a)"
   ]
  },
  {
   "cell_type": "markdown",
   "id": "b90ae9d7-1b00-4276-b412-59088ae8dd4e",
   "metadata": {},
   "source": [
    "### Durchlaufen einer Liste\n",
    "\n",
    "##### Variante 1: Die Laufvariable durchläuft die Indizes von a"
   ]
  },
  {
   "cell_type": "code",
   "execution_count": null,
   "id": "49e0d509-eb14-4ae6-91e1-43492f2890a9",
   "metadata": {},
   "outputs": [],
   "source": [
    "for i in range(len(a)):\n",
    "    print(a[i], end=' ')"
   ]
  },
  {
   "cell_type": "markdown",
   "id": "6981c101-982b-46f8-8209-bbaad49088e2",
   "metadata": {},
   "source": [
    "##### Variante 2: Die Laufvariable durchläuft die Werte von a\n",
    "\n",
    "Wenn wir den Index nicht benötigen und die Werte nur lesen wollen, nutzen wir diese Variante. "
   ]
  },
  {
   "cell_type": "code",
   "execution_count": null,
   "id": "a5a1006d-462f-4e3b-8101-242fd2b17449",
   "metadata": {},
   "outputs": [],
   "source": [
    "for x in a:\n",
    "    print(x, end=' ')"
   ]
  },
  {
   "cell_type": "markdown",
   "id": "b024b7b3-a8c6-4cf6-8a4d-a16ab5b28052",
   "metadata": {},
   "source": [
    "##### Für die for-Schleife über die Indizes gilt:"
   ]
  },
  {
   "cell_type": "markdown",
   "id": "959c7167-4d44-45df-9b72-1dbf6726c4a3",
   "metadata": {},
   "source": [
    "    for i in range(len(a))   -  a[i] läuft vom ersten bis zum letzten Element\n",
    "    for i in range(len(a)-1) -  a[i] läuft vom ersten bis zum vorletzten Element\n",
    "    for i in range(len(a)-2) -  a[i] läuft vom ersten bis zum vorvorletzten Element"
   ]
  },
  {
   "cell_type": "markdown",
   "id": "dadfb8ac-a7ca-4155-ae16-3ef33c52e834",
   "metadata": {
    "jp-MarkdownHeadingCollapsed": true
   },
   "source": [
    "##### Beispiel 1\n",
    "\n",
    "Wir wollen die Summe aller Zahlen berechnen (ohne die eingebaute Funktion sum zu nutzen)."
   ]
  },
  {
   "cell_type": "code",
   "execution_count": null,
   "id": "308d0b2f-8a5b-4bab-90f0-077346d303e7",
   "metadata": {},
   "outputs": [],
   "source": [
    "a = [15, 23, 4, 16, 8, 42]\n",
    "summe = 0\n",
    "for x in a:\n",
    "    summe += x\n",
    "print(summe)"
   ]
  },
  {
   "cell_type": "markdown",
   "id": "92fec777-a9f1-4870-811e-83c5460fd247",
   "metadata": {
    "jp-MarkdownHeadingCollapsed": true
   },
   "source": [
    "##### Beispiel 2\n",
    "\n",
    "Wir wollen zählen, wieviel gerade Zahlen in der Liste a vorkommen."
   ]
  },
  {
   "cell_type": "code",
   "execution_count": null,
   "id": "0ccf2384-84e7-41d5-9671-ba5c2bb3e570",
   "metadata": {},
   "outputs": [],
   "source": [
    "a = [15, 23, 4, 16, 8, 42]\n",
    "zaehl = 0\n",
    "for x in a:\n",
    "    if x % 2 == 0:\n",
    "       zaehl += 1\n",
    "print(zaehl)"
   ]
  },
  {
   "cell_type": "markdown",
   "id": "9d55038e-3b08-4415-9758-6eff58c6b41e",
   "metadata": {
    "jp-MarkdownHeadingCollapsed": true
   },
   "source": [
    "##### Beispiel 3\n",
    "\n",
    "Aus einer Liste a wollen wir eine Liste b mit den akkumulierten Teilsummen erstellen.\n",
    "\n",
    "    a = [2, 4, 9, 12, 1, 5]\n",
    "    b = [2, 6, 15, 27, 28, 33]\n",
    "\n"
   ]
  },
  {
   "cell_type": "code",
   "execution_count": 3,
   "id": "2d6cfbc6-37fc-469f-b426-8d51d0852ac5",
   "metadata": {},
   "outputs": [
    {
     "name": "stdout",
     "output_type": "stream",
     "text": [
      "[2, 6, 15, 27, 28, 33]\n"
     ]
    }
   ],
   "source": [
    "a = [2, 4, 9, 12, 1, 5]\n",
    "b = []\n",
    "summe = 0\n",
    "for x in a:\n",
    "    summe += x\n",
    "    b.append(summe)\n",
    "print(b)"
   ]
  },
  {
   "cell_type": "markdown",
   "id": "8a876996-20fb-49ac-b530-2cd05fd2ff2b",
   "metadata": {
    "jp-MarkdownHeadingCollapsed": true
   },
   "source": [
    "##### Beispiel 4\n",
    "\n",
    "Aus einer Liste a wollen wir eine Liste b mit den Nachfolgersummen erstellen.\n",
    "\n",
    "    a = [2, 4, 9, 12, 1, 5]\n",
    "    b = [6, 13, 21, 13, 6]\n",
    "\n"
   ]
  },
  {
   "cell_type": "code",
   "execution_count": 4,
   "id": "391dbf8f-e422-43ef-a738-8c96ed2baa6a",
   "metadata": {},
   "outputs": [
    {
     "name": "stdout",
     "output_type": "stream",
     "text": [
      "[6, 13, 21, 13, 6]\n"
     ]
    }
   ],
   "source": [
    "a = [2, 4, 9, 12, 1, 5]\n",
    "b = []\n",
    "for i in range(len(a)-1):\n",
    "    b.append(a[i]+a[i+1])\n",
    "print(b)"
   ]
  },
  {
   "cell_type": "markdown",
   "id": "196433ad-0c90-4ef1-bbb0-eaf5c7e2204f",
   "metadata": {
    "jp-MarkdownHeadingCollapsed": true
   },
   "source": [
    "##### Beispiel 5\n",
    "\n",
    "Wir wollen zählen, wieviele Zahlen in einer Liste a einen kleineren Vorgänger haben.\n",
    "\n",
    "    a = [2, 4, 9, 12, 1, 5]\n",
    "    4"
   ]
  },
  {
   "cell_type": "code",
   "execution_count": 5,
   "id": "cb527a7c-ceb3-4706-92e2-1fc9d06b4f82",
   "metadata": {},
   "outputs": [
    {
     "name": "stdout",
     "output_type": "stream",
     "text": [
      "4\n"
     ]
    }
   ],
   "source": [
    "a = [2, 4, 9, 12, 1, 5]\n",
    "zaehl = 0\n",
    "for i in range(1,len(a)):\n",
    "    if a[i-1] < a[i]:\n",
    "        zaehl += 1\n",
    "print(zaehl)"
   ]
  },
  {
   "cell_type": "markdown",
   "id": "2b86e0a6-74ce-4706-98fe-67ba2e560f7d",
   "metadata": {
    "jp-MarkdownHeadingCollapsed": true
   },
   "source": [
    "##### Beispiel 6\n",
    "\n",
    "Wir wollen zählen, wieviele Zahlen in einer Liste a zwischen zwei größeren Nachbarn stehen.\n",
    "\n",
    "    a = [15, 23, 4, 16, 8, 42]\n",
    "    2"
   ]
  },
  {
   "cell_type": "code",
   "execution_count": 6,
   "id": "9d93a6e3-1256-45b1-91ae-8443ad7cee87",
   "metadata": {},
   "outputs": [
    {
     "name": "stdout",
     "output_type": "stream",
     "text": [
      "2\n"
     ]
    }
   ],
   "source": [
    "a = [15, 23, 4, 16, 8, 42]\n",
    "zaehl = 0\n",
    "for i in range(1,len(a)-1):\n",
    "    if a[i-1] > a[i] < a[i+1]:\n",
    "        zaehl += 1\n",
    "print(zaehl)"
   ]
  },
  {
   "cell_type": "markdown",
   "id": "ad4620ef-16c8-4f43-a385-997d8dd10272",
   "metadata": {},
   "source": [
    "### Lineare Suche\n",
    "\n",
    "Die lineare Suche sucht in einer Liste oder einer Folge von Werten ein ausgezeichnetes Element. "
   ]
  },
  {
   "cell_type": "markdown",
   "id": "d05f6719-8788-4d4b-b786-e3ab1b3b1bea",
   "metadata": {},
   "source": [
    "##### Beispiel 1\n",
    "\n",
    "Wir suchen nach dem größten Element in einer Liste.\n"
   ]
  },
  {
   "cell_type": "code",
   "execution_count": null,
   "id": "6c386298-271a-41e1-af8d-561980d38921",
   "metadata": {},
   "outputs": [],
   "source": [
    "a = [3, 4, 3, 8, 12, 52, 35, 17, 33]\n",
    "\n",
    "best = a[0]                    # das erste ist das beste - vorläufig\n",
    "for i in range(len(a)):         \n",
    "    if a[i] > best:\n",
    "        best = a[i]            # was besseres gefunden\n",
    "print(best)"
   ]
  },
  {
   "cell_type": "markdown",
   "id": "df1c7614-0129-41d3-992d-a03920cba12d",
   "metadata": {
    "jp-MarkdownHeadingCollapsed": true
   },
   "source": [
    "##### Beispiel 2\n",
    "\n",
    "Wenn das, was das Element als bestes auszeichnet, nicht sein eigener Wert ist, benötigen wir zwei Variablen: *best* und *best_val*. \n",
    "\n",
    "Wir suchen nach dem Element in der Liste, das den größten Rest bei der Division durch 7 hat.\n"
   ]
  },
  {
   "cell_type": "code",
   "execution_count": null,
   "id": "b9b84135-b5c5-49b2-8615-1d2b7492bd2d",
   "metadata": {},
   "outputs": [],
   "source": [
    "a = [3, 4, 3, 8, 12, 52, 35, 17, 33]\n",
    "\n",
    "best = a[0]\n",
    "best_val = a[0] % 7            # das Erste ist das Beste - vorläufig!\n",
    "for i in range(len(a)):        # wir könnten auch bei Index 1 starten\n",
    "    val = a[i] % 7\n",
    "    if val > best_val:\n",
    "        best_val = val         # was besseres gefunden\n",
    "        best = a[i]\n",
    "print(best)"
   ]
  },
  {
   "cell_type": "markdown",
   "id": "d60028ad-a74c-4ae5-83e4-2bcfd9d45bed",
   "metadata": {
    "jp-MarkdownHeadingCollapsed": true
   },
   "source": [
    "##### Beispiel 3\n",
    "\n",
    "Andere Möglichkeit: Wir initialisieren *best* zu Beginn mit *None* und setzen *best_val*  auf einen Wert, der garantiert vom ersten Element übertroffen wird.\n",
    "Hier suchen in einer Liste die Zahl mit dem kleinsten Abstand zur 42. Bei gleichem Abstand wird die größere Zahl genommen."
   ]
  },
  {
   "cell_type": "code",
   "execution_count": null,
   "id": "ed02b8a3-fa54-40d5-9cac-1c701bfd8dbc",
   "metadata": {},
   "outputs": [],
   "source": [
    "a = [87, 38, 104, 71, 46, 33]  \n",
    "best = None\n",
    "best_val = float('inf')        # best hat unendlichen Abstand\n",
    "for i in range(len(a)):\n",
    "    val = abs(a[i]-42)\n",
    "    if val < best_val or (val == best_val and a[i] > best):\n",
    "        best_val = val         # was besseres gefunden\n",
    "        best = a[i]\n",
    "print(best)"
   ]
  },
  {
   "cell_type": "markdown",
   "id": "da401350-a616-4b3b-8cd6-bed8144e7434",
   "metadata": {
    "jp-MarkdownHeadingCollapsed": true
   },
   "source": [
    "##### Beispiel 4\n",
    "\n",
    "Wenn es sein kann, dass kein Element der Liste die Suchkriterien erfüllt, müssen wir nach der Suche abfragen, ob ein Element gefunden wurde. \n",
    "\n",
    "Wir suchen das kleinste Element in der Liste a, das durch 7 teilbar ist."
   ]
  },
  {
   "cell_type": "code",
   "execution_count": 7,
   "id": "efac334c-e1a4-4024-a889-691d0c055e3b",
   "metadata": {},
   "outputs": [
    {
     "name": "stdout",
     "output_type": "stream",
     "text": [
      "Nichts gefunden\n"
     ]
    }
   ],
   "source": [
    "a = [87, 38, 104, 71, 46, 33]  \n",
    "best = float('inf')       \n",
    "for i in range(len(a)):\n",
    "    val = a[i] \n",
    "    if val % 7 == 0 and val < best:\n",
    "        best = val\n",
    "\n",
    "if best == float('inf'):\n",
    "    print('Nichts gefunden')\n",
    "else:\n",
    "    print(best)"
   ]
  }
 ],
 "metadata": {
  "kernelspec": {
   "display_name": "Python 3 (ipykernel)",
   "language": "python",
   "name": "python3"
  },
  "language_info": {
   "codemirror_mode": {
    "name": "ipython",
    "version": 3
   },
   "file_extension": ".py",
   "mimetype": "text/x-python",
   "name": "python",
   "nbconvert_exporter": "python",
   "pygments_lexer": "ipython3",
   "version": "3.11.2"
  },
  "vscode": {
   "interpreter": {
    "hash": "66cef8b640515d50f1dd36261b6c0429b289e00e05e66082067e4520c88a4539"
   }
  }
 },
 "nbformat": 4,
 "nbformat_minor": 5
}
