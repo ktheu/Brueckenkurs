{
 "cells": [
  {
   "cell_type": "markdown",
   "id": "ad4620ef-16c8-4f43-a385-997d8dd10272",
   "metadata": {},
   "source": [
    "### Lineare Suche\n",
    "\n",
    "Die lineare Suche sucht in einer Liste oder einer Folge von Werten ein ausgezeichnetes Element. \n",
    "In der Regel benötigen wir zwei Variablen *best* und *best_val* für die Suche. "
   ]
  },
  {
   "cell_type": "markdown",
   "id": "d05f6719-8788-4d4b-b786-e3ab1b3b1bea",
   "metadata": {},
   "source": [
    "#### Beispiel 1\n",
    "Wenn wir Zugriff auf das erste Element haben, initialisieren wir *best* und *best_val* mit den Werten des ersten Elements.\n",
    "Hier suchen in einer Liste die Zahl mit dem größten Rest bei Division durch 7"
   ]
  },
  {
   "cell_type": "code",
   "execution_count": 15,
   "id": "b9b84135-b5c5-49b2-8615-1d2b7492bd2d",
   "metadata": {},
   "outputs": [
    {
     "name": "stdout",
     "output_type": "stream",
     "text": [
      "20\n"
     ]
    }
   ],
   "source": [
    "a = [3, 5, 3, 8, 12, 20, 35, 17, 35]\n",
    "\n",
    "best = a[0]\n",
    "best_val = a[0] % 7            # das Erste ist das Beste - vorläufig!\n",
    "for i in range(1,len(a)):\n",
    "    val = a[i] % 7\n",
    "    if val > best_val:\n",
    "        best_val = val         # was besseres gefunden\n",
    "        best = a[i]\n",
    "print(best)"
   ]
  },
  {
   "cell_type": "markdown",
   "id": "e9777a2f-f737-43c1-bde8-c7c10ce57689",
   "metadata": {},
   "source": [
    "#### Beispiel 2\n",
    "\n",
    "Andere Möglichkeit: Wir initialisieren *best* zu Beginn mit *None* und setzen *best_val*  auf einen Wert, der garantiert vom ersten Element übertroffen wird.\n",
    "Hier suchen in einer Liste die Zahl mit dem kleinsten Abstand zur 42. Bei gleichem Abstand wird die größere Zahl genommen."
   ]
  },
  {
   "cell_type": "code",
   "execution_count": 17,
   "id": "ed02b8a3-fa54-40d5-9cac-1c701bfd8dbc",
   "metadata": {},
   "outputs": [
    {
     "name": "stdout",
     "output_type": "stream",
     "text": [
      "46\n"
     ]
    }
   ],
   "source": [
    "a = [87, 38, 104, 71, 46, 33]  \n",
    "best = None\n",
    "best_val = float('inf')        # best hat unendlichen Abstand\n",
    "for x in a:\n",
    "    val = abs(x-42)\n",
    "    if val < best_val or (val == best_val and x > best):\n",
    "        best_val = val         # was besseres gefunden\n",
    "        best = x\n",
    "print(best)"
   ]
  },
  {
   "cell_type": "markdown",
   "id": "1c68bb75-0fbe-4013-9db0-8ec47b09e79e",
   "metadata": {},
   "source": [
    "### Binäre Suche\n",
    "\n",
    "In einer sortierten Liste von Zahlen, können wir mit der binären Suche schnell überprüfen, ob ein Element vorhanden ist."
   ]
  },
  {
   "cell_type": "code",
   "execution_count": 1,
   "id": "69487e88-0431-4b8c-9d9f-f99ef54ff479",
   "metadata": {},
   "outputs": [],
   "source": [
    "def binaereSuche(a, x):\n",
    "    '''   \n",
    "    a: sortierte Liste mit Zahlen\n",
    "    x: gesuchte Zahl\n",
    "    returns: Index von x in a, falls x in a\n",
    "             -1              , falls x nicht in a\n",
    "\n",
    "    >>> a = [2,4,7,8,12,15,17,18,21,22,25]\n",
    "    >>> binaereSuche(a,12)\n",
    "    4\n",
    "    '''\n",
    "    L = 0\n",
    "    R = len(a)-1\n",
    "    while L <= R:  \n",
    "        mid = (L+R)//2        # besser: L + (R-L)//2\n",
    "        if a[mid] == x:\n",
    "            return mid\n",
    "        if a[mid] < x:\n",
    "            L = mid + 1\n",
    "        else:\n",
    "            R = mid - 1\n",
    "    return -1"
   ]
  },
  {
   "cell_type": "code",
   "execution_count": 2,
   "id": "1d44fd4b-6194-40bf-b63a-4ec374b7a152",
   "metadata": {},
   "outputs": [
    {
     "data": {
      "text/plain": [
       "4"
      ]
     },
     "execution_count": 2,
     "metadata": {},
     "output_type": "execute_result"
    }
   ],
   "source": [
    "a = [2,4,7,8,12,15,17,18,21,22,25]\n",
    "binaereSuche(a,12)"
   ]
  }
 ],
 "metadata": {
  "kernelspec": {
   "display_name": "Python 3 (ipykernel)",
   "language": "python",
   "name": "python3"
  },
  "language_info": {
   "codemirror_mode": {
    "name": "ipython",
    "version": 3
   },
   "file_extension": ".py",
   "mimetype": "text/x-python",
   "name": "python",
   "nbconvert_exporter": "python",
   "pygments_lexer": "ipython3",
   "version": "3.11.2"
  },
  "vscode": {
   "interpreter": {
    "hash": "66cef8b640515d50f1dd36261b6c0429b289e00e05e66082067e4520c88a4539"
   }
  }
 },
 "nbformat": 4,
 "nbformat_minor": 5
}
