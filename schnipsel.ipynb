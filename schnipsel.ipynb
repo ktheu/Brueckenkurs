{
 "cells": [
  {
   "cell_type": "markdown",
   "id": "d4e93f27-4fdd-455e-bfbd-6b9f6849ca80",
   "metadata": {},
   "source": [
    "### Python-Schnipsel\n",
    "\n",
    "[Reference](https://www.w3schools.com/python/python_reference.asp)"
   ]
  },
  {
   "cell_type": "markdown",
   "id": "9cbefe75-c18f-4dd1-9674-758e75b94c19",
   "metadata": {},
   "source": [
    "##### Jupyter Notebooks"
   ]
  },
  {
   "cell_type": "code",
   "execution_count": null,
   "id": "8e94eee5-6df8-402e-bb86-9a2092b885ff",
   "metadata": {},
   "outputs": [],
   "source": [
    "# Strg + Enter - Ausführen der Zelle und Sprung zur nächsten Zelle  \n",
    "# Shift + Enter - Ausführen der Zelle ohne Sprung in die nächste Zelle \n",
    "# Neue Zelle: Click auf + oberhalb des Hauptarbeitsbereichs  \n",
    "# Zelle löschen: Mit dem Cursor neben die Zelle klicken, dann zweimal Taste D  "
   ]
  },
  {
   "cell_type": "markdown",
   "id": "c517a78a",
   "metadata": {},
   "source": [
    "##### Kommentare"
   ]
  },
  {
   "cell_type": "code",
   "execution_count": null,
   "id": "9603b429",
   "metadata": {},
   "outputs": [],
   "source": [
    "# Einzeiliger Kommentar\n",
    "'''\n",
    "Mehrzeiliger\n",
    "Kommentar\n",
    "'''"
   ]
  },
  {
   "cell_type": "markdown",
   "id": "fb1ef223-d85b-4f48-88f7-9ebbe6466721",
   "metadata": {},
   "source": [
    "##### Variablen"
   ]
  },
  {
   "cell_type": "code",
   "execution_count": null,
   "id": "dfe68083-790c-41fc-b280-ebdd50d65b5e",
   "metadata": {},
   "outputs": [],
   "source": [
    "k = 5        # Zuweisungen eines int (ganze Zahl)\n",
    "x = 2.6      # Zuweisung eines float (Dezimalzahl)\n",
    "s = 'Hallo'  # Zuweisung eines Strings mit einfachen\n",
    "s1 = \"Welt\"  #    oder doppelten Hochkommata"
   ]
  },
  {
   "cell_type": "markdown",
   "id": "e37ceb8f-b517-4a50-812c-4150455c7bbd",
   "metadata": {},
   "source": [
    "##### Ausgabe"
   ]
  },
  {
   "cell_type": "code",
   "execution_count": null,
   "id": "e54b99e2-e0ff-446b-aed0-f061407fcbc6",
   "metadata": {},
   "outputs": [],
   "source": [
    "a = 2\n",
    "b = 7\n",
    "print(a)                 # einen Wert ausgeben\n",
    "print(a, b)              # zwei Werte ausgeben"
   ]
  },
  {
   "cell_type": "markdown",
   "id": "12cd46fe-b46c-4ef4-bf9a-05e97b997c5f",
   "metadata": {},
   "source": [
    "##### Eingabe"
   ]
  },
  {
   "cell_type": "code",
   "execution_count": null,
   "id": "580ae19c-29dc-4ad9-874e-8866185f281e",
   "metadata": {},
   "outputs": [],
   "source": [
    "s = input('Bitte einen String eingeben')                \n",
    "x = int(input('Bitte eine Zahl eingeben'))\n",
    "\n",
    "a, b = input('Bitte zwei Zahlen eingeben').split()    # Eingaben mit Leerzeichen getrennt\n",
    "a = int(a)                                            # String in int umwandeln\n",
    "b = int(b)"
   ]
  },
  {
   "cell_type": "markdown",
   "id": "f7aaf5f3-6a85-4628-875a-04046cde2819",
   "metadata": {},
   "source": [
    "##### Bedingungen"
   ]
  },
  {
   "cell_type": "code",
   "execution_count": null,
   "id": "aa163533-ac72-43a1-9318-ef7cf52f4039",
   "metadata": {},
   "outputs": [],
   "source": [
    "#Vergleichsoperatoren: <  <=  >  >=  ==  !=\n",
    "if a > 10:\n",
    "    print('A')\n",
    "elif a > 5:\n",
    "    print('B')\n",
    "else:\n",
    "    print('C')"
   ]
  },
  {
   "cell_type": "code",
   "execution_count": null,
   "id": "2ec4f7e9-cdb0-46ee-bfff-c4e411f6b976",
   "metadata": {},
   "outputs": [],
   "source": [
    "if a % 2 == 0:       # ist a gerade Zahl?\n",
    "    ..."
   ]
  },
  {
   "cell_type": "code",
   "execution_count": null,
   "id": "c4661566-c9cf-4149-a646-388b4b2135d3",
   "metadata": {},
   "outputs": [],
   "source": [
    "# Boolesche Operatoren\n",
    "a and b      # True wenn a und b True sind\n",
    "a or  b      # True wenn mindestens einer von beiden True ist\n",
    "not a        # dreht den Wahrheitswert um"
   ]
  },
  {
   "cell_type": "markdown",
   "id": "ed91f39a-1d15-4536-8d3d-6deb282bbdb4",
   "metadata": {},
   "source": [
    "##### Schleifen"
   ]
  },
  {
   "cell_type": "code",
   "execution_count": null,
   "id": "7d4a27e7-ca98-4e3e-87cd-17320c145872",
   "metadata": {},
   "outputs": [],
   "source": [
    "for i in range(5):        # 0,1,2,3,4\n",
    "    ...\n",
    "for i in range(2,5):      # 2,3,4\n",
    "    ...\n",
    "for i in range(1,10,2):   # 1,3,5,7,9\n",
    "    ...\n",
    "for i in range(5,-1,-1):  # 5,4,3,2,1,0\n",
    "    ..."
   ]
  },
  {
   "cell_type": "code",
   "execution_count": null,
   "id": "34089775-2411-4bd2-8fc4-8aab608a1afe",
   "metadata": {},
   "outputs": [],
   "source": [
    "while a < 10:             # solange a kleiner 10 ...\n",
    "    ...."
   ]
  },
  {
   "cell_type": "markdown",
   "id": "4b6c5b94-9f3f-43ab-b489-9a91ac7b9c2e",
   "metadata": {},
   "source": [
    "##### Strings"
   ]
  },
  {
   "cell_type": "code",
   "execution_count": null,
   "id": "3b1d4d8b-05bd-4284-8bdd-c7becae115b9",
   "metadata": {},
   "outputs": [],
   "source": [
    "s1 = 'oha'\n",
    "s2 = 'du'\n",
    "s = s1 + ' ' + s2     # Verketten von Strings \n",
    "\n",
    "# Indexing\n",
    "s = 'Habicht'         \n",
    "len(s)       #  7, die Länge des Strings \n",
    "s[0]         # 'H'\n",
    "s[1]         # 'i'\n",
    "s[len(s)-1]  # 't'\n",
    "s[-1]        # 't'\n",
    "s[-2]        # 'h'\n",
    "\n",
    "# Slicing (Teilstrings bilden)\n",
    "s = 'Habicht'\n",
    "s[:3]        # 'Hab'\n",
    "s[3:]        # 'icht'\n",
    "s[2:5]       # 'bic'\n",
    "s[::2]       # jedes zweite Zeichen: 'Hbct'\n",
    "s[::-1]      # den gesamten String rückwärts:  'thcibaH'"
   ]
  },
  {
   "cell_type": "code",
   "execution_count": null,
   "id": "ffc9ceed-e7e5-4177-8508-46bc8a98b96e",
   "metadata": {},
   "outputs": [],
   "source": [
    "# Schleifen mit Strings\n",
    "s = 'Habicht'\n",
    "for i in range(len(s)):             # durch die Zeichen eines Strings mit dem Index laufen.\n",
    "    print(s[i])\n",
    "\n",
    "s = 'Habicht'\n",
    "for c in s:                         # durch die Zeichen eines Strings laufen\n",
    "    print(c)"
   ]
  },
  {
   "cell_type": "markdown",
   "id": "ba6eb31a-d682-46fc-bf65-df0950e063fc",
   "metadata": {},
   "source": [
    "##### Listen"
   ]
  },
  {
   "cell_type": "code",
   "execution_count": null,
   "id": "cf347b78-f490-4969-b396-8870b75d8bde",
   "metadata": {},
   "outputs": [],
   "source": [
    "# Listen\n",
    "a = []        # leere Liste\n",
    "a = [1,2,3]   # eine Liste mit 3 Elementen\n",
    "len(a)        # Länge der Liste\n",
    "a[0]          # 1    Indexing wie bei Strings\n",
    "a[len(a)-1]   # 3\n",
    "a[-1]         # 3         \n",
    "a.append(4)   # [1,2,3,4]   ein Element hinten an die Liste einfügen."
   ]
  },
  {
   "cell_type": "markdown",
   "id": "3b70e2c9-7ac7-43a8-b6b8-0278ba61e88f",
   "metadata": {},
   "source": [
    "##### Dictionaries"
   ]
  },
  {
   "cell_type": "code",
   "execution_count": null,
   "id": "01e9709e-4282-4b83-a0dd-46ad61575f43",
   "metadata": {},
   "outputs": [],
   "source": [
    "m = {}        # leeres dict\n",
    "m = {'A':1, 'B':2}   "
   ]
  },
  {
   "cell_type": "markdown",
   "id": "12aedf49-4aca-42da-825f-2f8031a96a80",
   "metadata": {},
   "source": [
    "##### Funktionen"
   ]
  },
  {
   "cell_type": "code",
   "execution_count": null,
   "id": "86f62175-e142-4fe2-ac5d-a0955fd9a1ab",
   "metadata": {},
   "outputs": [],
   "source": [
    "def add(x, y):\n",
    "    return x + y"
   ]
  }
 ],
 "metadata": {
  "kernelspec": {
   "display_name": "Python 3 (ipykernel)",
   "language": "python",
   "name": "python3"
  },
  "language_info": {
   "codemirror_mode": {
    "name": "ipython",
    "version": 3
   },
   "file_extension": ".py",
   "mimetype": "text/x-python",
   "name": "python",
   "nbconvert_exporter": "python",
   "pygments_lexer": "ipython3",
   "version": "3.11.2"
  }
 },
 "nbformat": 4,
 "nbformat_minor": 5
}
