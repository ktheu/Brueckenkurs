{
 "cells": [
  {
   "cell_type": "markdown",
   "id": "67b0325b-f10f-4016-be3d-4d6f983d8bc6",
   "metadata": {},
   "source": [
    "### Digitalisierung von Audio - Aufgaben \n",
    "\n",
    "**A1**\n",
    "\n",
    "a. Berechne die Datenrate bei einer Aufnahme mit 8 Bit / 22.050 Hz. <br>\n",
    "b. Berechne die Datenmenge für eine Aufnahme, die 5 Minuten dauert.\n",
    "\n",
    "\n",
    "**A2**\n",
    "\n",
    "In einem Tonstudio werden Aufnahmen mit 24 Bit / 48.000 Hz gemacht.\n",
    "\n",
    "a. Berechne die Datenrate <br>\n",
    "b. Berechne die Datenmenge für eine Aufnahme, die 30 Minuten dauert.\n",
    "\n",
    "\n",
    "**A3**\n",
    "\n",
    "a. Welche Nutzdaten für eine Sekunde werden in der Audiodatei gespeichert, wenn eine Samplingtiefe von 3 benutzt wird? <br>\n",
    "b. Wie hoch ist die Datenrate und die Datenmenge?\n",
    "\n",
    "<img src='audio2.png' width='500'>\n",
    "\n",
    "**A4**\n",
    "\n",
    "Informiere dich über die Datenübertragungsraten\n",
    "\n",
    "a. einer Audio CD <br>\n",
    "b. eines USB-Sticks <br>\n",
    "c. eines Spotify-Streams <br>\n",
    "c. eines Gesprächs in Telefonqualität\n",
    "    "
   ]
  }
 ],
 "metadata": {
  "kernelspec": {
   "display_name": "Python 3 (ipykernel)",
   "language": "python",
   "name": "python3"
  },
  "language_info": {
   "codemirror_mode": {
    "name": "ipython",
    "version": 3
   },
   "file_extension": ".py",
   "mimetype": "text/x-python",
   "name": "python",
   "nbconvert_exporter": "python",
   "pygments_lexer": "ipython3",
   "version": "3.11.2"
  }
 },
 "nbformat": 4,
 "nbformat_minor": 5
}
