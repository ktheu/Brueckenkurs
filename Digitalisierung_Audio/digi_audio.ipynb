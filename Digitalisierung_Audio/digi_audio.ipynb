{
 "cells": [
  {
   "cell_type": "markdown",
   "id": "6b1d299b-750d-4060-ba68-560e13682bb8",
   "metadata": {},
   "source": [
    "### Digitalisierung von Audio\n",
    "\n",
    "Töne werden als Schwingungslinie dargestellt. Je größer die **Amplitude**, desto lauter der Ton. Je enger die Schwingungslinie, desto höher der Ton. Sprache und Musik erzeugen kompliziertere Schwingungslinien als einzelne Töne. Die Schwingungslinie nennt man auch **Signal**. Die **Samplingrate** (oder **Abtastrate**) gibt an, wie oft das Signal in einer Sekunde abgetastet wird. Eine übliche Abtastrate beträgt 44.1 kHz, das Signal wird also 44100 mal pro Sekunde abgetastet. Die gemessenen Signalwerte müssen geeignet gerundet werden, um sie speichern zu können. Die **Samplingtiefe** gibt den Speicherplatz an, der für die verschiedenen Signalstärken zur Verfügung stehen. Bei einer üblichen Samplingtiefe von 16 Bit stehen für jeden gemessenen Wert 16 Bit zur Verfügung, damit sind $2^{16} = 65536$ verschiedene Signalstärken möglich. **Datenrate** nennt man die Datenmenge (in Bit), die in einer Sekunde entsteht. Es gilt: Datenrate = Samplingtiefe * Samplingrate. Die **Datenmenge** ist die Datenmenge, die insgesamt entsteht."
   ]
  },
  {
   "cell_type": "markdown",
   "id": "09d5e741-c63c-489b-99a2-6e58f7ed56b4",
   "metadata": {},
   "source": [
    "#### Beispiel\n",
    "\n",
    "Im Beispiel wird das Signal 12 mal pro Sekunde abgetastet. Die Samplingrate beträgt also 12 Hz. Zur Unterscheidung der Signalstärke stehen 8 verschiedene Werte zur Verfügung. Die Samplingtiefe ist also 3. Die Datenrate ist 36 Bit/s.\n",
    "\n",
    "<img src='audio.png' width='500'>\n",
    "\n",
    "Die Audiodatei enthält folgende Nutzdaten (die Leerstellen sind zur Lesbarkeit eingefügt):\n",
    "\n",
    "    000 111 110 100 100 000 001 010 110 100 010 001\n",
    "\n",
    "Damit die Daten richtig interpretiert werden können, müssen in die Audiodatei noch Steuerdaten eingefügt werden:\n",
    "\n",
    "    Wortbreite = 3\n",
    "    Dauer = 1 \n",
    "    tiefster Wert = -3\n"
   ]
  }
 ],
 "metadata": {
  "kernelspec": {
   "display_name": "Python 3 (ipykernel)",
   "language": "python",
   "name": "python3"
  },
  "language_info": {
   "codemirror_mode": {
    "name": "ipython",
    "version": 3
   },
   "file_extension": ".py",
   "mimetype": "text/x-python",
   "name": "python",
   "nbconvert_exporter": "python",
   "pygments_lexer": "ipython3",
   "version": "3.11.2"
  }
 },
 "nbformat": 4,
 "nbformat_minor": 5
}
