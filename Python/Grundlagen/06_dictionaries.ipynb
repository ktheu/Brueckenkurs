{
 "cells": [
  {
   "cell_type": "markdown",
   "id": "ec1eb809-4d4b-4747-8474-a0d0ffef53cd",
   "metadata": {},
   "source": [
    "### Dictionaries\n"
   ]
  },
  {
   "cell_type": "code",
   "execution_count": 3,
   "id": "581976bd-5352-4f2f-a642-661ff18dcfc5",
   "metadata": {},
   "outputs": [],
   "source": [
    "'''\n",
    "Aufgabe 1:\n",
    "Erstelle ein dict m1, dass den Ländern 'England', 'Frankreich' und 'Italien' ihre Hauptstädte zuordnet.\n",
    "\n",
    ">>> m1['England']\n",
    "'London'\n",
    "\n",
    ">>> m1['Frankreich']\n",
    "'Paris'\n",
    "\n",
    ">>> m1['Italien']\n",
    "'Rom'\n",
    "'''\n",
    "m1 = {'England':'London', 'Frankreich':'Paris', 'Italien':'Rom'}\n"
   ]
  },
  {
   "cell_type": "code",
   "execution_count": null,
   "id": "4e824c52-16b2-4250-a0da-01a04b52d0ad",
   "metadata": {},
   "outputs": [],
   "source": [
    "'''\n",
    "Aufgabe 2:\n",
    "Erstelle ein dict m2, dass den Städten London, Paris und Rom ihre Länder zuordnet\n",
    "\n",
    ">>> m2['London']\n",
    "'England'\n",
    "\n",
    ">>> m2['Paris']\n",
    "'Frankreich'\n",
    "\n",
    ">>> m2['Rom']\n",
    "'Italien'\n",
    "'''\n",
    "\n",
    "m2 = {'London':'England', 'Paris':'Frankreich', 'Rom':'Italien'}\n"
   ]
  },
  {
   "cell_type": "code",
   "execution_count": 9,
   "id": "161e49a4-579a-4b08-b799-419e581d4da7",
   "metadata": {},
   "outputs": [],
   "source": [
    "'''\n",
    "Aufgabe 3:\n",
    "Erstelle ein dict m3, dass jeder Zahl in Zeile 1, die Zahl zuordnet, die unter ihr steht.\n",
    "\n",
    "Zeile1:   3  10  12  101  25  17\n",
    "         19   4   1   -4  99  17\n",
    "\n",
    ">>> m3[3]\n",
    "19\n",
    "\n",
    ">>> m3[101]\n",
    "-4\n",
    "'''\n",
    "m3 = {3:19, 10:4, 12:1, 101:-4, 25:99, 17:17}\n"
   ]
  },
  {
   "cell_type": "code",
   "execution_count": 11,
   "id": "f5512912-b537-4f40-9011-cc24108d7235",
   "metadata": {},
   "outputs": [
    {
     "name": "stdin",
     "output_type": "stream",
     "text": [
      "Bitte zwei Strings eingeben: Hallo Welt\n",
      "Bitte zwei Zahlen eingeben: 5 12\n"
     ]
    },
    {
     "name": "stdout",
     "output_type": "stream",
     "text": [
      "{'Hallo': 5, 'Welt': 12}\n"
     ]
    }
   ],
   "source": [
    "'''\n",
    "Aufgabe 4:\n",
    "\n",
    "Lies zwei Strings ein, lies dann zwei Zahlen ein. \n",
    "Erstelle ein dict m, das den Strings jeweils die Zahlen zuordnet \n",
    "und gibt dann das dict aus.\n",
    "\n",
    "Beispieldialog:\n",
    "\n",
    "Bitte zwei Strings eingeben: Hallo Welt\n",
    "Bitte zwei Zahlen eingeben: 5 12\n",
    "{'Hallo': 5, 'Welt': 12}\n",
    "'''\n",
    "\n",
    "s1, s2 = input('Bitte zwei Strings eingeben:').split()\n",
    "x1, x2 = input('Bitte zwei Zahlen eingeben:').split()\n",
    "x1 = int(x1)\n",
    "x2 = int(x2)\n",
    "m = {s1:x1, s2:x2}\n",
    "print(m)\n"
   ]
  },
  {
   "cell_type": "code",
   "execution_count": null,
   "id": "1886c0fb-9c5c-4368-af1e-686aded54a4a",
   "metadata": {},
   "outputs": [],
   "source": []
  }
 ],
 "metadata": {
  "kernelspec": {
   "display_name": "Python 3 (ipykernel)",
   "language": "python",
   "name": "python3"
  },
  "language_info": {
   "codemirror_mode": {
    "name": "ipython",
    "version": 3
   },
   "file_extension": ".py",
   "mimetype": "text/x-python",
   "name": "python",
   "nbconvert_exporter": "python",
   "pygments_lexer": "ipython3",
   "version": "3.11.2"
  }
 },
 "nbformat": 4,
 "nbformat_minor": 5
}
