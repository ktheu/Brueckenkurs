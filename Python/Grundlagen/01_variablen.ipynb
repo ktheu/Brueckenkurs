{
 "cells": [
  {
   "cell_type": "markdown",
   "id": "de679672-25cb-4ffe-97d6-5f0c7b7aed46",
   "metadata": {},
   "source": [
    "#### Variablen"
   ]
  },
  {
   "cell_type": "code",
   "execution_count": null,
   "id": "365acbde-d2ea-4060-9cad-5768e401befb",
   "metadata": {},
   "outputs": [],
   "source": [
    "''' \n",
    "Aufgabe 1:\n",
    "Setze c auf 5\n",
    "Setze d auf 7\n",
    "Verdopple den Wert von c\n",
    "e = c minus d\n",
    "Gib das dreifache von e aus.\n",
    "\n",
    "Erwartete Ausgabe: 9\n",
    "'''\n",
    "# your code"
   ]
  },
  {
   "cell_type": "code",
   "execution_count": null,
   "id": "78d4fc84-cb61-4874-a84d-68e3c63067c4",
   "metadata": {},
   "outputs": [],
   "source": [
    "'''\n",
    "Aufgabe 2:\n",
    "Setze x auf 4\n",
    "Setze y auf 7\n",
    "Erhöhe x um 1\n",
    "Erniedrige y um 2\n",
    "Gib die Summe und das Produkt von x und y aus.\n",
    "\n",
    "Erwartete Ausgabe:\n",
    "10 25\n",
    "'''\n",
    "# your code"
   ]
  },
  {
   "cell_type": "code",
   "execution_count": null,
   "id": "88c2e274-8bc0-48c4-8ad1-4951182a3575",
   "metadata": {},
   "outputs": [],
   "source": [
    "'''\n",
    "Aufgabe 3:\n",
    "Setze a auf 10 und b auf 12.\n",
    "Erhöhe b um das Doppelte von a\n",
    "Erhöhe den Wert von a um 1 und gib dann die Summe von a und b aus.\n",
    "\n",
    "Erwartete Ausgabe:\n",
    "43\n",
    "'''\n",
    "# your code"
   ]
  },
  {
   "cell_type": "code",
   "execution_count": null,
   "id": "ebd569f7-1438-40f3-9222-42f9c5eaaf1e",
   "metadata": {},
   "outputs": [],
   "source": [
    "'''\n",
    "Aufgabe 4:\n",
    "setze r auf 4.5 \n",
    "setze pi auf 3.1415\n",
    "setze flaeche auf pi * r * r\n",
    "gib flaeche aus.\n",
    "\n",
    "\n",
    "Erwartete Ausgabe:\n",
    "63.61537500000001\n",
    "'''\n",
    "# your code"
   ]
  },
  {
   "cell_type": "code",
   "execution_count": null,
   "id": "3f8eeb2b-724a-499c-ab2e-884c4c09d1d0",
   "metadata": {},
   "outputs": [],
   "source": [
    "'''\n",
    "Aufgabe 5:\n",
    "Setze s1 auf 'Hallo'\n",
    "Setze s2 auf 'Welt'\n",
    "Erzeuge unter Verwendung von s1 und s2 einen String s3 mit dem Inhalt 'Hallo Welt!'\n",
    "Gib s3 aus\n",
    "\n",
    "Erwartete Ausgabe: \n",
    "Hallo Welt!\n",
    "'''\n",
    "\n",
    "# your code"
   ]
  },
  {
   "cell_type": "markdown",
   "id": "7cf8ca5e-237c-4b00-9030-d4c660b5ae0b",
   "metadata": {},
   "source": [
    "#### Input"
   ]
  },
  {
   "cell_type": "code",
   "execution_count": null,
   "id": "9a2f1a9a-4390-4bc7-b68d-8e11cf5f7475",
   "metadata": {},
   "outputs": [],
   "source": [
    "'''\n",
    "Aufgabe 8:\n",
    "Lies ein Wort ein und gib es doppelt wieder aus.\n",
    "\n",
    "Beispieldialog:\n",
    "\n",
    "Bitte ein Wort eingeben: Hallo\n",
    "HalloHallo\n",
    "''' \n",
    "# your code"
   ]
  },
  {
   "cell_type": "code",
   "execution_count": null,
   "id": "c558bbf0-ba5b-4541-8636-f72952df4938",
   "metadata": {},
   "outputs": [],
   "source": [
    "'''\n",
    "Aufgabe 9:\n",
    "Lies eine Zahl ein und gib das Doppelte der Zahl aus.\n",
    "\n",
    "Beispieldialog:\n",
    "\n",
    "Bitte eine Zahl eingeben: 5\n",
    "10\n",
    "''' \n",
    "# your code"
   ]
  },
  {
   "cell_type": "code",
   "execution_count": null,
   "id": "9233d1ed-517d-49eb-9f70-46593e12d4da",
   "metadata": {},
   "outputs": [],
   "source": [
    "'''\n",
    "Aufgabe 10:\n",
    "Lies zwei (durch Leerzeichen getrennte) Zahlen ein und gib ihre Summe aus\n",
    "\n",
    "Beispieldialog:\n",
    "\n",
    "Bitte die erste Zahl eingeben: 5\n",
    "Bitte die zweite Zahl eingeben: 3\n",
    "Die Summe ist 8\n",
    "''' \n",
    "# your code"
   ]
  }
 ],
 "metadata": {
  "kernelspec": {
   "display_name": "Python 3 (ipykernel)",
   "language": "python",
   "name": "python3"
  },
  "language_info": {
   "codemirror_mode": {
    "name": "ipython",
    "version": 3
   },
   "file_extension": ".py",
   "mimetype": "text/x-python",
   "name": "python",
   "nbconvert_exporter": "python",
   "pygments_lexer": "ipython3",
   "version": "3.11.2"
  }
 },
 "nbformat": 4,
 "nbformat_minor": 5
}
