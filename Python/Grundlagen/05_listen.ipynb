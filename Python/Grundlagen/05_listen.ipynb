{
 "cells": [
  {
   "cell_type": "markdown",
   "id": "b740b3c4-95bb-4e7f-a940-74763a8f6edc",
   "metadata": {},
   "source": [
    "### Listen "
   ]
  },
  {
   "cell_type": "code",
   "execution_count": 1,
   "id": "601bf1aa-304e-4052-b6ba-d43245c631b1",
   "metadata": {},
   "outputs": [
    {
     "name": "stdout",
     "output_type": "stream",
     "text": [
      "[]\n"
     ]
    }
   ],
   "source": [
    "'''\n",
    "Aufgabe 1:\n",
    "Erstelle eine leere Liste a und gib sie mit print aus\n",
    "\n",
    "Erwartete Ausgabe:\n",
    "[]\n",
    "\n",
    "'''\n",
    "a = []\n",
    "print(a)"
   ]
  },
  {
   "cell_type": "code",
   "execution_count": 2,
   "id": "2171ba53-c9b9-438a-8741-2094a2899d02",
   "metadata": {},
   "outputs": [
    {
     "name": "stdout",
     "output_type": "stream",
     "text": [
      "[1, 2, 3]\n"
     ]
    }
   ],
   "source": [
    "'''\n",
    "Aufgabe 2:\n",
    "Erstelle eine Liste a mit den Zahlen 1,2,3 und gib sie aus.\n",
    "\n",
    "Erwartete Ausgabe:\n",
    "[1,2,3]\n",
    "'''\n",
    "a = [1,2,3]  \n",
    "print(a)\n"
   ]
  },
  {
   "cell_type": "code",
   "execution_count": 3,
   "id": "795760dc-b0c1-4a4c-beaa-48550ff1e854",
   "metadata": {},
   "outputs": [
    {
     "name": "stdout",
     "output_type": "stream",
     "text": [
      "['a', 'b', 'c']\n"
     ]
    }
   ],
   "source": [
    "'''\n",
    "Aufgabe 3:\n",
    "Erstelle eine Liste a mit den Zeichen 'a', 'b', 'c' und gib sie aus.\n",
    "\n",
    "Erwartete Ausgabe:\n",
    "['a', 'b', 'c']\n",
    "'''\n",
    "a = ['a', 'b', 'c']\n",
    "print(a)"
   ]
  },
  {
   "cell_type": "code",
   "execution_count": 4,
   "id": "92bb8afe-e23b-4b66-9ae4-ba15c1e4adbb",
   "metadata": {},
   "outputs": [
    {
     "name": "stdout",
     "output_type": "stream",
     "text": [
      "[5, 9, 33, 14, 5, 26]\n"
     ]
    }
   ],
   "source": [
    "'''\n",
    "Aufgabe 4:\n",
    "Ändere die dritte Zahl in der gegebenen Liste zu einer 33 und gib die Liste aus.\n",
    "\n",
    "Erwartete Ausgabe:\n",
    "[5, 9, 33, 14, 5, 26]\n",
    "'''\n",
    "a = [5, 9, 3, 14, 5, 26]\n",
    "a[2] = 33\n",
    "print(a)\n",
    " "
   ]
  },
  {
   "cell_type": "code",
   "execution_count": 8,
   "id": "8653cb52-0411-452b-a4a7-5c2ede140b71",
   "metadata": {},
   "outputs": [
    {
     "name": "stdin",
     "output_type": "stream",
     "text": [
      "Bitte eine Zahl eingeben: 22\n"
     ]
    },
    {
     "name": "stdout",
     "output_type": "stream",
     "text": [
      "[1, 2, 3, 4, 5, 6, 7, 8, 9, 10, 11, 12, 13, 14, 15, 16, 17, 18, 19, 20, 21, 22]\n"
     ]
    }
   ],
   "source": [
    "'''\n",
    "Aufgabe 5:\n",
    "Lies eine positive Zahl k ein und erstelle eine Liste mit Werten von 1 bis k und gib sie aus\n",
    "Nutze dazu eine for-Schleife und append.\n",
    "\n",
    "Beispieldialoge:\n",
    "\n",
    "Bitte eine Zahl eingeben: 7\n",
    "[1, 2, 3, 4, 5, 6, 7]\n",
    "\n",
    "Bitte eine Zahl eingeben: 1\n",
    "[1]\n",
    "'''\n",
    "k = int(input('Bitte eine Zahl eingeben:'))\n",
    "a = []\n",
    "for i in range(1,k+1):\n",
    "    a.append(i)\n",
    "print(a)\n",
    "        "
   ]
  },
  {
   "cell_type": "code",
   "execution_count": 10,
   "id": "945b405d-236f-4c8c-b771-1d9257d332e6",
   "metadata": {},
   "outputs": [
    {
     "name": "stdin",
     "output_type": "stream",
     "text": [
      "Bitte zwei Zahlen eingeben: 7 3\n"
     ]
    },
    {
     "name": "stdout",
     "output_type": "stream",
     "text": [
      "[7, 7, 7]\n"
     ]
    }
   ],
   "source": [
    "'''\n",
    "Aufgabe 6:\n",
    "Lies in einer Zeile zwei Zahlen x und k ein. Erzeuge eine Liste in der\n",
    "x k-mal vorkommt.\n",
    "\n",
    "Beispieldialoge:\n",
    "\n",
    "Bitte zwei Zahlen eingeben: 3 7\n",
    "[3, 3, 3, 3, 3, 3, 3]\n",
    "\n",
    "Bitte zwei Zahlen eingeben: 7 3\n",
    "[7, 7, 7]\n",
    "'''\n",
    "x, k = input('Bitte zwei Zahlen eingeben:').split()\n",
    "x = int(x)\n",
    "k = int(k)\n",
    "a = []\n",
    "for i in range(k):\n",
    "    a.append(x)\n",
    "print(a)"
   ]
  },
  {
   "cell_type": "code",
   "execution_count": 12,
   "id": "5b5158b5-a4d7-4888-9ac9-6ca91347a035",
   "metadata": {},
   "outputs": [
    {
     "name": "stdin",
     "output_type": "stream",
     "text": [
      "Bitte drei Zahlen eingeben: 0 5 6\n"
     ]
    },
    {
     "name": "stdout",
     "output_type": "stream",
     "text": [
      "[0, 10, 12]\n"
     ]
    }
   ],
   "source": [
    "'''\n",
    "Aufgabe 7:\n",
    "Lies eine Folge von drei Zahlen ein. Gib dann eine Liste aus mit jeweils \n",
    "dem Doppelten der eingegebenen Zahlen.\n",
    "\n",
    "Beispieldialoge:\n",
    "\n",
    "Bitte drei Zahlen eingeben: 1 2 3\n",
    "[2, 4, 6]\n",
    "\n",
    "Bitte drei Zahlen eingeben: 0 5 6  \n",
    "[0, 10, 12]\n",
    "\n",
    "'''\n",
    "a, b, c = input('Bitte drei Zahlen eingeben:').split()\n",
    "a = int(a)\n",
    "b = int(b)\n",
    "c = int(c)\n",
    "a = [2*a, 2*b, 2*c]\n",
    "print(a)\n"
   ]
  }
 ],
 "metadata": {
  "kernelspec": {
   "display_name": "Python 3 (ipykernel)",
   "language": "python",
   "name": "python3"
  },
  "language_info": {
   "codemirror_mode": {
    "name": "ipython",
    "version": 3
   },
   "file_extension": ".py",
   "mimetype": "text/x-python",
   "name": "python",
   "nbconvert_exporter": "python",
   "pygments_lexer": "ipython3",
   "version": "3.11.2"
  }
 },
 "nbformat": 4,
 "nbformat_minor": 5
}
