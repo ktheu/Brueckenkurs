{
 "cells": [
  {
   "cell_type": "markdown",
   "id": "39d1b513-e924-4174-9c6d-ffdc8e8ff69d",
   "metadata": {},
   "source": [
    "#### Funktionen"
   ]
  },
  {
   "cell_type": "code",
   "execution_count": 3,
   "id": "cec104e6-4287-43ba-a9d5-482ecc45e976",
   "metadata": {},
   "outputs": [],
   "source": [
    "'''    \n",
    "# Aufgabe 1\n",
    "\n",
    "Erstelle eine Funktion func1, der eine Zahl k übergeben wird und \n",
    "die das Quadrat dieser Zahl zurückgibt.\n",
    "\n",
    ">>> func1(4)\n",
    "16\n",
    "\n",
    ">>> func1(5)\n",
    "25\n",
    "'''\n",
    "def func1(k):\n",
    "    return k * k"
   ]
  },
  {
   "cell_type": "code",
   "execution_count": 7,
   "id": "4ddeb9f0-0ae2-487b-901f-b5400bb6980f",
   "metadata": {},
   "outputs": [
    {
     "data": {
      "text/plain": [
       "12"
      ]
     },
     "execution_count": 7,
     "metadata": {},
     "output_type": "execute_result"
    }
   ],
   "source": [
    "'''    \n",
    "# Aufgabe 2\n",
    "\n",
    "Erstelle eine Funktion func2, der zwei Zahlen übergeben werden und  \n",
    "die das Doppelte der Summe der beiden Zahlen zurückgibt.\n",
    "\n",
    ">>> func2(4, 3)\n",
    "14\n",
    "\n",
    ">>> func2(1, 5)\n",
    "12\n",
    "'''\n",
    "def func2(a, b):\n",
    "    return 2 * (a+b)\n",
    "\n",
    "func2(1, 5)"
   ]
  },
  {
   "cell_type": "code",
   "execution_count": 3,
   "id": "33180c26-f731-42f9-83df-6174a6cf1d5a",
   "metadata": {},
   "outputs": [
    {
     "data": {
      "text/plain": [
       "12"
      ]
     },
     "execution_count": 3,
     "metadata": {},
     "output_type": "execute_result"
    }
   ],
   "source": [
    "'''    \n",
    "# Aufgabe 3\n",
    "\n",
    "Erstelle eine Funktion func3, der zwei Zahlen übergeben werden und  \n",
    "die das Dreifache der kleineren Zahl zurückgibt.\n",
    "\n",
    ">>> func3(1, 5)\n",
    "3\n",
    "\n",
    ">>> func2(17, 4)\n",
    "12\n",
    "'''\n",
    "def func3(a, b):\n",
    "    if a < b:\n",
    "        return 3*a\n",
    "    return 3*b\n",
    "\n",
    "func3(17, 4)"
   ]
  },
  {
   "cell_type": "code",
   "execution_count": 6,
   "id": "7585c4e5-6498-4d2f-8281-92e569799138",
   "metadata": {},
   "outputs": [
    {
     "data": {
      "text/plain": [
       "True"
      ]
     },
     "execution_count": 6,
     "metadata": {},
     "output_type": "execute_result"
    }
   ],
   "source": [
    "'''\n",
    "Aufgabe 4\n",
    "Erstelle eine Funktion func4, der eine Liste übergeben wird und die\n",
    "True zurückgibt, wenn die Anzahl der Listenelemente gerade ist, sonst False.\n",
    "\n",
    ">>> func4([1,2,3])\n",
    "False\n",
    "\n",
    ">>> func4(['a','b'])\n",
    "True  \n",
    "'''\n",
    "def func4(a):\n",
    "    return len(a) % 2 == 0  \n"
   ]
  },
  {
   "cell_type": "code",
   "execution_count": 8,
   "id": "3f7ffe21-a897-4f32-990c-e34e77e1b7c7",
   "metadata": {},
   "outputs": [
    {
     "data": {
      "text/plain": [
       "10"
      ]
     },
     "execution_count": 8,
     "metadata": {},
     "output_type": "execute_result"
    }
   ],
   "source": [
    "'''\n",
    "Aufgabe 5\n",
    "Erstelle eine Funktion func5, der eine nicht-leere Liste mit Zahlen übergeben wird und die \n",
    "die Summe der ersten und letzten Zahl der Liste zurückgibt.\n",
    "\n",
    ">>> func5([1,2,3])\n",
    "4\n",
    "\n",
    ">>> func5([7,10,24,19,12,3])\n",
    "10\n",
    "'''\n",
    "def func5(a):\n",
    "    return a[0]+a[-1]\n",
    "\n"
   ]
  },
  {
   "cell_type": "code",
   "execution_count": null,
   "id": "50b3b8fe-dbda-4076-a75d-447b22e6bec2",
   "metadata": {},
   "outputs": [],
   "source": [
    "'''\n",
    "Aufgabe 6\n",
    "Erstelle eine Funktion func6, der zwei Zahlen x und grenze übergeben werden und die\n",
    "'YES' zurückgibt, wenn x unterhalb der grenze ist, sonst 'NO'.\n",
    "\n",
    "\n",
    ">>> func8(4,10)\n",
    "'YES'\n",
    "\n",
    ">>> func6(9,6)\n",
    "'NO'\n",
    "'''\n",
    "def func6(x, grenze):\n",
    "    if x < grenze:\n",
    "        return 'YES'\n",
    "    else:\n",
    "        return 'NO'"
   ]
  }
 ],
 "metadata": {
  "kernelspec": {
   "display_name": "Python 3 (ipykernel)",
   "language": "python",
   "name": "python3"
  },
  "language_info": {
   "codemirror_mode": {
    "name": "ipython",
    "version": 3
   },
   "file_extension": ".py",
   "mimetype": "text/x-python",
   "name": "python",
   "nbconvert_exporter": "python",
   "pygments_lexer": "ipython3",
   "version": "3.11.2"
  }
 },
 "nbformat": 4,
 "nbformat_minor": 5
}
