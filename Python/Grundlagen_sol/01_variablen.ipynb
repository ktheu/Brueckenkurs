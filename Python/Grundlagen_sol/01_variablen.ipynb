{
 "cells": [
  {
   "cell_type": "markdown",
   "id": "de679672-25cb-4ffe-97d6-5f0c7b7aed46",
   "metadata": {},
   "source": [
    "#### Variablen"
   ]
  },
  {
   "cell_type": "code",
   "execution_count": 3,
   "id": "365acbde-d2ea-4060-9cad-5768e401befb",
   "metadata": {},
   "outputs": [
    {
     "name": "stdout",
     "output_type": "stream",
     "text": [
      "9\n"
     ]
    }
   ],
   "source": [
    "''' \n",
    "Aufgabe 1:\n",
    "Setze c auf 5\n",
    "Setze d auf 7\n",
    "Verdopple den Wert von c\n",
    "e = c minus d\n",
    "Gib das dreifache von e aus.\n",
    "\n",
    "Erwartete Ausgabe: 9\n",
    "'''\n",
    "c = 5\n",
    "d = 7\n",
    "c = c * 2\n",
    "e = c - d\n",
    "print(3*e)"
   ]
  },
  {
   "cell_type": "code",
   "execution_count": 4,
   "id": "78d4fc84-cb61-4874-a84d-68e3c63067c4",
   "metadata": {},
   "outputs": [
    {
     "name": "stdout",
     "output_type": "stream",
     "text": [
      "10 25\n"
     ]
    }
   ],
   "source": [
    "'''\n",
    "Aufgabe 2:\n",
    "Setze x auf 4\n",
    "Setze y auf 7\n",
    "Erhöhe x um 1\n",
    "Erniedrige y um 2\n",
    "Gib die Summe und das Produkt von x und y aus.\n",
    "\n",
    "Erwartete Ausgabe:\n",
    "10 25\n",
    "'''\n",
    "x = 4\n",
    "y = 7\n",
    "x = x + 1\n",
    "y = y - 2\n",
    "print(x+y, x*y)"
   ]
  },
  {
   "cell_type": "code",
   "execution_count": 5,
   "id": "88c2e274-8bc0-48c4-8ad1-4951182a3575",
   "metadata": {},
   "outputs": [
    {
     "name": "stdout",
     "output_type": "stream",
     "text": [
      "43\n"
     ]
    }
   ],
   "source": [
    "'''\n",
    "Aufgabe 3:\n",
    "Setze a auf 10 und b auf 12.\n",
    "Erhöhe b um das Doppelte von a\n",
    "Erhöhe den Wert von a um 1 und gib dann die Summe von a und b aus.\n",
    "\n",
    "Erwartete Ausgabe:\n",
    "43\n",
    "'''\n",
    "a = 10\n",
    "b = 12\n",
    "b = b + 2*a\n",
    "a = a+1\n",
    "print(a+b)"
   ]
  },
  {
   "cell_type": "code",
   "execution_count": 7,
   "id": "ebd569f7-1438-40f3-9222-42f9c5eaaf1e",
   "metadata": {},
   "outputs": [
    {
     "name": "stdout",
     "output_type": "stream",
     "text": [
      "63.61537500000001\n"
     ]
    }
   ],
   "source": [
    "'''\n",
    "Aufgabe 4:\n",
    "setze r auf 4.5 \n",
    "setze pi auf 3.1415\n",
    "setze flaeche auf pi * r * r\n",
    "gib flaeche aus.\n",
    "\n",
    "\n",
    "Erwartete Ausgabe:\n",
    "63.61537500000001\n",
    "'''\n",
    "r = 4.5\n",
    "pi = 3.1415\n",
    "flaeche = pi * r * r\n",
    "print(flaeche)"
   ]
  },
  {
   "cell_type": "code",
   "execution_count": 8,
   "id": "3f8eeb2b-724a-499c-ab2e-884c4c09d1d0",
   "metadata": {},
   "outputs": [
    {
     "name": "stdout",
     "output_type": "stream",
     "text": [
      "Hallo Welt!\n"
     ]
    }
   ],
   "source": [
    "'''\n",
    "Aufgabe 5:\n",
    "Setze s1 auf 'Hallo'\n",
    "Setze s2 auf 'Welt'\n",
    "Erzeuge unter Verwendung von s1 und s2 einen String s3 mit dem Inhalt 'Hallo Welt!'\n",
    "Gib s3 aus\n",
    "\n",
    "Erwartete Ausgabe: \n",
    "Hallo Welt!\n",
    "'''\n",
    "\n",
    "s1 = 'Hallo'\n",
    "s2 = 'Welt'\n",
    "s3 = s1 + ' ' + s2 + '!'\n",
    "print(s3)"
   ]
  },
  {
   "cell_type": "markdown",
   "id": "7cf8ca5e-237c-4b00-9030-d4c660b5ae0b",
   "metadata": {},
   "source": [
    "#### Input"
   ]
  },
  {
   "cell_type": "code",
   "execution_count": 9,
   "id": "9a2f1a9a-4390-4bc7-b68d-8e11cf5f7475",
   "metadata": {},
   "outputs": [
    {
     "name": "stdin",
     "output_type": "stream",
     "text": [
      "Bitte ein Wort eingeben: Hallo\n"
     ]
    },
    {
     "name": "stdout",
     "output_type": "stream",
     "text": [
      "HalloHallo\n"
     ]
    }
   ],
   "source": [
    "'''\n",
    "Aufgabe 8:\n",
    "Lies ein Wort ein und gib es doppelt wieder aus.\n",
    "\n",
    "Beispieldialog:\n",
    "\n",
    "Bitte ein Wort eingeben: Hallo\n",
    "HalloHallo\n",
    "''' \n",
    "# your code\n",
    "s = input('Bitte ein Wort eingeben:')\n",
    "print(s+s)\n"
   ]
  },
  {
   "cell_type": "code",
   "execution_count": 10,
   "id": "c558bbf0-ba5b-4541-8636-f72952df4938",
   "metadata": {},
   "outputs": [
    {
     "name": "stdin",
     "output_type": "stream",
     "text": [
      "Bitte eine Zahl eingeben: 5\n"
     ]
    },
    {
     "name": "stdout",
     "output_type": "stream",
     "text": [
      "10\n"
     ]
    }
   ],
   "source": [
    "'''\n",
    "Aufgabe 9:\n",
    "Lies eine ganze Zahl ein und gib das Doppelte der Zahl aus.\n",
    "\n",
    "Beispieldialog:\n",
    "\n",
    "Bitte eine Zahl eingeben: 5\n",
    "10\n",
    "''' \n",
    "x = int(input('Bitte eine Zahl eingeben:'))\n",
    "print(2*x)"
   ]
  },
  {
   "cell_type": "code",
   "execution_count": 11,
   "id": "9233d1ed-517d-49eb-9f70-46593e12d4da",
   "metadata": {},
   "outputs": [
    {
     "name": "stdin",
     "output_type": "stream",
     "text": [
      "Bitte zwei Zahlen eingeben 5 8\n"
     ]
    },
    {
     "name": "stdout",
     "output_type": "stream",
     "text": [
      "13\n"
     ]
    }
   ],
   "source": [
    "'''\n",
    "Aufgabe 10:\n",
    "Lies zwei (durch Leerzeichen getrennte) Zahlen ein und gib ihre Summe aus\n",
    "\n",
    "Beispieldialog:\n",
    "\n",
    "Bitte die erste Zahl eingeben: 5\n",
    "Bitte die zweite Zahl eingeben: 3\n",
    "Die Summe ist 8\n",
    "''' \n",
    "a, b = input('Bitte zwei Zahlen eingeben').split() \n",
    "a = int(a)\n",
    "b = int(b)\n",
    "print(a+b)"
   ]
  }
 ],
 "metadata": {
  "kernelspec": {
   "display_name": "Python 3 (ipykernel)",
   "language": "python",
   "name": "python3"
  },
  "language_info": {
   "codemirror_mode": {
    "name": "ipython",
    "version": 3
   },
   "file_extension": ".py",
   "mimetype": "text/x-python",
   "name": "python",
   "nbconvert_exporter": "python",
   "pygments_lexer": "ipython3",
   "version": "3.11.2"
  }
 },
 "nbformat": 4,
 "nbformat_minor": 5
}
