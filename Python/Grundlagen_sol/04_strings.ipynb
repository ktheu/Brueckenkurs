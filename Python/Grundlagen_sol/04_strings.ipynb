{
 "cells": [
  {
   "cell_type": "markdown",
   "id": "4ad38369-4bb8-428f-8592-889b7731e3bd",
   "metadata": {},
   "source": [
    "### Indexing bei Strings"
   ]
  },
  {
   "cell_type": "code",
   "execution_count": 3,
   "id": "d51370fe-228b-4a5d-bb74-a7d29619c6f7",
   "metadata": {},
   "outputs": [
    {
     "name": "stdin",
     "output_type": "stream",
     "text": [
      "Bitte eine String eingeben: Habicht\n"
     ]
    },
    {
     "name": "stdout",
     "output_type": "stream",
     "text": [
      "7\n"
     ]
    }
   ],
   "source": [
    "'''\n",
    "Aufgabe 1:\n",
    "Lies einen String ein und gib seine Länge aus.\n",
    "\n",
    "Beispieldialoge:\n",
    "\n",
    "Bitte einen String eingeben: Hallo\n",
    "5\n",
    "\n",
    "Bitte einen String eingeben: Habicht\n",
    "7\n",
    "\n",
    "'''\n",
    "s = input('Bitte eine String eingeben:')\n",
    "print(len(s))"
   ]
  },
  {
   "cell_type": "code",
   "execution_count": 5,
   "id": "8b499bd5-64b0-4c71-a1a7-2f1b57128695",
   "metadata": {},
   "outputs": [
    {
     "name": "stdin",
     "output_type": "stream",
     "text": [
      "Bitte eine String eingeben: Habicht\n"
     ]
    },
    {
     "name": "stdout",
     "output_type": "stream",
     "text": [
      "Ht\n"
     ]
    }
   ],
   "source": [
    "'''\n",
    "Aufgabe 2:\n",
    "Lies einen String s ein.\n",
    "Gib einen String aus, der aus dem ersten und letzten Zeichen von s besteht.\n",
    "\n",
    "Beispieldialoge:\n",
    "\n",
    "Bitte einen String eingeben: Hallo\n",
    "Ho\n",
    "\n",
    "Bitte einen String eingeben: Habicht\n",
    "Ht\n",
    "'''\n",
    "s = input('Bitte eine String eingeben:')\n",
    "s1 = s[0]+s[-1]\n",
    "print(s1)"
   ]
  },
  {
   "cell_type": "code",
   "execution_count": 9,
   "id": "aefd2325-04a3-49ab-ad11-6160a35c332b",
   "metadata": {},
   "outputs": [
    {
     "name": "stdin",
     "output_type": "stream",
     "text": [
      "Bitte eine String eingeben: HURRA\n"
     ]
    },
    {
     "name": "stdout",
     "output_type": "stream",
     "text": [
      "0\n"
     ]
    }
   ],
   "source": [
    "''' \n",
    "Aufgabe 3:\n",
    "Das Programm zählt die Anzahl der kleinen Buchstaben 'a' in einem String.\n",
    "\n",
    "Beispieldialoge:\n",
    "\n",
    "Bitte einen String eingeben:  Hallo\n",
    "Anzahl kleine a: 1\n",
    "\n",
    "Bitte einen String eingeben:  Tralala\n",
    "Anzahl kleine a: 3\n",
    "\n",
    "Bitte einen String eingeben:  HURRA\n",
    "Anzahl kleine a: 0\n",
    "\n",
    "'''\n",
    "s = input('Bitte eine String eingeben:')\n",
    "zaehl = 0\n",
    "for i in range(len(s)):\n",
    "    if s[i] == 'a':\n",
    "        zaehl+=1\n",
    "print(zaehl)\n"
   ]
  },
  {
   "cell_type": "code",
   "execution_count": 13,
   "id": "bcacc854-1211-4e6d-a9f2-f062ecf44f53",
   "metadata": {},
   "outputs": [
    {
     "name": "stdin",
     "output_type": "stream",
     "text": [
      "Bitte eine String eingeben: dfdfdfdfdfdfdfdfdf\n"
     ]
    },
    {
     "name": "stdout",
     "output_type": "stream",
     "text": [
      "NO\n"
     ]
    }
   ],
   "source": [
    "'''\n",
    "Aufgabe 4:\n",
    "Lies eine String s ein. Wenn s länger als 10 Zeichen ist und mit dem Zeichen 'A' beginnt,\n",
    "gib 'YES' aus, sonst 'NO'.\n",
    "\n",
    "Beispieldialoge:\n",
    "\n",
    "Bitte einen String eingeben: Afdasfasfdsaf\n",
    "YES\n",
    "\n",
    "Bitte einen String eingeben: Adam\n",
    "NO\n",
    "\n",
    "Bitte einen String eingeben: dfdfdfdfdfdfdfdfdf\n",
    "NO\n",
    "'''\n",
    "s = input('Bitte eine String eingeben:')\n",
    "if len(s) > 10 and s[0] == 'A':\n",
    "    print('YES')\n",
    "else:\n",
    "    print('NO')"
   ]
  },
  {
   "cell_type": "code",
   "execution_count": 16,
   "id": "6e08f175-2309-4564-8fdd-e6e82c49d491",
   "metadata": {},
   "outputs": [
    {
     "name": "stdin",
     "output_type": "stream",
     "text": [
      "Bitte eine String eingeben: oo\n"
     ]
    },
    {
     "name": "stdout",
     "output_type": "stream",
     "text": [
      "NO\n"
     ]
    }
   ],
   "source": [
    "'''\n",
    "Aufgabe 5:\n",
    "Lies einen String s ein. Wenn die Länge von s größer als 2 ist und das letzte Zeichen 'a' oder 'o' ist\n",
    "gib 'YES' aus, sonst 'NO'\n",
    "\n",
    "Beispieldialoge:\n",
    "\n",
    "Bitte einen String eingeben: Hallo\n",
    "YES\n",
    "\n",
    "Bitte einen String eingeben: Halli\n",
    "NO\n",
    "\n",
    "Bitte einen String eingeben: oo\n",
    "NO\n",
    "'''\n",
    "s = input('Bitte eine String eingeben:')\n",
    "if len(s) > 2 and (s[-1] == 'a' or s[-1] == 'o'):\n",
    "    print('YES')\n",
    "else:\n",
    "    print('NO')"
   ]
  }
 ],
 "metadata": {
  "kernelspec": {
   "display_name": "Python 3 (ipykernel)",
   "language": "python",
   "name": "python3"
  },
  "language_info": {
   "codemirror_mode": {
    "name": "ipython",
    "version": 3
   },
   "file_extension": ".py",
   "mimetype": "text/x-python",
   "name": "python",
   "nbconvert_exporter": "python",
   "pygments_lexer": "ipython3",
   "version": "3.11.2"
  }
 },
 "nbformat": 4,
 "nbformat_minor": 5
}
